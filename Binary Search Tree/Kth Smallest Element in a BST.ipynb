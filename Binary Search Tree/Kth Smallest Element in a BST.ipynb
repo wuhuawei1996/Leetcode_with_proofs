{
 "cells": [
  {
   "cell_type": "markdown",
   "metadata": {},
   "source": [
    "# Kth Smallest Element in a BST\n",
    "Given the `root` of a binary search tree, and an integer `k`, return the <code>k<sup>th</sup></code> smallest value (1-indexed) of all the values of the nodes in the tree.\n",
    "\n",
    "**Constraints:**\n",
    "- The number of nodes in the tree is `n`.\n",
    "- `1 <= k <= n <= 104`.\n",
    "- `0 <= Node.val <= 104`."
   ]
  },
  {
   "cell_type": "markdown",
   "metadata": {},
   "source": [
    "# Examples\n",
    "\n",
    "**Example 1:**\n",
    "```\n",
    "Input: root = [3,1,4,null,2], k = 1\n",
    "Output: 1\n",
    "```\n",
    "\n",
    "**Example 2:**\n",
    "```\n",
    "Input: root = [5,3,6,2,4,null,null,1], k = 3\n",
    "Output: 3\n",
    "```"
   ]
  },
  {
   "cell_type": "code",
   "execution_count": null,
   "metadata": {},
   "outputs": [],
   "source": [
    "from typing import Optional\n",
    "\n",
    "# Definition for a binary tree node.\n",
    "\n",
    "\n",
    "class TreeNode:\n",
    "    def __init__(self, val=0, left=None, right=None):\n",
    "        self.val = val\n",
    "        self.left = left\n",
    "        self.right = right\n",
    "\n",
    "\n",
    "class Solution:\n",
    "    def kthSmallest(self, root: Optional[TreeNode], k: int) -> int:\n",
    "        stack = []\n",
    "        cur = root\n",
    "        count = 0\n",
    "        while stack or cur:\n",
    "            while cur:\n",
    "                stack.append(cur)\n",
    "                cur = cur.left\n",
    "            node = stack.pop()\n",
    "            count += 1\n",
    "            if count == k:\n",
    "                return node.val\n",
    "            cur = node.right"
   ]
  }
 ],
 "metadata": {
  "kernelspec": {
   "display_name": "base",
   "language": "python",
   "name": "python3"
  },
  "language_info": {
   "name": "python",
   "version": "3.11.7"
  }
 },
 "nbformat": 4,
 "nbformat_minor": 2
}
