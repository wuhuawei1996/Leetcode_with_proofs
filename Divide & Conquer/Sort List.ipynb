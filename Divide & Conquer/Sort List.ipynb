{
 "cells": [
  {
   "cell_type": "markdown",
   "metadata": {},
   "source": [
    "# Sort List\n",
    "Given the `head` of a linked list, return the list after sorting it in ascending order."
   ]
  },
  {
   "cell_type": "markdown",
   "metadata": {},
   "source": [
    "# Examples\n",
    "\n",
    "**Example 1:**\n",
    "```\n",
    "Input: head = [4,2,1,3]\n",
    "Output: [1,2,3,4]\n",
    "```\n",
    "\n",
    "**Example 2:**\n",
    "```\n",
    "Input: head = [-1,5,3,4,0]\n",
    "Output: [-1,0,3,4,5]\n",
    "```\n",
    "\n",
    "**Example 3:**\n",
    "```\n",
    "Input: head = []\n",
    "Output: []\n",
    "```"
   ]
  },
  {
   "cell_type": "code",
   "execution_count": null,
   "metadata": {},
   "outputs": [],
   "source": [
    "'''\n",
    "    Quick sort\n",
    "'''\n",
    "\n",
    "from typing import Optional\n",
    "\n",
    "# Definition for singly-linked list.\n",
    "\n",
    "\n",
    "class ListNode:\n",
    "    def __init__(self, val=0, next=None):\n",
    "        self.val = val\n",
    "        self.next = next\n",
    "\n",
    "\n",
    "class Solution:\n",
    "    def sortList(self, head: Optional[ListNode]) -> Optional[ListNode]:\n",
    "        if head == None:\n",
    "            return None\n",
    "        pointer = head.next\n",
    "        pivot = head.val\n",
    "        dummy = ListNode(val=10, next=head)\n",
    "        head = dummy\n",
    "        while pointer != None:\n",
    "            if pointer.val < pivot:\n",
    "                pointer.val, head.next.next.val = head.next.next.val, pointer.val\n",
    "                head = head.next\n",
    "            pointer = pointer.next\n",
    "\n",
    "        dummy.next.val, head.next.val = head.next.val, dummy.next.val\n",
    "        right = head.next.next\n",
    "        mid = head.next\n",
    "        head.next = None\n",
    "\n",
    "        self.sortList(dummy.next)\n",
    "        self.sortList(right)\n",
    "        head.next = mid\n",
    "        mid.next = right\n",
    "\n",
    "        return dummy.next"
   ]
  },
  {
   "cell_type": "markdown",
   "metadata": {},
   "source": [
    "$\\quad$ Here's a problem: when designing `quicksort·, we usually select the pivot randomly to minimize the chances of encountering the worst-case scenario. However, with linked lists, it is not possible to randomly select an element, so the performance of quicksort may not be optimal."
   ]
  }
 ],
 "metadata": {
  "kernelspec": {
   "display_name": "base",
   "language": "python",
   "name": "python3"
  },
  "language_info": {
   "name": "python",
   "version": "3.11.7"
  }
 },
 "nbformat": 4,
 "nbformat_minor": 2
}
