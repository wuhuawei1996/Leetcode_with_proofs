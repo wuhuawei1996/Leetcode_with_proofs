{
 "cells": [
  {
   "cell_type": "markdown",
   "metadata": {},
   "source": [
    "# Quick Sort"
   ]
  },
  {
   "cell_type": "code",
   "execution_count": 35,
   "metadata": {},
   "outputs": [],
   "source": [
    "def quickSort(array):\n",
    "    if len(array) == 0: # or if len(array) <= 1\n",
    "        return array\n",
    "    pivot = array[0]\n",
    "    left = [x for x in array[1:] if x <= pivot]\n",
    "    right = [x for x in array[1:] if x > pivot]\n",
    "    return quickSort(left) + [pivot] + quickSort(right)"
   ]
  },
  {
   "cell_type": "markdown",
   "metadata": {},
   "source": [
    "$\\quad$ We can also sort the list in place, as follows:"
   ]
  },
  {
   "cell_type": "code",
   "execution_count": 36,
   "metadata": {},
   "outputs": [],
   "source": [
    "def partition(array, start, end):\n",
    "    pivot = array[start]\n",
    "    j = start + 1\n",
    "    for i in range(start+1, end+1):\n",
    "        if array[i] < pivot:\n",
    "            array[i], array[j] = array[j], array[i]\n",
    "            j += 1\n",
    "\n",
    "    array[start], array[j-1] = array[j-1], array[start]\n",
    "    return j - 1\n",
    "\n",
    "\n",
    "def _quickSort(array, start, end):\n",
    "    if start <= end:\n",
    "        mid = partition(array, start, end)\n",
    "        _quickSort(array, start, mid-1)\n",
    "        _quickSort(array, mid + 1, end)\n",
    "\n",
    "\n",
    "def quickSort(array):\n",
    "    _quickSort(array, 0, len(array)-1)"
   ]
  },
  {
   "cell_type": "markdown",
   "metadata": {},
   "source": [
    "$\\quad$ The worst-case time complexity of QuickSort (i.e., when the list is already sorted) is $O(n^2)$. To avoid this situation, we randomly select the pivot element."
   ]
  },
  {
   "cell_type": "code",
   "execution_count": 37,
   "metadata": {},
   "outputs": [],
   "source": [
    "import random\n",
    "\n",
    "\n",
    "def partition(array, start, end):\n",
    "    pivot_index = random.randint(start, end)    # close interval [start, end]\n",
    "    array[pivot_index], array[start] = array[start], array[pivot_index]\n",
    "    pivot = array[start]\n",
    "    j = start + 1\n",
    "    for i in range(start+1, end+1):\n",
    "        if array[i] < pivot:\n",
    "            array[i], array[j] = array[j], array[i]\n",
    "            j += 1\n",
    "\n",
    "    array[start], array[j-1] = array[j-1], array[start]\n",
    "    return j - 1\n",
    "\n",
    "\n",
    "def _quickSort(array, start, end):\n",
    "    if start <= end:\n",
    "        mid = partition(array, start, end)\n",
    "        _quickSort(array, start, mid-1)\n",
    "        _quickSort(array, mid + 1, end)\n",
    "\n",
    "\n",
    "def quickSort(array):\n",
    "    _quickSort(array, 0, len(array)-1)"
   ]
  }
 ],
 "metadata": {
  "kernelspec": {
   "display_name": "base",
   "language": "python",
   "name": "python3"
  },
  "language_info": {
   "codemirror_mode": {
    "name": "ipython",
    "version": 3
   },
   "file_extension": ".py",
   "mimetype": "text/x-python",
   "name": "python",
   "nbconvert_exporter": "python",
   "pygments_lexer": "ipython3",
   "version": "3.11.7"
  }
 },
 "nbformat": 4,
 "nbformat_minor": 2
}
