{
 "cells": [
  {
   "cell_type": "markdown",
   "metadata": {},
   "source": [
    "# Merge k Sorted Lists\n",
    "\n",
    "You are given an array of `k` linked-lists `lists`, each linked-list is sorted in ascending order.\n",
    "\n",
    "Merge all the linked-lists into one sorted linked-list and return it."
   ]
  },
  {
   "cell_type": "markdown",
   "metadata": {},
   "source": [
    "## Examples\n",
    "\n",
    "**Example 1:**\n",
    "```\n",
    "Input: lists = [[1,4,5],[1,3,4],[2,6]]\n",
    "Output: [1,1,2,3,4,4,5,6]\n",
    "```\n",
    "Explanation: The linked-lists are:\n",
    "[\n",
    "  1->4->5,\n",
    "  1->3->4,\n",
    "  2->6\n",
    "].\n",
    "Merge them into one sorted list:\n",
    "1->1->2->3->4->4->5->6\n",
    "\n",
    "**Example 2:**\n",
    "```\n",
    "Input: lists = []\n",
    "Output: []\n",
    "```\n",
    "\n",
    "**Example 3:**\n",
    "```\n",
    "Input: lists = [[]]\n",
    "Output: []\n",
    "```"
   ]
  },
  {
   "cell_type": "code",
   "execution_count": null,
   "metadata": {},
   "outputs": [],
   "source": [
    "'''\n",
    "    Method 1: Pairwise Merging\n",
    "    Time Complexity: O(Nlogk) (k = len(lists), N = total of nodes in lists)\n",
    "'''\n",
    "from typing import Optional\n",
    "\n",
    "# Definition for singly-linked list.\n",
    "\n",
    "\n",
    "class ListNode:\n",
    "    def __init__(self, val=0, next=None):\n",
    "        self.val = val\n",
    "        self.next = next\n",
    "\n",
    "\n",
    "class Solution:\n",
    "    def merge(self, list_1, list_2):\n",
    "        dummy = ListNode()\n",
    "        tail = dummy\n",
    "        while list_1 and list_2:\n",
    "            if list_1.val <= list_2.val:\n",
    "                tail.next = list_1\n",
    "                list_1 = list_1.next\n",
    "            else:\n",
    "                tail.next = list_2\n",
    "                list_2 = list_2.next\n",
    "            tail = tail.next\n",
    "        tail.next = list_1 or list_2\n",
    "\n",
    "        return dummy.next\n",
    "\n",
    "    def mergeKLists(self, lists: list[Optional[ListNode]]) -> Optional[ListNode]:\n",
    "        if len(lists) == 0:\n",
    "            return None\n",
    "        while len(lists) > 1:\n",
    "            if len(lists) % 2 == 1:\n",
    "                lists.append(None)\n",
    "            pairs = [(lists[i], lists[i + 1]) for i in range(0, len(lists), 2)]\n",
    "            lists = [self.merge(list_1, list_2) for list_1, list_2 in pairs]\n",
    "\n",
    "        return lists[0]"
   ]
  }
 ],
 "metadata": {
  "kernelspec": {
   "display_name": "base",
   "language": "python",
   "name": "python3"
  },
  "language_info": {
   "name": "python",
   "version": "3.11.7"
  }
 },
 "nbformat": 4,
 "nbformat_minor": 2
}
