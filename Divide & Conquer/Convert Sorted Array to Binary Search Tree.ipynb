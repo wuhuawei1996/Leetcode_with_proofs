{
 "cells": [
  {
   "cell_type": "markdown",
   "metadata": {},
   "source": [
    "# Convert Sorted Array to Binary Search Tree\n",
    "Given an integer array `nums` where the elements are sorted in ascending order, convert it to a height-balanced binary search tree.\n",
    "\n",
    "A height-balanced binary tree is a binary tree in which the depth of the two subtrees of every node never differs by more than one."
   ]
  },
  {
   "cell_type": "markdown",
   "metadata": {},
   "source": [
    "## Examples\n",
    "**Example 1:**\n",
    "```\n",
    "Input: nums = [-10,-3,0,5,9]\n",
    "Output: [0,-3,9,-10,null,5]\n",
    "```\n",
    "Explanation: [0,-10,5,null,-3,null,9] is also accepted:\n",
    "\n",
    "**Example 2:**\n",
    "```\n",
    "Input: nums = [1,3]\n",
    "Output: [3,1]\n",
    "```\n",
    "Explanation: [1,null,3] and [3,1] are both height-balanced BSTs."
   ]
  },
  {
   "cell_type": "code",
   "execution_count": null,
   "metadata": {},
   "outputs": [],
   "source": [
    "from typing import Optional\n",
    "\n",
    "# Definition for a binary tree node.\n",
    "\n",
    "\n",
    "class TreeNode:\n",
    "    def __init__(self, val=0, left=None, right=None):\n",
    "        self.val = val\n",
    "        self.left = left\n",
    "        self.right = right\n",
    "\n",
    "\n",
    "class Solution:\n",
    "    def sortedArrayToBST(self, nums: list[int]) -> Optional[TreeNode]:\n",
    "        def helper(start, end):\n",
    "            if end < start:\n",
    "                return None\n",
    "\n",
    "            mid = (start + end) // 2\n",
    "            root = TreeNode(val=nums[mid])\n",
    "            root.left = helper(start, mid - 1)\n",
    "            root.right = helper(mid + 1, end)\n",
    "            return root\n",
    "\n",
    "        return helper(0, len(nums) - 1)"
   ]
  }
 ],
 "metadata": {
  "kernelspec": {
   "display_name": "base",
   "language": "python",
   "name": "python3"
  },
  "language_info": {
   "name": "python",
   "version": "3.11.7"
  }
 },
 "nbformat": 4,
 "nbformat_minor": 2
}
