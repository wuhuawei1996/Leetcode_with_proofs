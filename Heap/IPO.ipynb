{
 "cells": [
  {
   "cell_type": "markdown",
   "metadata": {},
   "source": [
    "# IPO\n",
    "\n",
    "Suppose LeetCode will start its IPO soon. In order to sell a good price of its shares to Venture Capital, LeetCode would like to work on some projects to increase its capital before the IPO. Since it has limited resources, it can only finish at most `k` distinct projects before the IPO. Help LeetCode design the best way to maximize its total capital after finishing at most `k` distinct projects.\n",
    "\n",
    "You are given `n` projects where the <code>i<sup>th</sup></code> project has a pure profit `profits[i]` and a minimum capital of `capital[i]` is needed to start it.\n",
    "\n",
    "Initially, you have `w` capital. When you finish a project, you will obtain its pure profit and the profit will be added to your total capital.\n",
    "\n",
    "Pick a list of at most `k` distinct projects from given projects to maximize your final capital, and return the final maximized capital.\n",
    "\n",
    "The answer is guaranteed to fit in a 32-bit signed integer."
   ]
  },
  {
   "cell_type": "markdown",
   "metadata": {},
   "source": [
    "## Examples\n",
    "\n",
    "**Example 1:**\n",
    "```\n",
    "Input: k = 2, w = 0, profits = [1,2,3], capital = [0,1,1]\n",
    "Output: 4\n",
    "```\n",
    "Explanation: \n",
    "- Since your initial capital is 0, you can only start the project indexed 0.\n",
    "- After finishing it you will obtain profit 1 and your capital becomes 1.\n",
    "- With capital 1, you can either start the project indexed 1 or the project indexed 2.\n",
    "- Since you can choose at most 2 projects, you need to finish the project indexed 2 to get the maximum capital.\n",
    "- Therefore, output the final maximized capital, which is 0 + 1 + 3 = 4.\n",
    "\n",
    "**Example 2:**\n",
    "```\n",
    "Input: k = 3, w = 0, profits = [1,2,3], capital = [0,1,2]\n",
    "Output: 6\n",
    "```"
   ]
  },
  {
   "cell_type": "markdown",
   "metadata": {},
   "source": [
    "## Analysis\n",
    "\n",
    "$\\quad$ At the initial moment, we only have $w$ capital, so we can only select projects with initial capital requirements less than or equal to $w$. \n",
    "\n",
    "$\\quad$ Assume that $capital[i]$, $capital[j]\\le w$. If $profits[i]\\ge profits[j]$, we declare that if the $i$-th project is chosen as the first completed project, then the maximum capital eventually obtained will be greater than or equal to that of the $j$-th project as the first completed project.\n",
    "\n",
    "$\\quad$ Assume that in the optimal plan where the $j$-th project is chosen as the first project (referred to as Plan A), the $i$-th project is not selected for completion. We can then construct Plan B as follows: first complete the $i$-th project, and then complete all the projects included in Plan A except for the $j$-th project in sequence. Since the profit obtained after completing project $i$ is greater than or equal to that obtained after completing project $j$, Plan B is feasible. Clearly, the final capital obtained by executing Plan B will be greater than or equal to those obtained by executing Plan A.\n",
    "\n",
    "$\\quad$ Assume that in the optimal plan where the $j$-th project is chosen as the first project (referred to as Plan A), the $i$-th project is selected for completion. We can then construct Plan B as follows: first complete the $i$-th project, then complete $j$-th project, and finally complete all the projects included in Plan A except for the $i$-th and $j$-th projects in sequence. Since the profit obtained after completing project $i$ is greater than or equal to that obtained after completing project $j$, Plan B is feasible. Clearly, the final capital obtained by executing Plan B will be greater than or equal to those obtained by executing Plan A.\n",
    "\n",
    "$\\quad$ Now, assume that the $i$-th project is the one with the highest profit among the projects with an initial capital requirement less than or equal to $w$. Based on the above discussion, there must exist an optimal plan where the $i$-th project is completed first. Therefore, we first complete the $i$-th project, and at the end of this step, the total capital becomes $w+profit[i]$. Next, we identify all the projects with an initial capital requirement less than or equal to $w+profit[i]$, excluding the $i$-th project, and select the one with the highest profit as the second project to be completed. Following this logic, we repeat the process until $k$ projects are completed or all the projects are completed."
   ]
  },
  {
   "cell_type": "code",
   "execution_count": null,
   "metadata": {},
   "outputs": [],
   "source": [
    "import heapq\n",
    "\n",
    "\n",
    "class Solution:\n",
    "    def findMaximizedCapital(\n",
    "        self, k: int, w: int, profits: list[int], capital: list[int]\n",
    "    ) -> int:\n",
    "        n = len(profits)\n",
    "        arr = sorted(zip(capital, profits))\n",
    "        heap = []\n",
    "        cur_cap, completed, i = w, 0, 0\n",
    "        while completed < k:\n",
    "            while i < n and arr[i][0] <= cur_cap:\n",
    "                heapq.heappush(heap, -arr[i][1])\n",
    "                i += 1\n",
    "            if len(heap) > 0:\n",
    "                cur_cap -= heapq.heappop(heap)\n",
    "                completed += 1\n",
    "            else:\n",
    "                break\n",
    "\n",
    "        return cur_cap"
   ]
  },
  {
   "cell_type": "code",
   "execution_count": null,
   "metadata": {},
   "outputs": [],
   "source": [
    "import heapq\n",
    "\n",
    "\n",
    "class Solution:\n",
    "    def findMaximizedCapital(\n",
    "        self, k: int, w: int, profits: list[int], capital: list[int]\n",
    "    ) -> int:\n",
    "        n = len(profits)\n",
    "        arr = sorted(zip(capital, profits))\n",
    "        heap = []\n",
    "        cur_cap, i = w, 0\n",
    "        for _ in range(k):\n",
    "            while i < n and arr[i][0] <= cur_cap:\n",
    "                heapq.heappush(heap, -arr[i][1])\n",
    "                i += 1\n",
    "            if len(heap) > 0:\n",
    "                cur_cap -= heapq.heappop(heap)\n",
    "            else:\n",
    "                break\n",
    "\n",
    "        return cur_cap"
   ]
  }
 ],
 "metadata": {
  "kernelspec": {
   "display_name": "base",
   "language": "python",
   "name": "python3"
  },
  "language_info": {
   "name": "python",
   "version": "3.11.7"
  }
 },
 "nbformat": 4,
 "nbformat_minor": 2
}
