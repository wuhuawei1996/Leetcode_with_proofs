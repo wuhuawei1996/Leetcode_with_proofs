{
 "cells": [
  {
   "cell_type": "markdown",
   "metadata": {
    "vscode": {
     "languageId": "raw"
    }
   },
   "source": [
    "# Min Heap"
   ]
  },
  {
   "cell_type": "code",
   "execution_count": 15,
   "metadata": {},
   "outputs": [],
   "source": [
    "class MinHeap:\n",
    "    def __init__(self, initial_list=None):\n",
    "        # Add a dummy element to make the indices of child and parent nodes more convenient.\n",
    "        self._heap = [0]\n",
    "        if initial_list:\n",
    "            self._heap += initial_list\n",
    "            self._heapify()\n",
    "\n",
    "    def _heapify(self):\n",
    "        \"\"\"\n",
    "        Convert the current list into a valid min-heap.\n",
    "        Begin with the father node of the last node\n",
    "        Time complexity: O(n), where n is the size of the heap.\n",
    "        \"\"\"\n",
    "        n = len(self._heap) - 1\n",
    "        for i in range(n // 2, 0, -1):\n",
    "            self._sink(i)\n",
    "\n",
    "    def _swim(self, i):\n",
    "        while i > 1 and self._heap[i // 2] > self._heap[i]:\n",
    "            self._heap[i // 2], self._heap[i] = self._heap[i], self._heap[i // 2]\n",
    "            i = i // 2\n",
    "\n",
    "    def _sink(self, i):\n",
    "        while 2 * i <= len(self._heap) - 1:\n",
    "            j = 2 * i\n",
    "            if j + 1 <= len(self._heap) - 1 and self._heap[j + 1] < self._heap[j]:\n",
    "                j += 1\n",
    "\n",
    "            if self._heap[i] <= self._heap[j]:\n",
    "                break\n",
    "\n",
    "            self._heap[i], self._heap[j] = self._heap[j], self._heap[i]\n",
    "            i = j\n",
    "\n",
    "    def insert(self, val):\n",
    "        if val is None:\n",
    "            raise ValueError(\"Cannot insert None into the heap.\")\n",
    "        self._heap.append(val)\n",
    "        self._swim(len(self._heap) - 1)\n",
    "\n",
    "    def replaceInsert(self,val):\n",
    "        if val is None:\n",
    "            raise ValueError(\"Cannot insert None into the heap.\")\n",
    "        if len(self._heap) <= 1 or self._heap[1] <= val:\n",
    "            self._heap[1] = val\n",
    "            self._sink(1)\n",
    "\n",
    "    def deleteMin(self):\n",
    "        if len(self._heap) <= 1:\n",
    "            return None\n",
    "        if len(self._heap) == 2:\n",
    "            return self._heap.pop()\n",
    "        min_val = self._heap[1]\n",
    "        self._heap[1] = self._heap.pop()\n",
    "        self._sink(1)\n",
    "        return min_val\n",
    "\n",
    "    def min(self):\n",
    "        return self._heap[1] if len(self._heap) >= 2 else None"
   ]
  },
  {
   "cell_type": "markdown",
   "metadata": {},
   "source": [
    "## In the Python Standard Library\n",
    "\n",
    "```Python\n",
    "import heapq\n",
    "\n",
    "nums = [3, 2, 1, 5, 6, 4]\n",
    "# Turns the list into a heap in-place\n",
    "heapq.heapify(nums)\n",
    "# Pushes an element onto the heap\n",
    "heapq.heappush(nums, 3)\n",
    "# Pops the smallest element from the heap\n",
    "min_val = heapq.heappop(heap)\n",
    "# Pops and returns the smallest element, and pushes the new element  \n",
    "min_val = heapq.heapreplace(heap, 7) \n",
    "```\n",
    "\n",
    "```Python\n",
    "nums = [3, 2, 1, 5, 6, 4]\n",
    "# Returns the n smallest elements from the heap\n",
    "smallest = heapq.nsmallest(3, nums)\n",
    "# Returns the n largest elements from the heap\n",
    "largest = heapq.nlargest(3, nums)\n",
    "```\n"
   ]
  }
 ],
 "metadata": {
  "kernelspec": {
   "display_name": "base",
   "language": "python",
   "name": "python3"
  },
  "language_info": {
   "codemirror_mode": {
    "name": "ipython",
    "version": 3
   },
   "file_extension": ".py",
   "mimetype": "text/x-python",
   "name": "python",
   "nbconvert_exporter": "python",
   "pygments_lexer": "ipython3",
   "version": "3.11.7"
  }
 },
 "nbformat": 4,
 "nbformat_minor": 2
}
