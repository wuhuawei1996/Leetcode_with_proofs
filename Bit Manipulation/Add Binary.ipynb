{
 "cells": [
  {
   "cell_type": "markdown",
   "metadata": {},
   "source": [
    "# Add Binary\n",
    "Given two binary strings `a` and `b`, return their sum as a binary string.\n",
    "\n",
    "Note that each string does not contain leading zeros except for the zero itself."
   ]
  },
  {
   "cell_type": "markdown",
   "metadata": {},
   "source": [
    "## Examples\n",
    "\n",
    "**Example 1:**\n",
    "``\n",
    "Input: a = \"11\", b = \"1\"\n",
    "Output: \"100\"\n",
    "``\n",
    "\n",
    "**Example 2:**\n",
    "``\n",
    "Input: a = \"1010\", b = \"1011\"\n",
    "Output: \"10101\"\n",
    "``"
   ]
  },
  {
   "cell_type": "code",
   "execution_count": null,
   "metadata": {},
   "outputs": [],
   "source": [
    "class Solution:\n",
    "    def addBinary(self, a: str, b: str) -> str:\n",
    "        if len(a) < len(b):\n",
    "            a, b = b, a\n",
    "        result = []\n",
    "        isCarry = False\n",
    "        for i in range(len(a)):\n",
    "            _sum = (\n",
    "                (int(b[-(i + 1)]) if i < len(b) else 0)\n",
    "                + int(a[-(i + 1)])\n",
    "                + (1 if isCarry else 0)\n",
    "            )\n",
    "            isCarry = _sum >= 2\n",
    "            result.append(str(_sum % 2))\n",
    "\n",
    "        if isCarry:\n",
    "            result.append(\"1\")\n",
    "\n",
    "        return \"\".join(result[::-1])"
   ]
  },
  {
   "cell_type": "code",
   "execution_count": null,
   "metadata": {},
   "outputs": [],
   "source": [
    "class Solution:\n",
    "    def addBinary(self, a: str, b: str) -> str:\n",
    "        if len(a) < len(b):\n",
    "            a, b = b, a\n",
    "        result = []\n",
    "        isCarry = False\n",
    "        for i in range(len(a)):\n",
    "            _sum = (\n",
    "                (int(b[-(i + 1)]) if i < len(b) else 0)\n",
    "                + int(a[-(i + 1)])\n",
    "                + (1 if isCarry else 0)\n",
    "            )\n",
    "            isCarry = _sum >= 2\n",
    "            result.append(str(_sum & 1))\n",
    "\n",
    "        if isCarry:\n",
    "            result.append(\"1\")\n",
    "\n",
    "        return \"\".join(result[::-1])"
   ]
  },
  {
   "cell_type": "code",
   "execution_count": null,
   "metadata": {},
   "outputs": [],
   "source": [
    "class Solution:\n",
    "    def addBinary(self, a: str, b: str) -> str:\n",
    "        return bin(int(a, 2) + int(b, 2))[2:]"
   ]
  }
 ],
 "metadata": {
  "kernelspec": {
   "display_name": "base",
   "language": "python",
   "name": "python3"
  },
  "language_info": {
   "name": "python",
   "version": "3.11.7"
  }
 },
 "nbformat": 4,
 "nbformat_minor": 2
}
