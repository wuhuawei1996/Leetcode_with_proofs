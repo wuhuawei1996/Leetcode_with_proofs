{
 "cells": [
  {
   "cell_type": "markdown",
   "metadata": {},
   "source": [
    "# Number of 1 Bits\n",
    "Given a positive integer `n`, write a function that returns the number of \n",
    "set bits in its binary representation (also known as the Hamming weight)."
   ]
  },
  {
   "cell_type": "markdown",
   "metadata": {},
   "source": [
    "## Examples\n",
    "\n",
    "**Example 1:**\n",
    "```\n",
    "Input: n = 11\n",
    "Output: 3\n",
    "```\n",
    "Explanation: The input binary string 1011 has a total of three set bits.\n",
    "\n",
    "**Example 2:**\n",
    "```\n",
    "Input: n = 128\n",
    "Output: 1\n",
    "```\n",
    "Explanation: The input binary string 10000000 has a total of one set bit.\n",
    "\n",
    "**Example 3:**\n",
    "```\n",
    "Input: n = 2147483645\n",
    "Output: 30\n",
    "```\n",
    "Explanation: The input binary string 1111111111111111111111111111101 has a total of thirty set bits."
   ]
  },
  {
   "cell_type": "code",
   "execution_count": null,
   "metadata": {},
   "outputs": [],
   "source": [
    "class Solution:\n",
    "    def hammingWeight(self, n: int) -> int:\n",
    "        count = 0\n",
    "        while n > 0:\n",
    "            quotient, remainder = divmod(n, 2)\n",
    "            if remainder == 1:\n",
    "                count += 1\n",
    "            n = quotient\n",
    "\n",
    "        return count"
   ]
  },
  {
   "cell_type": "code",
   "execution_count": 1,
   "metadata": {},
   "outputs": [],
   "source": [
    "class Solution:\n",
    "    def hammingWeight(self, n: int) -> int:\n",
    "        count = 0\n",
    "        while n > 0:\n",
    "            count += n & 1\n",
    "            n = n >> 1\n",
    "\n",
    "        return count"
   ]
  }
 ],
 "metadata": {
  "kernelspec": {
   "display_name": "base",
   "language": "python",
   "name": "python3"
  },
  "language_info": {
   "codemirror_mode": {
    "name": "ipython",
    "version": 3
   },
   "file_extension": ".py",
   "mimetype": "text/x-python",
   "name": "python",
   "nbconvert_exporter": "python",
   "pygments_lexer": "ipython3",
   "version": "3.11.7"
  }
 },
 "nbformat": 4,
 "nbformat_minor": 2
}
