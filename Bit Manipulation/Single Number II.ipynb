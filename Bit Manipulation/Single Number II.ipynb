{
 "cells": [
  {
   "cell_type": "markdown",
   "metadata": {},
   "source": [
    "# Single Number II\n",
    "Given an integer array `nums` where every element appears three times except for one, which appears exactly once. Find the single element and return it.\n",
    "\n",
    "You must implement a solution with a linear runtime complexity and use only constant extra space."
   ]
  },
  {
   "cell_type": "markdown",
   "metadata": {},
   "source": [
    "## Examples\n",
    "\n",
    "**Example 1:**\n",
    "```\n",
    "Input: nums = [2,2,3,2]\n",
    "Output: 3\n",
    "```\n",
    "\n",
    "**Example 2:**\n",
    "```\n",
    "Input: nums = [0,1,0,1,0,1,99]\n",
    "Output: 99\n",
    "```"
   ]
  },
  {
   "cell_type": "markdown",
   "metadata": {},
   "source": [
    "## Analysis\n",
    "\n",
    "$\\quad$ Assume that $nums=[x_0,x_1,\\cdots,x_{n-1}]$. For simplicity, let's assume that each integer in $nums$ can be represented using 8 bits. For any $i\\in[0,n-1]$, denote the binary representation of $x_i$ as \n",
    "$$x_i=a_{i,7}a_{i,6}\\cdots a_{i,1}a_{i,0}.$$\n",
    "For any $j\\in[0,7]$, let $s_j$ be the sum of the $j$-th bits of $x_0,x_1,\\cdots,x_{n-1}$, i.e.,\n",
    "$$s_j=\\sum_{i=0}^{n-1}a_{i,j}.$$\n",
    "Then, the $j$-th bit of the single element is\n",
    "$$b_j=\\left\\{\\begin{array}{ll}  1, & \\text{if } s_j\\equiv 1\\ ({\\rm{mod}}\\ 3),\\\\ 0, & \\text{if } s_j\\equiv 0\\ ({\\rm{mod}}\\ 3). \\end{array}\\right.$$\n",
    "\n",
    "$\\quad$ For any $0\\le k\\le n-1$ and $j\\in[0,1]$, put \n",
    "$$s_j(k)=\\sum\\limits_{i=0}^ka_{i,j},$$\n",
    "$$b_j(k)=\\begin{cases}  1, & \\text{if } s_j(k)\\equiv 1\\ ({\\rm{mod}}\\ 3),\\\\ 0, & \\text{if } s_j(k)\\not\\equiv 1\\ ({\\rm{mod}}\\ 3), \\end{cases}$$\n",
    "and\n",
    "$$c_j(k)=\\begin{cases}  1, & \\text{if } s_j(k)\\equiv 2\\ ({\\rm{mod}}\\ 3),\\\\ 0, & \\text{if } s_j(k)\\not\\equiv 2\\ ({\\rm{mod}}\\ 3). \\end{cases}$$\n",
    "For any $0\\le k\\le n-2$ and $j\\in[0,1]$, we have $b_j(k+1)=1$ if and only if \n",
    "$$s_j(k+1)=s_j(k)+a_{k+1,j}\\equiv 1\\ ({\\rm{mod}}\\ 3),$$\n",
    "if and only if \n",
    "$$\n",
    "\\begin{align*}\n",
    "&\\Big(s_j(k)\\equiv 0\\ ({\\rm{mod}}\\ 3)\\wedge a_{k+1,j}=1\\Big)\\vee\\Big(s_j(k)\\equiv 1\\ ({\\rm{mod}}\\ 3)\\wedge a_{k+1,j}=0\\Big)\\\\\n",
    "=\\ &\\Bigg(\\Big(s_j(k)\\not\\equiv 1\\ ({\\rm{mod}}\\ 3)\\setminus s_j(k)\\equiv 2\\ ({\\rm{mod}}\\ 3)\\Big)\\wedge a_{k+1,j}=1\\Bigg)\\\\\n",
    "&\\quad\\vee\\Big(s_j(k)\\equiv 1\\ ({\\rm{mod}}\\ 3)\\wedge a_{k+1,j}=0\\Big)\\\\\n",
    "=\\ &\\Bigg(\\Big(s_j(k)\\not\\equiv 1\\ ({\\rm{mod}}\\ 3)\\setminus s_j(k)\\equiv 2\\ ({\\rm{mod}}\\ 3)\\Big)\\wedge a_{k+1,j}=1\\Bigg)\\\\\n",
    "&\\quad\\vee\\Bigg(\\Big(s_j(k)\\equiv 1\\ ({\\rm{mod}}\\ 3)\\setminus s_j(k)\\equiv 2\\ ({\\rm{mod}}\\ 3)\\Big)\\wedge a_{k+1,j}=0\\Bigg)\\\\\n",
    "=\\ &\\Bigg(\\Big(s_j(k)\\equiv 1\\ ({\\rm{mod}}\\ 3)\\wedge a_{k+1,j}=0\\Big)\\vee\\Big(s_j(k)\\not\\equiv 1\\ ({\\rm{mod}}\\ 3)\\wedge a_{k+1,j}=1\\Big)\\Bigg)\\\\\n",
    "&\\quad\\setminus\\Big(s_j(k)\\equiv 2\\ ({\\rm{mod}}\\ 3)\\Big)\\\\\n",
    "=\\ &\\Big(s_j(k)\\equiv 1\\ ({\\rm{mod}}\\ 3)\\oplus a_{k+1,j}=1\\Big)\\setminus\\Big(s_j(k)\\equiv 2\\ ({\\rm{mod}}\\ 3)\\Big),\n",
    "\\end{align*}\n",
    "$$\n",
    "which implies that \n",
    "$$b_j(k+1)=\\Big(b_j(k)\\wedge a_{k+1,j}\\Big)\\&\\sim c_j(k).$$\n",
    "Similarly, for any $0\\le k\\le n-2$ and $j\\in[0,1]$, we have \n",
    "$$c_j(k+1)=\\Big(c_j(k)\\wedge a_{k+1,j}\\Big)\\&\\sim b_j(k).$$\n",
    "If we put $b_j(-1)=c_j(-1)=0$, then we have\n",
    "$$b_j(0)=\\Big(b_j(-1)\\wedge a_{1,j}\\Big)\\&\\sim c_j(-1),$$\n",
    "and\n",
    "$$c_j(0)=\\Big(c_j(-1)\\wedge a_{1,j}\\Big)\\&\\sim b_j(-1).$$"
   ]
  },
  {
   "cell_type": "code",
   "execution_count": null,
   "metadata": {},
   "outputs": [],
   "source": [
    "class Solution:\n",
    "    def singleNumber(self, nums: list[int]) -> int:\n",
    "        ones, twos = 0, 0\n",
    "        for num in nums:\n",
    "            ones = (ones ^ num) & ~twos\n",
    "            twos = (twos ^ num) & ~ones\n",
    "\n",
    "        return ones"
   ]
  }
 ],
 "metadata": {
  "kernelspec": {
   "display_name": "base",
   "language": "python",
   "name": "python3"
  },
  "language_info": {
   "name": "python",
   "version": "3.11.7"
  }
 },
 "nbformat": 4,
 "nbformat_minor": 2
}
