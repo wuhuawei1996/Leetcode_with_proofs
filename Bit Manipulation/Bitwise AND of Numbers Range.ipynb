{
 "cells": [
  {
   "cell_type": "markdown",
   "metadata": {},
   "source": [
    "# Bitwise AND of Numbers Range\n",
    "\n",
    "Given two integers `left` and `right` that represent the range `[left, right]`, return the bitwise AND of all numbers in this range, inclusive.\n",
    "\n",
    "Constraints:\n",
    "- `0 <= left <= right <= 231 - 1`"
   ]
  },
  {
   "cell_type": "markdown",
   "metadata": {},
   "source": [
    "## Examples\n",
    "\n",
    "**Example 1:**\n",
    "```\n",
    "Input: left = 5, right = 7\n",
    "Output: 4\n",
    "```\n",
    "\n",
    "**Example 2:**\n",
    "```\n",
    "Input: left = 0, right = 0\n",
    "Output: 0\n",
    "```\n",
    "\n",
    "**Example 3:**\n",
    "```\n",
    "Input: left = 1, right = 2147483647\n",
    "Output: 0\n",
    "```"
   ]
  },
  {
   "cell_type": "markdown",
   "metadata": {},
   "source": [
    "## Analysis\n",
    "\n",
    "$\\quad$ For simplicity, let's assume that each integer in $[left,right]$ can be represented using 4 bits. Let $S$ be the bitwise AND of all integers in $[left,right]$, whose binary representation is $s_3s_2s_1s_0$. By the definition of bitwise AND, for any $0\\le i\\le 3$, $s_i=0$ if and only if there exists an integer $a=a_3a_2a_1a_0\\in[left,right]$ with $a_i=0$.\n",
    "\n",
    "$\\quad$ Note that for any $0\\le i\\le 3$, $a_i=0$ if and only if\n",
    "$$a_i\\equiv r_i\\ ({\\rm{mod}}\\ 2^{i+1})$$\n",
    "for some $r_i\\in[0,2^i-1]$. It follows that for any $0\\le i\\le 3$, $s_i=0$ if and only if there exist integers $k_i$, $r_i$ such that $0\\le r_i\\le 2^i-1$ and \n",
    "$$left\\le 2^{i+1}\\cdot k_i+r_i\\le right.\\qquad (1)$$\n",
    "We claim that for any $1\\le i\\le 3$, the above condition is equivalent to saying that there exist integers $k_{i}'$, $r_{i}'$ such that $0\\le r_{i}'\\le 2^{i-1}-1$ and \n",
    "$$\\left\\lfloor\\frac{left}{2}\\right\\rfloor\\le 2^{i}\\cdot k_{i}'+r_{i}'\\le\\left\\lfloor\\frac{right}{2}\\right\\rfloor.\\qquad (2)$$\n",
    "\n",
    "$\\quad$ Assume that $left=2a+s$, $right=2b+t$ with $s,t\\in\\{0,1\\}$.\n",
    "- $(1)\\Rightarrow(2)$: By (1), we have \n",
    "    $$2a+s\\le 2^{i+1}\\cdot k_i+r_i\\le 2b+t,$$\n",
    "    which implies that \n",
    "    $$a+\\frac{s}{2}\\le 2^i\\cdot k_i+\\frac{r_i}{2}\\le b+\\frac{t}{2}.$$\n",
    "    Assume that $r_i=2c_i+d_i$ with $d_i\\in\\{0,1\\}$. Then we have\n",
    "    $$a+\\frac{s}{2}\\le 2^i\\cdot k_i+c_i+\\frac{d_i}{2}\\le b+\\frac{t}{2}.$$\n",
    "    Take $k_{i}'=k_i$, $r_{i}'=c_i$. Then $r_i'\\in[0,2^{i-1}-1]$ and\n",
    "    $$\\left\\lfloor\\frac{left}{2}\\right\\rfloor=a\\le 2^i\\cdot k_i+c_i\\le b=\\left\\lfloor\\frac{right}{2}\\right\\rfloor.$$\n",
    "- $(2)\\Rightarrow(1)$: Similarly.\n",
    "\n",
    "$\\quad$ Thus, by the principle of mathematical induction, for any $0\\le i\\le 3$, $s_i=0$ if and only if there exists an integer $k_i$ such that\n",
    "$$\\left\\lfloor\\frac{left}{2^i}\\right\\rfloor\\le 2k_i\\le\\left\\lfloor\\frac{right}{2^i}\\right\\rfloor.$$\n",
    "This is equivalent to saying that\n",
    "$$\\left\\lfloor\\frac{right}{2^i}\\right\\rfloor-\\left\\lfloor\\frac{left}{2^i}\\right\\rfloor\\ge 1$$\n",
    "or\n",
    "$$\\left\\lfloor\\frac{left}{2^i}\\right\\rfloor=\\left\\lfloor\\frac{right}{2^i}\\right\\rfloor$$\n",
    "are even.\n"
   ]
  },
  {
   "cell_type": "code",
   "execution_count": 2,
   "metadata": {},
   "outputs": [],
   "source": [
    "class Solution:\n",
    "    def rangeBitwiseAnd(self, left: int, right: int) -> int:\n",
    "        if left == 0 and right == 0:\n",
    "            return 0\n",
    "            \n",
    "        result = []\n",
    "        while left > 0 or right > 0:\n",
    "            if right > left or (right & 1 != 1):\n",
    "                result.append(\"0\")\n",
    "            else:\n",
    "                result.append(\"1\")\n",
    "            left >>= 1\n",
    "            right >>= 1\n",
    "\n",
    "        return int(\"\".join(result[::-1]), 2)"
   ]
  },
  {
   "cell_type": "markdown",
   "metadata": {},
   "source": [
    "## Analysis\n",
    "\n",
    "$\\quad$ There is another method. Assume that $left=a_3a_2a_1a_0$ and $right=b_3b_2b_1b_0$. Suppose that $a_3\\cdots a_i=b_3\\cdots b_i$ represents the longest common prefix in their binary representations, where $i\\in [0,4]$. We claim that the bitwise AND of all integers in $[left,right]$ is $a_3\\cdots a_i0\\cdots 0$.\n",
    "\n",
    "$\\quad$ If $i=0$, then there is nothing to prove. Now assume that $i>0$. By assumption, we have $b_{i-1}=1$ and $a_{i-1}=0$. For any $j\\in [0,i-1]$, we have \n",
    "$$\n",
    "\\begin{align*}\n",
    "left&=b_3\\cdots b_i0a_{i-2}\\cdots a_0\\\\\n",
    "&\\le b_3\\cdots b_i 1 b_{i-2}\\cdots b_{j+1}0b_{j-1}\\cdots b_0\\\\\n",
    "&\\le b_3\\cdots b_i 1 b_{i-2}\\cdots b_{j+1}b_jb_{j-1}\\cdots b_0=right.\n",
    "\\end{align*}\n",
    "$$\n",
    "Hence for any $j\\in[0,i-1]$, we have $s_j=0$. The conclusion that for any $j\\in[i,3]$, $s_j=a_j$ is clear."
   ]
  },
  {
   "cell_type": "code",
   "execution_count": 3,
   "metadata": {},
   "outputs": [],
   "source": [
    "class Solution:\n",
    "    def rangeBitwiseAnd(self, left: int, right: int) -> int:\n",
    "        shifts = 0\n",
    "        while left != right:\n",
    "            shifts += 1\n",
    "            left = left >> 1\n",
    "            right = right >> 1\n",
    "\n",
    "        return left << shifts"
   ]
  }
 ],
 "metadata": {
  "kernelspec": {
   "display_name": "base",
   "language": "python",
   "name": "python3"
  },
  "language_info": {
   "codemirror_mode": {
    "name": "ipython",
    "version": 3
   },
   "file_extension": ".py",
   "mimetype": "text/x-python",
   "name": "python",
   "nbconvert_exporter": "python",
   "pygments_lexer": "ipython3",
   "version": "3.11.7"
  }
 },
 "nbformat": 4,
 "nbformat_minor": 2
}
