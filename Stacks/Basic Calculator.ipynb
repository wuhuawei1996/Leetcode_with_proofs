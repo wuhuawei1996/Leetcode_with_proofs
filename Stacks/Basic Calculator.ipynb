{
 "cells": [
  {
   "cell_type": "markdown",
   "metadata": {},
   "source": [
    "# Basic Calculator\n",
    "$\\quad$ Given a string $s$ representing a valid expression, implement a basic calculator to evaluate it, and return the result of the evaluation.\n",
    "\n",
    "$\\quad$ Note: You are not allowed to use any built-in function which evaluates strings as mathematical expressions, such as eval()."
   ]
  },
  {
   "cell_type": "markdown",
   "metadata": {},
   "source": [
    "# Examples\n",
    "**Example 1:**<br>\n",
    "Input: $s$ = \"1 + 1\"<br>\n",
    "Output: $2$\n",
    "\n",
    "**Example 2:**<br>\n",
    "Input: $s$ = \" 2-1 + 2 \"<br>\n",
    "Output: $3$\n",
    "\n",
    "**Example 3:**<br>\n",
    "Input: $s$ = \"(1+(4+5+2)-3)+(6+8)\"<br>\n",
    "Output: $23$"
   ]
  },
  {
   "cell_type": "markdown",
   "metadata": {},
   "source": [
    "# Analysis\n",
    "$\\quad$ The expression corresponding to $s$, when expanded, can be simplified into the following form:\n",
    "$$sign_0 * a_0 + sign_1 * a_1 + sign_2 * a_2 + ... + sign_{n-1} * a_{n-1} + sign_n * a_n,$$\n",
    "where $a_i\\ge 0$ and $sign_i\\in\\{1, -1\\}$ for any $0\\le i\\le n$. Each $a_i$ can be obtained by reading the digits one by one. The challenge lies in how to compute these signs $sign_i$.\n",
    "\n",
    "$\\quad$ Firstly, if $a_i$ is not enclosed within any parentheses (i.e., it is at the outermost level of the expression), then $sign_i$ is essentially the last \"+\" or \"-\" encountered before encountering $a_i$. This suggests that we should maintain a variable $sign$ to track the last \"+\" or \"-\" encountered. \n",
    "\n",
    "$\\quad$ If $a_i$ is enclosed by exactly one layer of parentheses, then $sign_i$ is the product of the sign before \"(\" and the last sign encountered before $a_i$. Moreover, the sign before the parentheses depends on the most recent \"+\" or \"-\" encountered before the \"(\". For example, in the expanded form of the expression \"1-(-2+3)\", the sign of $2$ is $-1\\cdot -1 =1$, while the sign of $3$ is $-1\\cdot 1 =-1$.\n",
    "\n",
    "$\\quad$ If $a_i$ is enclosed by exactly two layers of parentheses, then $sign_i$ is the product of the sign before the outermost \"(\", the sign before the second layer \"(\", and the last sign encountered before $a_i$. For example, in the expanded form of the expression \"1-(-2-(3-4))\", the sign of $3$ is $-1\\cdot -1\\cdot 1 =1$, while the sign of $4$ is $-1\\cdot -1\\cdot -1 =-1$.\n",
    "\n",
    "$\\quad$ This suggests that, in addition to maintaining the variable $sign$, we should also maintain a stack to record the sign associated with each layer of parentheses. The top element of the stack should be popped when encountering a \")\", as this indicates a return to the previous layer."
   ]
  },
  {
   "cell_type": "code",
   "execution_count": null,
   "metadata": {},
   "outputs": [],
   "source": [
    "class Solution:\n",
    "    def calculate(self, s: str) -> int:\n",
    "        sign = 1\n",
    "        sign_stack = [1]\n",
    "        result = 0\n",
    "        num = 0\n",
    "\n",
    "        for c in s:\n",
    "            if c.isdigit():\n",
    "                num = num * 10 + (ord(c) - ord('0'))\n",
    "            else:\n",
    "                if num != 0:\n",
    "                    result += sign * sign_stack[-1] * num\n",
    "                    num = 0\n",
    "                if c == '+':\n",
    "                    sign = 1\n",
    "                elif c == '-':\n",
    "                    sign = -1\n",
    "                if c == '(':\n",
    "                    sign_stack.append(sign * sign_stack[-1])\n",
    "                    sign = 1\n",
    "                if c == ')':\n",
    "                    sign_stack.pop()\n",
    "\n",
    "        return result + sign * num"
   ]
  }
 ],
 "metadata": {
  "kernelspec": {
   "display_name": "base",
   "language": "python",
   "name": "python3"
  },
  "language_info": {
   "name": "python",
   "version": "3.11.7"
  }
 },
 "nbformat": 4,
 "nbformat_minor": 2
}
