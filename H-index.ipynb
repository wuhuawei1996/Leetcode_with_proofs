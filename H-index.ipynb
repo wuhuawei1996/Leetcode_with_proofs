{
 "cells": [
  {
   "cell_type": "markdown",
   "metadata": {},
   "source": [
    "# H-index\n",
    "$\\quad$ Given an array of integers citations where $citations[i]$ is the number of citations a researcher received for their $i$-th paper, return the researcher's h-index.\n",
    "\n",
    "$\\quad$ According to the definition of h-index on Wikipedia: The h-index is defined as the maximum value of $h$ such that the given researcher has published at least $h$ papers that have each been cited at least $h$ times."
   ]
  },
  {
   "cell_type": "markdown",
   "metadata": {},
   "source": [
    "# Examples\n",
    "**Example 1:**<br>\n",
    "Input: $citations = [3,0,6,1,5]$<br>\n",
    "Output: $3$<br>\n",
    "Explanation: $[3,0,6,1,5]$ means the researcher has $5$ papers in total and each of them had received $3, 0, 6, 1, 5$ citations respectively.\n",
    "Since the researcher has $3$ papers with at least $3$ citations each and the remaining two with no more than $3$ citations each, their h-index is $3$.\n",
    "\n",
    "**Example 2:**<br>\n",
    "Input: $citations = [1,3,1]$<br>\n",
    "Output: $1$"
   ]
  },
  {
   "cell_type": "code",
   "execution_count": null,
   "metadata": {},
   "outputs": [],
   "source": [
    "# Method 1\n",
    "# Time complexity: O(nlogn) (due to sorting)\n",
    "# Space complexity: O(1)\n",
    "class Solution:\n",
    "    def hIndex(self, citations: list[int]) -> int:\n",
    "        citations.sort()\n",
    "        for i in range(len(citations)-1, -1, -1):\n",
    "            if citations[len(citations)-1-i]>=(i+1):\n",
    "                return i+1\n",
    "        return 0"
   ]
  },
  {
   "cell_type": "code",
   "execution_count": 1,
   "metadata": {},
   "outputs": [],
   "source": [
    "# Method 2\n",
    "# Time complexity: O(n) (due to sorting)\n",
    "# Space complexity: O(n) (for temp array)\n",
    "class Solution:\n",
    "    def hIndex(self, citations: list[int]) -> int:\n",
    "        n = len(citations)\n",
    "        temp = [0 for _ in range(n + 1)]\n",
    "\n",
    "        for i,v in enumerate(citations):\n",
    "            if v > n :\n",
    "                temp[n] += 1\n",
    "            else:\n",
    "                temp[v] += 1\n",
    "        \n",
    "        total = 0\n",
    "        for i in range(n, -1, -1):\n",
    "            total += temp[i]\n",
    "            if total >= i:\n",
    "                return i"
   ]
  }
 ],
 "metadata": {
  "kernelspec": {
   "display_name": "base",
   "language": "python",
   "name": "python3"
  },
  "language_info": {
   "codemirror_mode": {
    "name": "ipython",
    "version": 3
   },
   "file_extension": ".py",
   "mimetype": "text/x-python",
   "name": "python",
   "nbconvert_exporter": "python",
   "pygments_lexer": "ipython3",
   "version": "3.11.7"
  }
 },
 "nbformat": 4,
 "nbformat_minor": 2
}
