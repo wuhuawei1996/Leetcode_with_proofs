{
 "cells": [
  {
   "cell_type": "markdown",
   "metadata": {},
   "source": [
    "# Candy Distribution\n",
    "$\\quad$ There are $n$ children standing in a line. Each child is assigned a rating value given in the integer array ratings.\n",
    "\n",
    "$\\quad$ You are giving candies to these children subjected to the following requirements:\n",
    "\n",
    "- Each child must have at least one candy.\n",
    "- Children with a higher rating get more candies than their neighbors.\n",
    "Return the minimum number of candies you need to have to distribute the candies to the children."
   ]
  },
  {
   "cell_type": "markdown",
   "metadata": {},
   "source": [
    "# Examples\n",
    "**Example 1:**<br>\n",
    "Input: $ratings = [1,0,2]$<br>\n",
    "Output: $5$<br>\n",
    "Explanation: You can allocate to the first, second and third child with $2, 1, 2$ candies respectively.\n",
    "\n",
    "**Example 2:**<br>\n",
    "Input: $ratings = [1,2,2]$<br>\n",
    "Output: $4$<br>\n",
    "Explanation: You can allocate to the first, second and third child with $1, 2, 1$ candies respectively.<br>\n",
    "The third child gets $1$ candy because it satisfies the above two conditions."
   ]
  },
  {
   "cell_type": "markdown",
   "metadata": {},
   "source": [
    "# Analysis\n",
    "$\\quad$ Assume that $ratings = [a_0,a_1,\\cdots,a_{n-1}]$. If \n",
    "$$a_i\\ge a_{i+1}<a_{i+2}<\\cdots<a_j,$$\n",
    "then \n",
    "$$candies[i+1]=1,\\ candies[i+2]=2,\\ \\cdots,\\ candies[j]=j-i.$$\n",
    "If\n",
    "$$a_{i+1}>a_{i+2}>\\cdots>a_j\\le a_{j+1},$$\n",
    "then\n",
    "$$candies[i+1]=j-i,\\ \\cdots,\\ candies[j-1]=2,\\ candies[j]=1.$$\n",
    "If $a_{i-1}=a_{i}=a_{i+1}$, then $a_i=1$. To sum up, there are two main points:\n",
    "- Children with equal ratings can receive different amounts of candies without violating the requirements, as our goal is to distribute the minimum number of candies.\n",
    "- We must handle decreasing subarrays and increasing ones."
   ]
  },
  {
   "cell_type": "code",
   "execution_count": null,
   "metadata": {},
   "outputs": [],
   "source": [
    "# Method 1: Two Pass Approach\n",
    "# Time complexity: O(n)\n",
    "# Space complexity: O(n)\n",
    "class Solution:\n",
    "    def candy(self, ratings) -> int:\n",
    "        n = len(ratings)\n",
    "        candies = [1] * n\n",
    "        \n",
    "        # First pass: Check ratings from left to right\n",
    "        for i in range(1, n):\n",
    "            if ratings[i - 1] < ratings[i]:\n",
    "                candies[i] = candies[i - 1] + 1\n",
    "        \n",
    "        # Second pass: Check ratings from right to left\n",
    "        for i in range(n - 2, -1, -1):\n",
    "            if ratings[i + 1] < ratings[i] and candies[i + 1] >= candies[i]:\n",
    "                # Note that the condition candies[i + 1] >= candies[i] is necessary for inflection points\n",
    "                candies[i] = candies[i + 1] + 1\n",
    "        \n",
    "        total_candies = sum(candies)  \n",
    "        return total_candies"
   ]
  },
  {
   "cell_type": "markdown",
   "metadata": {},
   "source": [
    "$\\quad$ We have three cases: increasing subarrays, decreasing subarrays and equal subbarrays. We can start by initialize three variables to handle these three cases, respectively:\n",
    "- upCount: to keep track of consecutive increasing ratings;\n",
    "- downCount: to keep track of consecutive decreasing ratings;\n",
    "- peakCount: to store the number of candies at the peak of increasing ratings."
   ]
  },
  {
   "cell_type": "code",
   "execution_count": null,
   "metadata": {},
   "outputs": [],
   "source": [
    "# Method 2: One Pass Approach\n",
    "# Time complexity: O(n)\n",
    "# Space complexity: O(1)\n",
    "class Solution:\n",
    "    def candy(self, ratings) -> int:\n",
    "        n = len(ratings)  \n",
    "        upCount = downCount = peakCount = 0\n",
    "        totalCandies = 1  \n",
    "        \n",
    "        for i in range(1, n):\n",
    "            if ratings[i - 1] < ratings[i]:\n",
    "                # If the current child has a higher rating than the previous one\n",
    "                downCount = 0\n",
    "                upCount += 1\n",
    "                peakCount = upCount + 1\n",
    "                totalCandies += peakCount\n",
    "            elif ratings[i - 1] == ratings[i]:\n",
    "                # If the current child has the same rating as the previous one\n",
    "                downCount = 0\n",
    "                upCount = 0\n",
    "                peakCount = 0\n",
    "                totalCandies += 1\n",
    "            else:\n",
    "                # If the current child has a lower rating than the previous one\n",
    "                downCount += 1\n",
    "                upCount = 0\n",
    "                totalCandies += downCount + 1 - (1 if peakCount > downCount else 0)\n",
    "        \n",
    "        return totalCandies"
   ]
  }
 ],
 "metadata": {
  "kernelspec": {
   "display_name": "base",
   "language": "python",
   "name": "python3"
  },
  "language_info": {
   "name": "python",
   "version": "3.11.7"
  }
 },
 "nbformat": 4,
 "nbformat_minor": 2
}
