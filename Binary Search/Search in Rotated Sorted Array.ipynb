{
 "cells": [
  {
   "cell_type": "markdown",
   "metadata": {
    "vscode": {
     "languageId": "plaintext"
    }
   },
   "source": [
    "# Search in Rotated Sorted Array\n",
    "\n",
    "There is an integer array `nums` sorted in ascending order (with distinct values).\n",
    "\n",
    "Prior to being passed to your function, `nums` is possibly rotated at an unknown pivot index `k` (`1 <= k < nums.length`) such that the resulting array is `[nums[k], nums[k+1], ..., nums[n-1], nums[0], nums[1], ..., nums[k-1]]` (0-indexed). For example, `[0,1,2,4,5,6,7]` might be rotated at pivot index `3` and become `[4,5,6,7,0,1,2]`.\n",
    "\n",
    "Given the array `nums` after the possible rotation and an integer `target`, return the index of `target` if it is in `nums`, or `-1` if it is not in `nums`.\n",
    "\n",
    "You must write an algorithm with `O(log n)` runtime complexity."
   ]
  },
  {
   "cell_type": "markdown",
   "metadata": {},
   "source": [
    "## Examples\n",
    "**Example 1:**\n",
    "```\n",
    "Input: nums = [4,5,6,7,0,1,2], target = 0\n",
    "Output: 4\n",
    "```\n",
    "\n",
    "**Example 2:**\n",
    "```\n",
    "Input: nums = [4,5,6,7,0,1,2], target = 3\n",
    "Output: -1\n",
    "```\n",
    "\n",
    "**Example 3:**\n",
    "```\n",
    "Input: nums = [1], target = 0\n",
    "Output: -1\n",
    "```"
   ]
  },
  {
   "cell_type": "code",
   "execution_count": 3,
   "metadata": {},
   "outputs": [],
   "source": [
    "class Solution:\n",
    "    def search(self, nums: list[int], target: int) -> int:\n",
    "        base = nums[-1]\n",
    "        if target == base:\n",
    "            return len(nums) - 1\n",
    "\n",
    "        start, end = 0, len(nums) - 1\n",
    "\n",
    "        while start <= end:\n",
    "            mid = (start + end) // 2\n",
    "            elem = nums[mid]\n",
    "            if elem == target:\n",
    "                return mid\n",
    "            elif elem < target:\n",
    "                if target > base:\n",
    "                    if elem <= base:\n",
    "                        end = mid - 1\n",
    "                    else:\n",
    "                        start = mid + 1\n",
    "                else:\n",
    "                    start = mid + 1\n",
    "            else:\n",
    "                if target > base:\n",
    "                    end = mid - 1\n",
    "                else:\n",
    "                    if elem <= base:\n",
    "                        end = mid - 1\n",
    "                    else:\n",
    "                        start = mid + 1\n",
    "                        \n",
    "        return -1"
   ]
  },
  {
   "cell_type": "markdown",
   "metadata": {},
   "source": [
    "The logic can be simplified as follows:"
   ]
  },
  {
   "cell_type": "code",
   "execution_count": 4,
   "metadata": {},
   "outputs": [],
   "source": [
    "class Solution:\n",
    "    def search(self, nums: list[int], target: int) -> int:\n",
    "        base = nums[-1]\n",
    "        if target == base:\n",
    "            return len(nums) - 1\n",
    "\n",
    "        start, end = 0, len(nums) - 1\n",
    "\n",
    "        while start <= end:\n",
    "            mid = (start + end) // 2\n",
    "            elem = nums[mid]\n",
    "            if elem == target:\n",
    "                return mid\n",
    "            if (elem < target and base < target) or (elem > target and base > target):\n",
    "                if elem <= base:\n",
    "                    end = mid - 1\n",
    "                else:\n",
    "                    start = mid + 1\n",
    "            elif elem < target:\n",
    "                start = mid + 1\n",
    "            else:\n",
    "                end = mid - 1\n",
    "\n",
    "        return -1\n"
   ]
  }
 ],
 "metadata": {
  "kernelspec": {
   "display_name": "base",
   "language": "python",
   "name": "python3"
  },
  "language_info": {
   "codemirror_mode": {
    "name": "ipython",
    "version": 3
   },
   "file_extension": ".py",
   "mimetype": "text/x-python",
   "name": "python",
   "nbconvert_exporter": "python",
   "pygments_lexer": "ipython3",
   "version": "3.11.7"
  }
 },
 "nbformat": 4,
 "nbformat_minor": 2
}
