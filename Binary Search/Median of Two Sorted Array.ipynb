{
 "cells": [
  {
   "cell_type": "markdown",
   "metadata": {},
   "source": [
    "# Median of Two Sorted Arrays\n",
    "Given two sorted arrays `nums1` and `nums2` of size `m` and `n` respectively, return the median of the two sorted arrays.\n",
    "\n",
    "The overall run time complexity should be `O(log (m+n))`."
   ]
  },
  {
   "cell_type": "markdown",
   "metadata": {},
   "source": [
    "## Examples\n",
    "**Example 1:**\n",
    "```\n",
    "Input: nums1 = [1,3], nums2 = [2]\n",
    "Output: 2.00000\n",
    "```\n",
    "Explanation: merged array = [1,2,3] and median is 2.\n",
    "\n",
    "\n",
    "**Example 2:**\n",
    "```\n",
    "Input: nums1 = [1,2], nums2 = [3,4]\n",
    "Output: 2.50000\n",
    "```\n",
    "Explanation: merged array = [1,2,3,4] and median is (2 + 3) / 2 = 2.5."
   ]
  },
  {
   "cell_type": "markdown",
   "metadata": {},
   "source": [
    "## Analysis\n",
    "\n",
    "$\\quad$ Let $a_1, a_2, \\cdots, a_{n}$ be a non-descending sequence.\n",
    "- If $n$ is even, then the median of the sequence is $\\frac{a_{n/2} + a_{n/2+1}}{2}$. Note that $a_{n/2}$ can be characterized as the element in the sequence such that $\\frac{n}{2}$ of the elements in the sequence are less than or equal to $a_{n/2}$ and the other half of the elements in the sequence are greater than or equal to $a_{n/2}$.\n",
    "- If $n$ is odd, then the median of the sequence is $a_{(n+1)/2}$. Note that $a_{(n+1)/2}$ can be characterized as the element in the sequence such that $\\frac{n+1}{2}$ of the elements in the sequence are less than or equal to $a_{(n+1)/2}$ and the other half of the elements in the sequence are greater than or equal to $a_{(n+1)/2}$.\n",
    "\n",
    "$\\quad$ Now assume that $nums1=[a_0,\\cdots,a_{m-1}]$ and $nums2=[b_0,\\cdots,b_{n-1}]$ are two sorted arrays. Without loss of generality, we may assume that $m\\ge n$. Moreover, we put $a_{-1}=b_{-1}=-\\infty$ and $a_m = b_n=+\\infty$.\n",
    "- Assume that $m+n$ is even. If there exists $i\\in[\\frac{m-n}{2},\\frac{m+n}{2}]$ such that      \n",
    "    $$c_i:=\\max(a_{i-1},b_{\\frac{m+n}{2}-i-1})\\le d_i=\\min(a_i,b_{\\frac{m+n}{2}-i}),$$\n",
    "    then in $a_0,\\cdots,a_{m-1},b_0,\\cdots,b_{n-1}$, there are $\\frac{m+n}{2}$ elements, i.e.,\n",
    "    $$a_{0},\\cdots,a_{i-1},b_{0},\\cdots,b_{\\frac{m+n}{2}-i-1}$$ \n",
    "    that are less than or equal to $c_i$ and the other $\\frac{m+n}{2}$ elements, i.e., $$a_{i},\\cdots,a_{m-1},b_{\\frac{m+n}{2}-i},\\cdots,b_{n-1}$$ \n",
    "    that are greater than or equal to $c_i$. In this case, the median of $a_0,\\cdots,a_{m-1},b_0,\\cdots,b_{n-1}$ is $\\frac{c_i+d_i}{2}$. \n",
    "    \n",
    "    $\\quad$ We can use the binary search method to find such an $i$ in $[\\frac{m-n}{2},\\frac{m+n}{2}]$. If $c_{i_0}>d_{i_0}$, then either $b_{\\frac{m+n}{2}-i_0-1}>a_{i_0}$ or $a_{i_0-1}>b_{\\frac{m+n}{2}-i_0}$. In the former case, we can find the desired $i$ in $[i_0+1,\\frac{m+n}{2}]$ and in the latter case, we can find the desire $i$ in $[\\frac{m-n}{2},i_0-1]$.\n",
    "- Assume that $m+n$ is odd. If there exists $i\\in[\\frac{m-n+1}{2},\\frac{m+n+1}{2}]$ such that     \n",
    "    $$c_i:=\\max(a_{i-1},b_{\\frac{m+n+1}{2}-i-1})\\le d_i=\\min(a_i,b_{\\frac{m+n+1}{2}-i}),$$\n",
    "    then in $a_0,\\cdots,a_{m-1},b_0,\\cdots,b_{n-1}$, there are $\\frac{m+n+1}{2}$ elements, i.e.,\n",
    "    $$a_{0},\\cdots,a_{i-1},b_{0},\\cdots,b_{\\frac{m+n+1}{2}-i-1}$$ \n",
    "    that are less than or equal to $c_i$ and the other $\\frac{m+n-1}{2}$ elements, i.e., $$a_{i},\\cdots,a_{m-1},b_{\\frac{m+n+1}{2}-i},\\cdots,b_{n-1}$$ \n",
    "    that are greater than or equal to $c_i$. In this case, the median of $a_0,\\cdots,a_{m-1},b_0,\\cdots,b_{n-1}$ is $c_i$. We can use the binary search method to find such an $i$ in $[\\frac{m-n+1}{2},\\frac{m+n+1}{2}]$."
   ]
  },
  {
   "cell_type": "code",
   "execution_count": 3,
   "metadata": {},
   "outputs": [],
   "source": [
    "class Solution:\n",
    "    def findMedianSortedArrays(self, nums1: list[int], nums2: list[int]) -> float:\n",
    "        if len(nums1) < len(nums2):\n",
    "            nums1, nums2 = nums2, nums1\n",
    "        m, n = len(nums1), len(nums2)\n",
    "        total = m + n\n",
    "        even = total % 2 == 0\n",
    "        half = (m + n) // 2 if even else (m + n + 1) // 2\n",
    "        start = (m - n) // 2 if even else (m - n + 1) // 2\n",
    "        end = half\n",
    "\n",
    "        while start <= end:\n",
    "            mid = (start + end) // 2\n",
    "            elem_1 = nums1[mid - 1] if mid >= 1 else -float(\"inf\")\n",
    "            elem_2 = nums2[half - mid - 1] if half - \\\n",
    "                mid >= 1 else -float(\"inf\")\n",
    "            elem_3 = nums1[mid] if mid < m else float(\"inf\")\n",
    "            elem_4 = nums2[half - mid] if half - mid < n else float(\"inf\")\n",
    "            c = max(elem_1, elem_2)\n",
    "            d = min(elem_3, elem_4)\n",
    "            if c <= d:\n",
    "                return (c + d) / 2 if even else c\n",
    "            elif elem_2 > elem_3:\n",
    "                start = mid + 1\n",
    "            else:\n",
    "                end = mid - 1"
   ]
  }
 ],
 "metadata": {
  "kernelspec": {
   "display_name": "base",
   "language": "python",
   "name": "python3"
  },
  "language_info": {
   "codemirror_mode": {
    "name": "ipython",
    "version": 3
   },
   "file_extension": ".py",
   "mimetype": "text/x-python",
   "name": "python",
   "nbconvert_exporter": "python",
   "pygments_lexer": "ipython3",
   "version": "3.11.7"
  }
 },
 "nbformat": 4,
 "nbformat_minor": 2
}
