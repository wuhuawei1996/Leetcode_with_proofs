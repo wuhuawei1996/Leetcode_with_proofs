{
 "cells": [
  {
   "cell_type": "markdown",
   "metadata": {},
   "source": [
    "# Find Peak Element\n",
    "A peak element is an element that is strictly greater than its neighbors.\n",
    "\n",
    "Given a 0-indexed integer array `nums`, find a peak element, and return its index. If the array contains multiple peaks, return the index to any of the peaks.\n",
    "\n",
    "You may imagine that `nums[-1] = nums[n] = -∞`. In other words, an element is always considered to be strictly greater than a neighbor that is outside the array.\n",
    "\n",
    "You must write an algorithm that runs in `O(log n)` time.\n",
    "\n",
    "Note that we assume that `nums[i] != nums[i + 1]` for all valid `i`."
   ]
  },
  {
   "cell_type": "markdown",
   "metadata": {},
   "source": [
    "## Analysis\n",
    "\n",
    "$\\quad$ If $len(nums) = 1$, then since $-∞ = nums[-1] < num[0]$ and $nums[0] > nums[1] = -∞$, $num[0]$ is a peak element.\n",
    "\n",
    "$\\quad$ Now assume that $len(nums) > 1$.\n",
    "- If $nums[0] > nums[1]$, then $num[0]$ is a peak element. \n",
    "- If $nums[-1] > nums[-2]$, then $nums[-1]$ is a peak element. \n",
    "- Otherwise, we have $nums[0] < nums[1]$ and $nums[-1] < nums[-2]$ (note that adjacent elements are not equal). Since the elements of $nums$ first increase and finally decrease, there must be a peak element in the middle.\n",
    "\n",
    "Hence $nums$ must have a peak element.\n",
    "\n",
    "$\\quad$ Let $i\\in [0,len(nums)-1]$. There are only three cases:\n",
    "- If $nums[i] > nums[i+1]$ and $nums[i] > nums[i-1]$, then $nums[i]$ is a peak element.\n",
    "- If $nums[i] < nums[i+1]$ and $nums[i] > nums[i-1]$, then $nums[i]$ is not a peak element and we must have $i<len(nums)-1$. Since the elements of $nums[i: len(nums) + 1]$` first increase and finally decrease, there must be a peak element in the middle, i.e., in $nums[i+1: len(nums)]$.\n",
    "- If $nums[i] > nums[i+1]$ and $nums[i] < nums[i-1]$, then $nums[i]$ is not a peak element and we must have $i>0$. Since the elements of $nums[0: i]$ first increase and finally decrease, there must be a peak element in the middle, i.e., in $nums[0: i]$.\n",
    "\n",
    "$\\quad$ This suggests that we can use the binary search method."
   ]
  },
  {
   "cell_type": "code",
   "execution_count": null,
   "metadata": {},
   "outputs": [],
   "source": [
    "class Solution:\n",
    "    def findPeakElement(self, nums: list[int]) -> int:\n",
    "        left, right = 0, len(nums) - 1\n",
    "\n",
    "        def elem(index):\n",
    "            if index == -1 or index == len(nums):\n",
    "                return -float(\"inf\")\n",
    "            else:\n",
    "                return nums[index]\n",
    "\n",
    "        while left <= right:\n",
    "            mid = (left + right) // 2\n",
    "            if elem(mid) > elem(mid - 1) and elem(mid) > elem(mid + 1):\n",
    "                return mid\n",
    "            elif elem(mid) > elem(mid - 1) and elem(mid) < elem(mid + 1):\n",
    "                left = mid + 1\n",
    "            else:\n",
    "                right = mid - 1"
   ]
  }
 ],
 "metadata": {
  "kernelspec": {
   "display_name": "base",
   "language": "python",
   "name": "python3"
  },
  "language_info": {
   "name": "python",
   "version": "3.11.7"
  }
 },
 "nbformat": 4,
 "nbformat_minor": 2
}
