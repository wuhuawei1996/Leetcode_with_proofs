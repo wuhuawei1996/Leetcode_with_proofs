{
 "cells": [
  {
   "cell_type": "markdown",
   "metadata": {},
   "source": [
    "# Detailed Explanation of Binary Search\n",
    "$\\quad$ Given an array `nums` (not necessarily sorted) and a target value `target`. Consider the following pseudocode:"
   ]
  },
  {
   "cell_type": "code",
   "execution_count": 65,
   "metadata": {},
   "outputs": [],
   "source": [
    "def binary_search(nums, target):\n",
    "    left, right = 0, len(nums) - 1\n",
    "\n",
    "    while left <= right:\n",
    "        mid = (left + right) // 2  \n",
    "        if condition_1(mid):\n",
    "            return mid\n",
    "        elif condition_2(mid):\n",
    "            left = mid + 1\n",
    "        else:\n",
    "            right = mid - 1"
   ]
  },
  {
   "cell_type": "markdown",
   "metadata": {},
   "source": [
    "$\\quad$ We prove that if at the beginning of a certain iteration of the loop, $left \\le right-2$, then either the function returns during this iteration, or by the end of this iteration, we have $left' \\le right'$ and \n",
    "$$right'-left'<\\frac{right-left}{2},$$\n",
    "in particular, the loop will not terminate. \n",
    "\n",
    "$\\quad$ Indeed, according to the code, if the function does not return during this iteration, then $not\\ condition\\_1(mid)$. Since $left \\le right -2$, we have \n",
    "$$left+1=\\frac{left+left+2}{2}\\le\\frac{left+right}{2}\\le\\frac{right-2+right}{2}=right-1,$$\n",
    "which implies that\n",
    "$$left+1\\le mid\\le right -1.$$\n",
    "- If $not\\ condition\\_1(mid)\\ and\\ condition\\_2(mid)$, then according to the code, will update $left$ to $left' = mid + 1$ and $right$ to $right' = right$. It is clear that $left'\\le right'$. Moreover, we have \n",
    "$$\n",
    "\\begin{align*}\n",
    "right'-left'&=right-mid-1\\\\\n",
    "&<right-(\\frac{left+right}{2}-1)-1\\\\\n",
    "&=\\frac{right-left}{2}.\n",
    "\\end{align*}\n",
    "$$\n",
    "- If $condition\\_1(mid)\\ and\\ condition\\_2(mid)$, then according to the code, will update $left$ to $left' = left$ and $right$ to $right' = mid-1$. It is clear that $left'\\le right'$. Moreover, we have\n",
    "$$\n",
    "\\begin{align*}\n",
    "right'-left'&=mid-1-left\\\\\n",
    "&\\le\\frac{left+right}-1-left\\\\\n",
    "&=\\frac{right-left}{2}-1\\\\\n",
    "&<\\frac{right-left}{2}.\n",
    "\\end{align*}\n",
    "$$\n",
    "\n",
    "As a consequence, if the function never returns, the program will eventually reach a state where $left=right-1$ or $left=right$.\n",
    "\n",
    "$\\quad$ Assume that at the beginning of a certain iteration of the loop, we have $left=right-1$. At this point, we have \n",
    "$$mid=\\left\\lfloor\\frac{left+right}{2}\\right\\rfloor=\\left\\lfloor\\frac{left+1+left}{2}\\right\\rfloor=\\left\\lfloor left+\\frac{1}{2}\\right\\rfloor=left.$$\n",
    "- If $not\\ condition\\_1(mid)\\ and\\ condition\\_2(mid)$, then according to the code, will update $left$ to $left' = mid + 1 = left + 1 = right$ and $right$ to $right' = right$, which implies that $left'=right'=right$. In particular, the loop will not terminate. \n",
    "- If $condition\\_1(mid)\\ and\\ condition\\_2(mid)$, then according to the code, will update $left$ to $left' = left$ and $right$ to $right' = mid-1 = left-1$, which implies that $right'=left'-1$. Hence the loop will terminate. \n",
    "\n",
    "$\\quad$ Assume that at the beginning of a certain iteration of the loop, we have $left=right$. At this point, we have $mid=left=right$.\n",
    "- If $not\\ condition\\_1(mid)\\ and\\ condition\\_2(mid)$, then according to the code, will update $left$ to $left' = mid + 1 = left + 1$ and $right$ to $right' = right=left$, which implies that $right'=left'-1=left$. Hence the loop will terminate.\n",
    "- If $condition\\_1(mid)\\ and\\ condition\\_2(mid)$, then according to the code, will update $left$ to $left' = left$ and $right$ to $right' = mid-1 = left-1$, which implies that $right'=left'-1=left-1$. Hence the loop will terminate.\n",
    "\n",
    "### Conclusion\n",
    "\n",
    "$\\quad$ Therefore, the program is guaranteed to terminate, either by returning within the loop or by the loop exiting when the loop condition is no longer satisfied. Moreover, \n",
    "- if the function returns before the loop condition is no longer satisfied, it returns an index $i$ such that satisfies $condition\\_1(i)$;\n",
    "- if the loop exits because the loop condition is not satisfied, it must hold at the end that $right = left -1$."
   ]
  },
  {
   "cell_type": "markdown",
   "metadata": {},
   "source": [
    "## Simplest Binary Search\n",
    "$\\quad$ Given a sorted array `nums` of distinct integers and a target value `target`, which is guaranteed to be in `nums`. Return the index of `target` in `nums`. Let us still consider the following code:"
   ]
  },
  {
   "cell_type": "code",
   "execution_count": 66,
   "metadata": {},
   "outputs": [],
   "source": [
    "def binary_search(nums, target):\n",
    "    left, right = 0, len(nums) - 1\n",
    "\n",
    "    while left <= right:\n",
    "        mid = (left + right) // 2  \n",
    "        if nums[mid] == target:\n",
    "            return mid\n",
    "        elif nums[mid] < target:\n",
    "            left = mid + 1\n",
    "        else:\n",
    "            right = mid - 1"
   ]
  },
  {
   "cell_type": "markdown",
   "metadata": {},
   "source": [
    "### Analysis\n",
    "$\\quad$ Since $nums$ is sorted, and $target$ is guaranteed to be in $nums$, at the initial moment, we have \n",
    "$$nums[left]\\le target\\le nums[right].$$\n",
    "Assume that at the beginning of a certain iteration of the loop, we have $left\\le right -2$ and\n",
    "$$nums[left]\\le target\\le nums[right],$$\n",
    "before which the function has not returned. Put \n",
    "$$mid=\\left\\lfloor\\frac{left+right}{2}\\right\\rfloor.$$\n",
    "- If $nums[mid]=target$, since the values in $nums$ are distinct, $mid$ is exactly the index we are looking for.\n",
    "- If $nums[mid] < target$, since $nums$ is sorted and $target$ is guaranteed to be in $nums$, the index of $target$ must be greater than $mid$ of $nums[mid+1]\\le target$. Hence we only need to search for $target$ in the subarray $nums[mid+1:right]$. According to the code, we update $left$ to $left'=mid+1$ and $right$ to $right'=right$. Hence we still have \n",
    "$$nums[left']\\le target\\le nums[right'].$$\n",
    "- If $nums[mid] > target$, since $nums$ is sorted and $target$ is guaranteed to be in $nums$, the index of $target$ must be less than $mid$ and $nums[mid-1]\\ge target$. Hence we only need to search for $target$ in the subarray $nums[left:mid-1]$. According to the code, we update $left$ to $left'=left$ and $right$ to $right'=mid-1$. Hence we still have\n",
    "$$nums[left']\\le target\\le nums[right'].$$\n",
    "\n",
    "$\\quad$ Consequently, if the function never returns, the loop is guaranteed to reach an iteration where, at the beginning of that iteration, we have $left=right-1$ or $left=right$ and $nums[left]\\le target\\le nums[right]$.\n",
    "- If $left=right$, since $nums$ is sorted and $target$ is guaranteed to be in `nums$, we must have $nums[left]=nums[right]=target$. Hence $nums[mid]=target$ and the function returns the index we are looking for.\n",
    "- If $left=right-1$, then $mid=left=right-1$, which implies that $nums[mid]\\le target\\le nums[right]$.\n",
    "    - If $nums[mid]=target$, then the function returns the index we are looking for.\n",
    "    - If $nums[mid]<target$, then according to the code, we update $left$ to $left'=mid+1=right-1$ and $right$ to $right'=right$. Hence the loop will not terminate and we still have $nums[left']\\le target\\le nums[right']$.\n",
    "\n",
    "$\\quad$ Therefore, the above code is guaranteed to return the index of $target$ in $nums$."
   ]
  },
  {
   "cell_type": "markdown",
   "metadata": {},
   "source": [
    "#"
   ]
  },
  {
   "cell_type": "markdown",
   "metadata": {},
   "source": [
    "## Modified Binary Search I (Sorted + Distinct)\n",
    "$\\quad$ Given a sorted array `nums` of distinct integers and a target value `target`. Return the index of `target` in `nums` if `target` is in `nums`, otherwise return `-1`. Let us consider the following code:"
   ]
  },
  {
   "cell_type": "code",
   "execution_count": 67,
   "metadata": {},
   "outputs": [],
   "source": [
    "def binary_search(nums, target):\n",
    "    left, right = 0, len(nums) - 1\n",
    "\n",
    "    while left <= right:\n",
    "        mid = (left + right) // 2  \n",
    "        if nums[mid] == target:\n",
    "            return mid\n",
    "        elif nums[mid] < target:\n",
    "            left = mid + 1\n",
    "        else:\n",
    "            right = mid - 1\n",
    "            \n",
    "    return -1"
   ]
  },
  {
   "cell_type": "markdown",
   "metadata": {},
   "source": [
    "$\\quad$ In the simplest case, we know that if `target` exists in `nums`, the function will return before the loop condition becomes invalid. Therefore, if the function does not return before the loop exits, it indicates that `target` is not in `nums`. In this case, returning `-1` is appropriate."
   ]
  },
  {
   "cell_type": "markdown",
   "metadata": {},
   "source": [
    "## Modified Binary Search II (Sorted + First)\n",
    "$\\quad$ Given a sorted array `nums` of integers (not necessarily distinct) and a target value `target`. Return the first index of `target` in `nums` if `target` is in `nums`, otherwise return `-1`. Let us consider the following code:"
   ]
  },
  {
   "cell_type": "code",
   "execution_count": 68,
   "metadata": {},
   "outputs": [],
   "source": [
    "def binary_search_first(nums, target):\n",
    "    left, right = 0, len(nums) - 1\n",
    "    result = -1\n",
    "\n",
    "    while left <= right:\n",
    "        mid = (left + right) // 2\n",
    "        if nums[mid] == target:\n",
    "            result = mid\n",
    "            right = mid - 1\n",
    "        elif nums[mid] < target:\n",
    "            left = mid + 1\n",
    "        else:\n",
    "            right = mid - 1\n",
    "            \n",
    "    return result"
   ]
  },
  {
   "cell_type": "markdown",
   "metadata": {},
   "source": [
    "$\\quad$ In the code above, when $nums[mid]=target$, we first store $mid$ in $result$ and then update $right$ to $mid-1$. This is because we are looking for the first element equal to $target$, so we only need to search in the range $nums[start:mid-1]$."
   ]
  },
  {
   "cell_type": "markdown",
   "metadata": {},
   "source": [
    "## Modified Binary Search III (Sorted + Last)\n",
    "$\\quad$ Given a sorted array `nums` of integers (not necessarily distinct) and a target value `target`. Return the last index of `target` in `nums` if `target` is in `nums`, otherwise return `-1`. Let us consider the following code:"
   ]
  },
  {
   "cell_type": "code",
   "execution_count": 69,
   "metadata": {},
   "outputs": [],
   "source": [
    "def binary_search_last(nums, target):\n",
    "    left, right = 0, len(nums) - 1\n",
    "    result = -1\n",
    "\n",
    "    while left <= right:\n",
    "        mid = (left + right) // 2\n",
    "        if nums[mid] == target:\n",
    "            result = mid\n",
    "            left = mid + 1\n",
    "        elif nums[mid] < target:\n",
    "            left = mid + 1\n",
    "        else:\n",
    "            right = mid - 1\n",
    "            \n",
    "    return result"
   ]
  },
  {
   "cell_type": "markdown",
   "metadata": {},
   "source": [
    "## Modified Binary Search IV\n",
    "$\\quad$ Given a sorted array `nums` of integers (not necessarily distinct) and a target value `target`. If all the elements in `nums` are less than `target`, return `-1`. Otherwise, return the smallest index `i` such that `nums[i] >= target`. Let us consider the following code:"
   ]
  },
  {
   "cell_type": "code",
   "execution_count": 70,
   "metadata": {},
   "outputs": [],
   "source": [
    "def binary_search_first_ge(nums, target):\n",
    "    left, right = 0, len(nums) - 1\n",
    "    result = -1\n",
    "    \n",
    "    while left <= right:\n",
    "        mid = (left + right) // 2\n",
    "        if nums[mid] >= target:\n",
    "            result = mid\n",
    "            right = mid - 1 \n",
    "        else:\n",
    "            left = mid + 1\n",
    "\n",
    "    return result"
   ]
  },
  {
   "cell_type": "markdown",
   "metadata": {},
   "source": [
    "## Modified Binary Search V\n",
    "$\\quad$ $\\quad$ Given a sorted array `nums` of integers (not necessarily distinct) and a target value `target`. If all the elements in `nums` are less than `target`, return `-1`. Otherwise, return the larget index `i` such that `nums[i] <= target`. Let us consider the following code:"
   ]
  },
  {
   "cell_type": "code",
   "execution_count": 71,
   "metadata": {},
   "outputs": [],
   "source": [
    "def binary_search_last_le(nums, target):\n",
    "    left, right = 0, len(nums) - 1\n",
    "    result = -1\n",
    "\n",
    "    while left <= right:\n",
    "        mid = (left + right) // 2\n",
    "        if nums[mid] <= target:\n",
    "            result = mid  \n",
    "            left = mid + 1  \n",
    "        else:\n",
    "            right = mid - 1\n",
    "\n",
    "    return result"
   ]
  },
  {
   "cell_type": "markdown",
   "metadata": {},
   "source": [
    "## Search Insert Position\n",
    "$\\quad$ Given a sorted array `nums` of distinct integers and a target value `target`, return the index of `target` in `nums` if `target` is in `nums`. Otherwise, return the index where `target` would be if it were inserted in order. Let us consider the following code:\n",
    "\n",
    "$\\quad$ You must write an algorithm with `O(log n)` runtime complexity."
   ]
  },
  {
   "cell_type": "markdown",
   "metadata": {},
   "source": [
    "### Examples\n",
    "\n",
    "**Example 1:**\n",
    "```\n",
    "Input: nums = [1,3,5,6], target = 5\n",
    "Output: 2\n",
    "```\n",
    "\n",
    "**Example 2:**\n",
    "```\n",
    "Input: nums = [1,3,5,6], target = 2\n",
    "Output: 1\n",
    "```\n",
    "\n",
    "**Example 3:**\n",
    "```\n",
    "Input: nums = [1,3,5,6], target = 7\n",
    "Output: 4\n",
    "```"
   ]
  },
  {
   "cell_type": "markdown",
   "metadata": {},
   "source": [
    "### Analysis\n",
    "$\\quad$ This problem is essentially equivalent to Modified Binary Search IV, which is finding the smallest index $i$ such that $num[i]\\ge target$. The only difference is that if no such $i$ is found, the function should return $len(nums)$ instead of $-1$."
   ]
  },
  {
   "cell_type": "code",
   "execution_count": 72,
   "metadata": {},
   "outputs": [],
   "source": [
    "def binary_search_first_ge(nums, target):\n",
    "    left, right = 0, len(nums) - 1\n",
    "    result = len(nums)\n",
    "    \n",
    "    while left <= right:\n",
    "        mid = (left + right) // 2\n",
    "        if nums[mid] >= target:\n",
    "            result = mid\n",
    "            right = mid - 1 \n",
    "        else:\n",
    "            left = mid + 1\n",
    "\n",
    "    return result"
   ]
  }
 ],
 "metadata": {
  "kernelspec": {
   "display_name": "base",
   "language": "python",
   "name": "python3"
  },
  "language_info": {
   "codemirror_mode": {
    "name": "ipython",
    "version": 3
   },
   "file_extension": ".py",
   "mimetype": "text/x-python",
   "name": "python",
   "nbconvert_exporter": "python",
   "pygments_lexer": "ipython3",
   "version": "3.11.7"
  }
 },
 "nbformat": 4,
 "nbformat_minor": 2
}
