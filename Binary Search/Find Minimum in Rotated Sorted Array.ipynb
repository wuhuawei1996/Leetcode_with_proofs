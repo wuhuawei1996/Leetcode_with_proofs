{
 "cells": [
  {
   "cell_type": "markdown",
   "metadata": {},
   "source": [
    "# Find Minimum in Rotated Sorted Array\n",
    "\n",
    "Suppose an array of length `n` sorted in ascending order is rotated between `1` and `n` times. For example, the array `nums = [0,1,2,4,5,6,7]` might become:\n",
    "\n",
    "`[4,5,6,7,0,1,2]` if it was rotated `4` times.\n",
    "`[0,1,2,4,5,6,7]` if it was rotated `7` times.\n",
    "Notice that rotating an array `[a[0], a[1], a[2], ..., a[n-1]]` 1 time results in the array `[a[n-1], a[0], a[1], a[2], ..., a[n-2]]`.\n",
    "\n",
    "Given the sorted rotated array `nums` of unique elements, return the minimum element of this array.\n",
    "\n",
    "You must write an algorithm that runs in `O(log n)` time."
   ]
  },
  {
   "cell_type": "markdown",
   "metadata": {},
   "source": [
    "## Examples\n",
    "\n",
    "**Example 1:**\n",
    "```\n",
    "Input: nums = [3,4,5,1,2]\n",
    "Output: 1\n",
    "```\n",
    "Explanation: The original array was [1,2,3,4,5] rotated 3 times.\n",
    "\n",
    "**Example 2:**\n",
    "```\n",
    "Input: nums = [4,5,6,7,0,1,2]\n",
    "Output: 0\n",
    "```\n",
    "Explanation: The original array was [0,1,2,4,5,6,7] and it was rotated 4 times.\n",
    "\n",
    "**Example 3:**\n",
    "```\n",
    "Input: nums = [11,13,15,17]\n",
    "Output: 11\n",
    "```\n",
    "Explanation: The original array was [11,13,15,17] and it was rotated 4 times. "
   ]
  },
  {
   "cell_type": "code",
   "execution_count": null,
   "metadata": {},
   "outputs": [],
   "source": [
    "class Solution:\n",
    "    def findMin(self, nums: list[int]) -> int:\n",
    "        # This is equivalent to finding the leftmost element <= nums[-1]\n",
    "        base = nums[-1]\n",
    "\n",
    "        start, end = 0, len(nums) - 1\n",
    "        result = -1\n",
    "        while start <= end:\n",
    "            mid = (start + end)//2\n",
    "            if nums[mid] <= base:\n",
    "                result = mid\n",
    "                end = mid - 1\n",
    "            else:\n",
    "                start = mid + 1\n",
    "\n",
    "        return nums[result]"
   ]
  }
 ],
 "metadata": {
  "kernelspec": {
   "display_name": "base",
   "language": "python",
   "name": "python3"
  },
  "language_info": {
   "name": "python",
   "version": "3.11.7"
  }
 },
 "nbformat": 4,
 "nbformat_minor": 2
}
