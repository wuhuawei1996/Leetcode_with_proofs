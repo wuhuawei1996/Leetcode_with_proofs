{
 "cells": [
  {
   "cell_type": "markdown",
   "metadata": {},
   "source": [
    "# Minimum Genetic Mutation\n",
    "A gene string can be represented by an 8-character long string, with choices from `'A'`, `'C'`, `'G'`, and `'T'`.\n",
    "\n",
    "Suppose we need to investigate a mutation from a gene string `startGene` to a gene string `endGene` where one mutation is defined as one single character changed in the gene string.\n",
    "\n",
    "- For example, `\"AACCGGTT\" --> \"AACCGGTA\"` is one mutation.\n",
    "\n",
    "There is also a gene bank `bank` that records all the valid gene mutations. A gene must be in `bank` to make it a valid gene string.\n",
    "\n",
    "Given the two gene strings `startGene` and `endGene` and the gene bank `bank`, return the minimum number of mutations needed to mutate from `startGene` to `endGene`. If there is no such a mutation, return `-1`.\n",
    "\n",
    "Note that the starting point is assumed to be valid, so it might not be included in the bank.\n",
    "\n",
    "**Constraints:**\n",
    "- `0 <= bank.length <= 10`\n",
    "- `startGene.length == endGene.length == bank[i].length == 8`\n",
    "- `startGene`, `endGene`, and `bank[i]` consist of only the characters `['A', 'C', 'G', 'T']`."
   ]
  },
  {
   "cell_type": "markdown",
   "metadata": {},
   "source": [
    "# Examples\n",
    "\n",
    "*8Example 1:**\n",
    "```\n",
    "Input: \n",
    "    startGene = \"AACCGGTT\", \n",
    "    endGene = \"AACCGGTA\", \n",
    "    bank = [\"AACCGGTA\"]\n",
    "Output: 1\n",
    "```\n",
    "\n",
    "**Example 2:**\n",
    "```\n",
    "Input: \n",
    "    startGene = \"AACCGGTT\", \n",
    "    endGene = \"AAACGGTA\", \n",
    "    bank = [\"AACCGGTA\",\"AACCGCTA\",\"AAACGGTA\"]\n",
    "Output: 2\n",
    "```"
   ]
  },
  {
   "cell_type": "code",
   "execution_count": null,
   "metadata": {},
   "outputs": [],
   "source": [
    "from collections import defaultdict, deque\n",
    "\n",
    "\n",
    "class Solution:\n",
    "    def minMutation(self, startGene: str, endGene: str, bank: list[str]) -> int:\n",
    "        def hamming_distance(gene_1, gene_2):\n",
    "            return sum([1 for i in range(len(gene_1)) if gene_1[i] != gene_2[i]])\n",
    "\n",
    "        bank.append(startGene)\n",
    "        graph = defaultdict(set)\n",
    "        for i in range(len(bank)):\n",
    "            for j in range(i, len(bank)):\n",
    "                if hamming_distance(bank[i], bank[j]) == 1:\n",
    "                    graph[bank[i]].add(bank[j])\n",
    "                    graph[bank[j]].add(bank[i])\n",
    "\n",
    "        queue = deque([(startGene, 0)])\n",
    "        visited = set()\n",
    "        while len(queue) > 0:\n",
    "            node, step = queue.popleft()\n",
    "            if node in visited:\n",
    "                continue\n",
    "            visited.add(node)\n",
    "            for neighbor in graph[node]:\n",
    "                if neighbor not in visited:\n",
    "                    if neighbor == endGene:\n",
    "                        return step + 1\n",
    "                    queue.append((neighbor, step + 1))\n",
    "\n",
    "        return -1"
   ]
  }
 ],
 "metadata": {
  "kernelspec": {
   "display_name": "base",
   "language": "python",
   "name": "python3"
  },
  "language_info": {
   "name": "python",
   "version": "3.11.7"
  }
 },
 "nbformat": 4,
 "nbformat_minor": 2
}
