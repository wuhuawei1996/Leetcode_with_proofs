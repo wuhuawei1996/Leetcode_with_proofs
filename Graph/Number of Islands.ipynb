{
 "cells": [
  {
   "cell_type": "markdown",
   "metadata": {},
   "source": [
    "# Number of Islands\n",
    "\n",
    "Given an `m x n` 2D binary grid `grid` which represents a map of `'1'`s (land) and `'0'`s (water), return the number of islands.\n",
    "\n",
    "An island is surrounded by water and is formed by connecting adjacent lands horizontally or vertically. You may assume all four edges of the grid are all surrounded by water."
   ]
  },
  {
   "cell_type": "markdown",
   "metadata": {},
   "source": [
    "# Examples\n",
    "**Example 1:**\n",
    "```\n",
    "Input: grid = [\n",
    "  [\"1\",\"1\",\"1\",\"1\",\"0\"],\n",
    "  [\"1\",\"1\",\"0\",\"1\",\"0\"],\n",
    "  [\"1\",\"1\",\"0\",\"0\",\"0\"],\n",
    "  [\"0\",\"0\",\"0\",\"0\",\"0\"]\n",
    "]\n",
    "Output: 1\n",
    "```\n",
    "\n",
    "**Example 2:**\n",
    "```\n",
    "Input: grid = [\n",
    "  [\"1\",\"1\",\"0\",\"0\",\"0\"],\n",
    "  [\"1\",\"1\",\"0\",\"0\",\"0\"],\n",
    "  [\"0\",\"0\",\"1\",\"0\",\"0\"],\n",
    "  [\"0\",\"0\",\"0\",\"1\",\"1\"]\n",
    "]\n",
    "Output: 3\n",
    "```"
   ]
  },
  {
   "cell_type": "code",
   "execution_count": null,
   "metadata": {},
   "outputs": [],
   "source": [
    "'''\n",
    "     Depth-First Search Method\n",
    "'''\n",
    "\n",
    "\n",
    "class Solution:\n",
    "    def dfs(self, grid, i, j):\n",
    "        m, n = len(grid), len(grid[0])\n",
    "        if i < 0 or j < 0 or i >= m or j >= n or grid[i][j] == '0':\n",
    "            return\n",
    "        grid[i][j] = '0'\n",
    "        self.dfs(grid, i + 1, j)\n",
    "        self.dfs(grid, i - 1, j)\n",
    "        self.dfs(grid, i, j + 1)\n",
    "        self.dfs(grid, i, j - 1)\n",
    "\n",
    "    def numIslands(self, grid: list[list[str]]) -> int:\n",
    "        m, n = len(grid), len(grid[0])\n",
    "        count = 0\n",
    "        for i in range(m):\n",
    "            for j in range(n):\n",
    "                if grid[i][j] == '1':\n",
    "                    count += 1\n",
    "                    self.dfs(grid, i, j)\n",
    "        return count"
   ]
  },
  {
   "cell_type": "code",
   "execution_count": null,
   "metadata": {},
   "outputs": [],
   "source": [
    "class Solution:\n",
    "    def numIslands(self, grid: list[list[str]]) -> int:\n",
    "        m = len(grid)\n",
    "        n = len(grid[0])\n",
    "        count = 0\n",
    "        for i in range(m):\n",
    "            for j in range(n):\n",
    "                if grid[i][j] == \"1\":\n",
    "                    count += 1\n",
    "                    stack = [(i, j)]\n",
    "                    while len(stack) > 0:\n",
    "                        node_i, node_j = stack.pop()\n",
    "                        grid[node_i][node_j] = \"2\"\n",
    "                        if node_i > 0 and grid[node_i - 1][node_j] == \"1\":\n",
    "                            stack.append((node_i - 1, node_j))\n",
    "                        if node_j > 0 and grid[node_i][node_j - 1] == \"1\":\n",
    "                            stack.append((node_i, node_j - 1))\n",
    "                        if node_i < n - 1 and grid[node_i + 1][node_j] == \"1\":\n",
    "                            stack.append((node_i + 1, node_j))\n",
    "                        if node_j < m - 1 and grid[node_i][node_j + 1] == \"1\":\n",
    "                            stack.append((node_i, node_j + 1))\n",
    "        return count"
   ]
  }
 ],
 "metadata": {
  "kernelspec": {
   "display_name": "base",
   "language": "python",
   "name": "python3"
  },
  "language_info": {
   "name": "python",
   "version": "3.11.7"
  }
 },
 "nbformat": 4,
 "nbformat_minor": 2
}
