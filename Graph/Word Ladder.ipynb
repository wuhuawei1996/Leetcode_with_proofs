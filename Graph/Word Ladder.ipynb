{
 "cells": [
  {
   "cell_type": "markdown",
   "metadata": {},
   "source": [
    "# Word Ladder\n",
    "A transformation sequence from word `beginWord` to word `endWord` using a dictionary wordList is a sequence of words <code>beginWord -> s<sup>1</sup> -> s<sup>2</sup> -> ... -> s<sup>k</sup></code> such that:\n",
    "- Every adjacent pair of words differs by a single letter.\n",
    "- Every <code>s<sup>i</sup></code> for `1 <= i <= k` is in `wordList`. Note that `beginWord` does not need to be in `wordList`.\n",
    "- <code>s<sup>k</sup> == endWord</code>\n",
    "\n",
    "Given two words, `beginWord` and `endWord`, and a dictionary `wordList`, return the number of words in the shortest transformation sequence from `beginWord` to `endWord`, or `0` if no such sequence exists.\n",
    "\n",
    "**Constraints:**\n",
    "- `1 <= beginWord.length <= 10`\n",
    "- `endWord.length == beginWord.length`\n",
    "- `1 <= wordList.length <= 5000`\n",
    "- `wordList[i].length == beginWord.length`\n",
    "- `beginWord`, `endWord`, and `wordList[i]` consist of lowercase English letters.\n",
    "- `beginWord != endWord`\n",
    "- All the words in wordList are unique."
   ]
  },
  {
   "cell_type": "markdown",
   "metadata": {},
   "source": [
    "## Examples\n",
    "\n",
    "**Example 1:**\n",
    "```\n",
    "Input: \n",
    "    beginWord = \"hit\", \n",
    "    endWord = \"cog\", \n",
    "    wordList = [\"hot\",\"dot\",\"dog\",\"lot\",\"log\",\"cog\"]\n",
    "Output: 5\n",
    "```\n",
    "Explanation: One shortest transformation sequence is \"hit\" -> \"hot\" -> \"dot\" -> \"dog\" -> cog\", which is 5 words long.\n",
    "\n",
    "**Example 2:**\n",
    "```\n",
    "Input: \n",
    "    beginWord = \"hit\", \n",
    "    endWord = \"cog\", \n",
    "    wordList = [\"hot\",\"dot\",\"dog\",\"lot\",\"log\"]\n",
    "Output: 0\n",
    "```\n",
    "Explanation: The endWord \"cog\" is not in wordList, therefore there is no valid transformation sequence."
   ]
  },
  {
   "cell_type": "markdown",
   "metadata": {},
   "source": [
    "Note: Since `wordList` can be very large, the complete graph should not be constructed in advance."
   ]
  },
  {
   "cell_type": "code",
   "execution_count": null,
   "metadata": {},
   "outputs": [],
   "source": [
    "from collections import deque\n",
    "\n",
    "\n",
    "class Solution:\n",
    "    def ladderLength(self, beginWord: str, endWord: str, wordList: list) -> int:\n",
    "        wordSet = set(wordList)\n",
    "        if endWord not in wordSet:\n",
    "            return 0\n",
    "\n",
    "        queue = deque([(beginWord, 1)])\n",
    "\n",
    "        while queue:\n",
    "            word, steps = queue.popleft()\n",
    "\n",
    "            for i in range(len(word)):\n",
    "                original = word[i]\n",
    "                for ch in range(26):\n",
    "                    transformed = word[:i] + chr(ord(\"a\") + ch) + word[i + 1 :]\n",
    "                    if transformed == endWord:\n",
    "                        return steps + 1\n",
    "                    if transformed in wordSet:\n",
    "                        wordSet.remove(transformed)  # Avoid revisiting\n",
    "                        queue.append((transformed, steps + 1))\n",
    "\n",
    "        return 0"
   ]
  }
 ],
 "metadata": {
  "kernelspec": {
   "display_name": "base",
   "language": "python",
   "name": "python3"
  },
  "language_info": {
   "name": "python",
   "version": "3.11.7"
  }
 },
 "nbformat": 4,
 "nbformat_minor": 2
}
