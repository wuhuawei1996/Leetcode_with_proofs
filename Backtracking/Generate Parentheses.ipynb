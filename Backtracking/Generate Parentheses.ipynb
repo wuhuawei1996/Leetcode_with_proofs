{
 "cells": [
  {
   "cell_type": "markdown",
   "metadata": {},
   "source": [
    "# Generate Parentheses\n",
    "\n",
    "Given `n` pairs of parentheses, write a function to generate all combinations of well-formed parentheses."
   ]
  },
  {
   "cell_type": "markdown",
   "metadata": {},
   "source": [
    "## Examples\n",
    "\n",
    "**Example 1:**\n",
    "```\n",
    "Input: n = 3\n",
    "Output: [\"((()))\",\"(()())\",\"(())()\",\"()(())\",\"()()()\"]\n",
    "```\n",
    "\n",
    "**Example 2:**\n",
    "```\n",
    "Input: n = 1\n",
    "Output: [\"()\"]\n",
    "```"
   ]
  },
  {
   "cell_type": "code",
   "execution_count": null,
   "metadata": {},
   "outputs": [],
   "source": [
    "class Solution:\n",
    "    def generateParenthesis(self, n: int) -> list[str]:\n",
    "        result = []\n",
    "\n",
    "        def backtracking(path, open_num, close_num):\n",
    "            if open_num == n and close_num == n:\n",
    "                result.append(\"\".join(path))\n",
    "                return\n",
    "\n",
    "            if open_num < n:\n",
    "                path.append(\"(\")\n",
    "                backtracking(path, open_num + 1, close_num)\n",
    "                path.pop()\n",
    "\n",
    "            if open_num > close_num:\n",
    "                path.append(\")\")\n",
    "                backtracking(path, open_num, close_num + 1)\n",
    "                path.pop()\n",
    "\n",
    "        backtracking([], 0, 0)\n",
    "\n",
    "        return result"
   ]
  }
 ],
 "metadata": {
  "kernelspec": {
   "display_name": "base",
   "language": "python",
   "name": "python3"
  },
  "language_info": {
   "name": "python",
   "version": "3.11.7"
  }
 },
 "nbformat": 4,
 "nbformat_minor": 2
}
