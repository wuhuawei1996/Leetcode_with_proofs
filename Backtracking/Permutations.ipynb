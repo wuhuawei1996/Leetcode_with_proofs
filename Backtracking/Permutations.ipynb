{
 "cells": [
  {
   "cell_type": "markdown",
   "metadata": {},
   "source": [
    "# Permutations\n",
    "Given an array `nums` of distinct integers, return all the possible \n",
    "permutations. You can return the answer in any order."
   ]
  },
  {
   "cell_type": "markdown",
   "metadata": {},
   "source": [
    "## Examples\n",
    "\n",
    "**Example 1:**\n",
    "```\n",
    "Input: nums = [1,2,3]\n",
    "Output: [[1,2,3],[1,3,2],[2,1,3],[2,3,1],[3,1,2],[3,2,1]]\n",
    "```\n",
    "\n",
    "**Example 2:**\n",
    "```\n",
    "Input: nums = [0,1]\n",
    "Output: [[0,1],[1,0]]\n",
    "```\n",
    "\n",
    "**Example 3:**\n",
    "```\n",
    "Input: nums = [1]\n",
    "Output: [[1]]\n",
    "```"
   ]
  },
  {
   "cell_type": "code",
   "execution_count": 1,
   "metadata": {},
   "outputs": [],
   "source": [
    "class Solution:\n",
    "    def permute(self, nums: list[int]) -> list[list[int]]:\n",
    "        result = []\n",
    "        def backtracking(used, path):\n",
    "            if len(path) == len(nums):\n",
    "                result.append(path[:])\n",
    "            \n",
    "            for a in nums:\n",
    "                if a not in used:\n",
    "                    used.add(a)\n",
    "                    path.append(a)\n",
    "                    backtracking(used, path)\n",
    "                    path.pop()\n",
    "                    used.remove(a)\n",
    "        \n",
    "        backtracking(set(), [])\n",
    "        return result"
   ]
  },
  {
   "cell_type": "code",
   "execution_count": null,
   "metadata": {},
   "outputs": [],
   "source": [
    "'''\n",
    "    In-place Method\n",
    "'''\n",
    "\n",
    "class Solution:\n",
    "    def permute(self, nums: list[int]) -> list[list[int]]:\n",
    "        result = []\n",
    "        def backtracking(start):\n",
    "            if start == len(nums):\n",
    "                result.append(nums[:])\n",
    "                return\n",
    "            for i in range(start, len(nums)):\n",
    "                # Swap\n",
    "                nums[start], nums[i] = nums[i], nums[start]\n",
    "                # Recur\n",
    "                backtracking(start + 1)\n",
    "                # Backtrack\n",
    "                nums[start], nums[i] = nums[i], nums[start]\n",
    "\n",
    "        backtracking(0)\n",
    "        return result"
   ]
  }
 ],
 "metadata": {
  "kernelspec": {
   "display_name": "base",
   "language": "python",
   "name": "python3"
  },
  "language_info": {
   "codemirror_mode": {
    "name": "ipython",
    "version": 3
   },
   "file_extension": ".py",
   "mimetype": "text/x-python",
   "name": "python",
   "nbconvert_exporter": "python",
   "pygments_lexer": "ipython3",
   "version": "3.11.7"
  }
 },
 "nbformat": 4,
 "nbformat_minor": 2
}
