{
 "cells": [
  {
   "cell_type": "markdown",
   "metadata": {},
   "source": [
    "# Power Set\n",
    "$\\quad$ Given a list `nums` of integers with no duplicates, return the power set of it. The power set is a set of all subsets of a set. The order of the subsets in the power set does not matter."
   ]
  },
  {
   "cell_type": "code",
   "execution_count": 63,
   "metadata": {},
   "outputs": [],
   "source": [
    "def subsets(nums):\n",
    "    result = []\n",
    "\n",
    "    def backtracking(start, path):\n",
    "        result.append(path[:])\n",
    "        for i in range(start, len(nums)):\n",
    "            path.append(nums[i])\n",
    "            backtracking(i + 1, path)\n",
    "            path.pop()\n",
    "\n",
    "    backtracking(0, [])\n",
    "\n",
    "    return result"
   ]
  },
  {
   "cell_type": "code",
   "execution_count": 68,
   "metadata": {},
   "outputs": [],
   "source": [
    "def subsets(nums, k):\n",
    "    result = []\n",
    "\n",
    "    def backtracking(start, path):\n",
    "        if len(path) == k:\n",
    "            result.append(path[:])\n",
    "            return\n",
    "        for i in range(start, len(nums) - (k - len(path)) + 1):\n",
    "            path.append(nums[i])\n",
    "            backtracking(i + 1, path)\n",
    "            path.pop()\n",
    "\n",
    "    backtracking(0, [])\n",
    "\n",
    "    return result"
   ]
  }
 ],
 "metadata": {
  "kernelspec": {
   "display_name": "base",
   "language": "python",
   "name": "python3"
  },
  "language_info": {
   "codemirror_mode": {
    "name": "ipython",
    "version": 3
   },
   "file_extension": ".py",
   "mimetype": "text/x-python",
   "name": "python",
   "nbconvert_exporter": "python",
   "pygments_lexer": "ipython3",
   "version": "3.11.7"
  }
 },
 "nbformat": 4,
 "nbformat_minor": 2
}
