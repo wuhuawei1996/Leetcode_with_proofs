{
 "cells": [
  {
   "cell_type": "markdown",
   "metadata": {},
   "source": [
    "# Combination Sum\n",
    "\n",
    "Given an array of distinct integers `candidates` and a target integer `target`, return a list of all unique combinations of `candidates` where the chosen numbers sum to `target`. You may return the combinations in any order.\n",
    "\n",
    "The same number may be chosen from `candidates` an unlimited number of times. Two combinations are unique if the  frequency of at least one of the chosen numbers is different.\n",
    "\n",
    "The test cases are generated such that the number of unique combinations that sum up to `target` is less than `150` combinations for the given input."
   ]
  },
  {
   "cell_type": "markdown",
   "metadata": {},
   "source": [
    "## Examples\n",
    "\n",
    "**Example 1:**\n",
    "```\n",
    "Input: candidates = [2,3,6,7], target = 7\n",
    "Output: [[2,2,3],[7]]\n",
    "```\n",
    "Explanation:<br>\n",
    "2 and 3 are candidates, and 2 + 2 + 3 = 7. Note that 2 can be used multiple times.\n",
    "7 is a candidate, and 7 = 7.<br>\n",
    "These are the only two combinations.\n",
    "\n",
    "**Example 2:**\n",
    "```\n",
    "Input: candidates = [2,3,5], target = 8\n",
    "Output: [[2,2,2,2],[2,3,3],[3,5]]\n",
    "```\n",
    "\n",
    "**Example 3:**\n",
    "```\n",
    "Input: candidates = [2], target = 1\n",
    "Output: []\n",
    "```"
   ]
  },
  {
   "cell_type": "code",
   "execution_count": 4,
   "metadata": {},
   "outputs": [],
   "source": [
    "class Solution:\n",
    "    def combinationSum(self, candidates: list[int], target: int) -> list[list[int]]:\n",
    "        result = []\n",
    "\n",
    "        def backtracking(start, path, total):\n",
    "            if total == target:\n",
    "                result.append(path[:])\n",
    "                return\n",
    "            if total > target:\n",
    "                return\n",
    "\n",
    "            for i in range(start, len(candidates)):\n",
    "                path.append(candidates[i])\n",
    "                backtracking(i, path, total + candidates[i])\n",
    "                path.pop()\n",
    "\n",
    "        backtracking(0, [], 0)\n",
    "\n",
    "        return result"
   ]
  }
 ],
 "metadata": {
  "kernelspec": {
   "display_name": "base",
   "language": "python",
   "name": "python3"
  },
  "language_info": {
   "codemirror_mode": {
    "name": "ipython",
    "version": 3
   },
   "file_extension": ".py",
   "mimetype": "text/x-python",
   "name": "python",
   "nbconvert_exporter": "python",
   "pygments_lexer": "ipython3",
   "version": "3.11.7"
  }
 },
 "nbformat": 4,
 "nbformat_minor": 2
}
