{
 "cells": [
  {
   "cell_type": "markdown",
   "metadata": {},
   "source": [
    "# Word Search\n",
    "\n",
    "Given an `m x n` grid of characters `board` and a string `word`, return true if `word` exists in the grid.\n",
    "\n",
    "The word can be constructed from letters of sequentially adjacent cells, where adjacent cells are horizontally or vertically neighboring. The same letter cell may not be used more than once."
   ]
  },
  {
   "cell_type": "markdown",
   "metadata": {},
   "source": [
    "## Examples\n",
    "\n",
    "**Example 1:**\n",
    "```\n",
    "Input: board = [[\"A\",\"B\",\"C\",\"E\"],[\"S\",\"F\",\"C\",\"S\"],[\"A\",\"D\",\"E\",\"E\"]], word = \"ABCCED\"\n",
    "Output: true\n",
    "```\n",
    "\n",
    "**Example 2:**\n",
    "```\n",
    "Input: board = [[\"A\",\"B\",\"C\",\"E\"],[\"S\",\"F\",\"C\",\"S\"],[\"A\",\"D\",\"E\",\"E\"]], word = \"SEE\"\n",
    "Output: true\n",
    "```\n",
    "\n",
    "**Example 3:**\n",
    "```\n",
    "Input: board = [[\"A\",\"B\",\"C\",\"E\"],[\"S\",\"F\",\"C\",\"S\"],[\"A\",\"D\",\"E\",\"E\"]], word = \"ABCB\"\n",
    "Output: false\n",
    "```"
   ]
  },
  {
   "cell_type": "code",
   "execution_count": 3,
   "metadata": {},
   "outputs": [],
   "source": [
    "class Solution:\n",
    "    def exist(self, board: list[list[str]], word: str) -> bool:\n",
    "        m, n = len(board), len(board[0])\n",
    "\n",
    "        def get_neighbors(i, j):\n",
    "            neighbors = []\n",
    "            if i > 0:\n",
    "                neighbors.append((i - 1, j))\n",
    "            if j > 0:\n",
    "                neighbors.append((i, j - 1))\n",
    "            if i + 1 < m:\n",
    "                neighbors.append((i + 1, j))\n",
    "            if j + 1 < n:\n",
    "                neighbors.append((i, j + 1))\n",
    "            return neighbors\n",
    "\n",
    "        def backtracking(path, visited):\n",
    "            i, j = path[-1]\n",
    "            if board[i][j] != word[len(path) - 1]:\n",
    "                return False\n",
    "            if len(path) == len(word):\n",
    "                return True\n",
    "\n",
    "            for neighbor in get_neighbors(i, j):\n",
    "                if neighbor not in visited:\n",
    "                    visited.add(neighbor)\n",
    "                    path.append(neighbor)\n",
    "                    if backtracking(path, visited):\n",
    "                        return True\n",
    "                    path.pop()\n",
    "                    visited.remove(neighbor)\n",
    "\n",
    "            return False\n",
    "\n",
    "        for i in range(m):\n",
    "            for j in range(n):\n",
    "                if backtracking([(i, j)], {(i, j)}):\n",
    "                    return True\n",
    "        return False"
   ]
  },
  {
   "cell_type": "markdown",
   "metadata": {},
   "source": [
    "$\\quad$ The above code can be optimized as follows:"
   ]
  },
  {
   "cell_type": "code",
   "execution_count": 4,
   "metadata": {},
   "outputs": [],
   "source": [
    "class Solution:\n",
    "    def exist(self, board: list[list[str]], word: str) -> bool:\n",
    "        m, n = len(board), len(board[0])\n",
    "        \n",
    "        def backtrack(i, j, k):\n",
    "            # If the current character does not match\n",
    "            if board[i][j] != word[k]:\n",
    "                return False\n",
    "            \n",
    "            # If we have matched the entire word\n",
    "            if k == len(word) - 1:\n",
    "                return True\n",
    "            \n",
    "            # Mark the current cell as visited\n",
    "            temp, board[i][j] = board[i][j], \"#\"\n",
    "            \n",
    "            # Explore all possible neighbors\n",
    "            for x, y in [(i - 1, j), (i + 1, j), (i, j - 1), (i, j + 1)]:\n",
    "                if 0 <= x < m and 0 <= y < n and board[x][y] != \"#\":\n",
    "                    if backtrack(x, y, k + 1):\n",
    "                        return True\n",
    "            \n",
    "            # Restore the original value\n",
    "            board[i][j] = temp\n",
    "            return False\n",
    "\n",
    "        # Check each cell as a starting point\n",
    "        for i in range(m):\n",
    "            for j in range(n):\n",
    "                if backtrack(i, j, 0):  # Start matching from the first character\n",
    "                    return True\n",
    "        \n",
    "        return False"
   ]
  }
 ],
 "metadata": {
  "kernelspec": {
   "display_name": "base",
   "language": "python",
   "name": "python3"
  },
  "language_info": {
   "codemirror_mode": {
    "name": "ipython",
    "version": 3
   },
   "file_extension": ".py",
   "mimetype": "text/x-python",
   "name": "python",
   "nbconvert_exporter": "python",
   "pygments_lexer": "ipython3",
   "version": "3.11.7"
  }
 },
 "nbformat": 4,
 "nbformat_minor": 2
}
