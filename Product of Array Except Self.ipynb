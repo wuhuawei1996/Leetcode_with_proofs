{
 "cells": [
  {
   "cell_type": "markdown",
   "metadata": {},
   "source": [
    "# Product of Array Except Self\n",
    "$\\quad$ Given an integer array $nums$, return an array answer such that $answer[i]$ is equal to the product of all the elements of $nums$ except $nums[i]$.\n",
    "\n",
    "$\\quad$ The product of any prefix or suffix of $nums$ is guaranteed to fit in a $32$-bit integer.\n",
    "\n",
    "$\\quad$ You must write an algorithm that runs in $O(n)$ time and without using the division operation."
   ]
  },
  {
   "cell_type": "markdown",
   "metadata": {},
   "source": [
    "# Example\n",
    "**Example 1:**<br>\n",
    "Input: $nums = [1,2,3,4]$<br>\n",
    "Output: $[24,12,8,6]$<br>\n",
    "\n",
    "**Example 2:**<br>\n",
    "Input: $nums = [-1,1,0,-3,3]$<br>\n",
    "Output: $[0,0,9,0,0]$"
   ]
  },
  {
   "cell_type": "markdown",
   "metadata": {},
   "source": [
    "# Analysis\n",
    "\n",
    "$\\quad$ Assume that $nums=[a_1,a_2,a_3,a_4,a_5]$. If we can construct the following two arrays:\n",
    "$$nums\\_1=[1,a_1,a_1a_2,a_1a_2a_3,a_1a_2a_3a_4]$$\n",
    "and\n",
    "$$nums\\_2=[a_2a_3a_4a_5,a_3a_4a_5,a_4a_5,a_5,1].$$\n",
    "Then the product of all the elements of $nums$ except $nums[i]$ is $nums\\_1[i-1]*nums\\_2[i+1]$."
   ]
  },
  {
   "cell_type": "code",
   "execution_count": null,
   "metadata": {},
   "outputs": [],
   "source": [
    "# Time complexity: O(n)\n",
    "class Solution:\n",
    "    def productExceptSelf(self, nums: list[int]) -> list[int]:\n",
    "        n = len(nums)\n",
    "        answer = [1] * n\n",
    "        for i in range(1,n):\n",
    "            answer[i] = answer[i-1] * nums[i-1]\n",
    "        right = 1\n",
    "        for i in range(n-2,-1,-1):\n",
    "            right *= nums[i+1]\n",
    "            answer[i] = answer[i] * right\n",
    "        return answer"
   ]
  }
 ],
 "metadata": {
  "kernelspec": {
   "display_name": "base",
   "language": "python",
   "name": "python3"
  },
  "language_info": {
   "name": "python",
   "version": "3.11.7"
  }
 },
 "nbformat": 4,
 "nbformat_minor": 2
}
