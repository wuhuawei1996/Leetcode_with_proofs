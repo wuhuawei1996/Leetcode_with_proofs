{
 "cells": [
  {
   "cell_type": "markdown",
   "metadata": {},
   "source": [
    "# Trapping Rain Water\n",
    "$\\quad$ Given $n$ non-negative integers representing an elevation map where the width of each bar is $1$, compute how much water it can trap after raining."
   ]
  },
  {
   "attachments": {
    "image.png": {
     "image/png": "[encoded data removed]"
    }
   },
   "cell_type": "markdown",
   "metadata": {},
   "source": [
    "# Examples\n",
    "**Example 1:**<br>\n",
    "Input: $height = [0,1,0,2,1,0,1,3,2,1,2,1]$<br>\n",
    "Output: $6$<br>\n",
    "Explanation: The above elevation map (black section) is represented by array $[0,1,0,2,1,0,1,3,2,1,2,1]$. In this case, $6$ units of rain water (blue section) are being trapped.\n",
    "\n",
    "![image.png](attachment:image.png)"
   ]
  },
  {
   "cell_type": "markdown",
   "metadata": {},
   "source": [
    "# Analysis\n",
    "$\\quad$ Assume that $height=[h_0,h_1,\\cdots,h_{n-1}]$. If $h_i\\le h_j$ with $i<j$, then for any $k\\in [i+1,j-1]$ such that $h_k\\le h_i$, the amount of rain water that can be trapped at coordinate $k$ is exactly $h_i-h_k$ units. Conversely, if $h_i\\le h_j$ with $i<j$, then for any $k\\in [i+1,j-1]$ such that $h_k\\le h_j$, the amount of rain water that can be trapped at coordinate $k$ is exactly $h_j-h_k$ units.\n",
    "\n",
    "$\\quad$ Let there be two walls: $leftmost$ and $rightmost$. Initially, left $leftmost=0$ and $rightmost=n-1$. We may assume that $h_0\\le h_{n-1}$. Let $i_1$ be the smallest integer in $[1,n-1]$ (if it exists) such that $h_{i_1}>h_0$. According the above observation, for any $i\\in [1,i_1-1]$, the amount of rain water that can be trapped at coordinate $i$ is exactly $h_0-h_i$ units. Add them to $total$ one by one. Since the rainwater trapped at the previous coordinates has already been accounted for, we can update $leftmost$ to $i_1$ and repeat the above process. Since $i_1\\ge 1$, the process is indeed progressing."
   ]
  },
  {
   "cell_type": "code",
   "execution_count": null,
   "metadata": {},
   "outputs": [],
   "source": [
    "class Solution:\n",
    "    def trap(self, height: list[int]) -> int:\n",
    "        n = len(height)\n",
    "        leftmost = 0\n",
    "        rightmost = n - 1\n",
    "        total = 0\n",
    "        while leftmost < rightmost:\n",
    "            if height[leftmost] <= height[rightmost]:\n",
    "                i = leftmost + 1\n",
    "                while i < rightmost and height[i] <= height[leftmost]:\n",
    "                    total += height[leftmost] - height[i]\n",
    "                    i += 1\n",
    "                leftmost = i\n",
    "            else:\n",
    "                j = rightmost - 1\n",
    "                while j > leftmost and height[j] <= height[rightmost]:\n",
    "                    total += height[rightmost] - height[j]\n",
    "                    j -= 1\n",
    "                rightmost = j\n",
    "        return total"
   ]
  },
  {
   "cell_type": "code",
   "execution_count": null,
   "metadata": {},
   "outputs": [],
   "source": [
    "# This is someone else's code from LeetCode.\n",
    "class Solution:\n",
    "    def trap(self, height: list[int]) -> int:\n",
    "        i = 0\n",
    "        left_max = height[0]\n",
    "        sum = 0\n",
    "        j = len(height) - 1\n",
    "        right_max = height[j]\n",
    "        while i < j:\n",
    "            if left_max <= right_max:\n",
    "                sum += left_max - height[i]\n",
    "                i += 1\n",
    "                left_max = max(left_max, height[i])\n",
    "            else:\n",
    "                sum += right_max - height[j]\n",
    "                j -= 1\n",
    "                right_max = max(right_max, height[j])\n",
    "        return sum"
   ]
  }
 ],
 "metadata": {
  "kernelspec": {
   "display_name": "base",
   "language": "python",
   "name": "python3"
  },
  "language_info": {
   "name": "python",
   "version": "3.11.7"
  }
 },
 "nbformat": 4,
 "nbformat_minor": 2
}
