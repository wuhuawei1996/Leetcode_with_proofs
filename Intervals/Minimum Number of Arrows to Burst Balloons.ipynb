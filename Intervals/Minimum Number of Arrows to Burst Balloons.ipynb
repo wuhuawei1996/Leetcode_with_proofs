{
 "cells": [
  {
   "cell_type": "markdown",
   "metadata": {},
   "source": [
    "# Minimum Number of Arrows to Burst Balloons\n",
    "$\\quad$ There are some spherical balloons taped onto a flat wall that represents the XY-plane. The balloons are represented as a 2D integer array points where $points[i] = [x_{start}, x_{end}]$ denotes a balloon whose horizontal diameter stretches between $x_{start}$ and $x_{end}$. You do not know the exact y-coordinates of the balloons.\n",
    "\n",
    "$\\quad$ Arrows can be shot up directly vertically (in the positive y-direction) from different points along the x-axis. A balloon with $x_{start} and $x_{end}$ is burst by an arrow shot at $x$ if $x_{start}\\le x\\le x_{end}$. There is no limit to the number of arrows that can be shot. A shot arrow keeps traveling up infinitely, bursting any balloons in its path.\n",
    "\n",
    "$\\quad$ Given the array $points$, return the minimum number of arrows that must be shot to burst all balloons."
   ]
  },
  {
   "cell_type": "markdown",
   "metadata": {},
   "source": [
    "# Examples\n",
    "**Example 1:**<br>\n",
    "Input: $points = [[10,16],[2,8],[1,6],[7,12]]$<br>\n",
    "Output: $2$<br>\n",
    "Explanation: The balloons can be burst by $2$ arrows:\n",
    "- Shoot an arrow at $x = 6$, bursting the balloons $[2,8]$ and $[1,6]$.\n",
    "- Shoot an arrow at $x = 11$, bursting the balloons $[10,16]$ and $[7,12]$.\n",
    "\n",
    "**Example 2:**<br>\n",
    "Input: $points = [[1,2],[3,4],[5,6],[7,8]]$<br>\n",
    "Output: $4$<br>\n",
    "Explanation: One arrow needs to be shot for each balloon for a total of $4$ arrows.\n",
    "\n",
    "**Example 3:**<br>\n",
    "Input: $points = [[1,2],[2,3],[3,4],[4,5]]$<br>\n",
    "Output: $2$<br>\n",
    "Explanation: The balloons can be burst by $2$ arrows:\n",
    "- Shoot an arrow at $x = 2$, bursting the balloons $[1,2]$ and $[2,3]$.\n",
    "- Shoot an arrow at $x = 4$, bursting the balloons $[3,4]$ and $[4,5]$."
   ]
  },
  {
   "cell_type": "markdown",
   "metadata": {},
   "source": [
    "# Analysis\n",
    "$\\quad$ Assume that $points=[[a_0,b_0],\\cdots,[a_{n-1},b_{n-1}]]$. After sorting, we may assume that $a_0\\le a_1\\le\\cdots\\le a_{n-1}$. We use $m(points)$ to denote the minimum number of arrows that must be shot to burst all balloons. For any $[x_1,y_1],[x_2,y_2]\\in\\mathbb{Z}^2$ with $x_1\\le x_2$, if $[x_1,y_1]\\cap [x_2,y_2]\\ne\\emptyset$, then \n",
    "$$\n",
    "\\begin{equation}\n",
    "[x_1,y_1]\\cap [x_{2},y_{2}]=[x_2,\\min(y_1,y_{2})].\n",
    "\\end{equation}\n",
    "$$\n",
    "Assume that $0\\le i_0\\le n-1$ such that \n",
    "$$A_{i_0}:=\\bigcap_{j=1}^{i_0}[a_j,b_j]\\ne\\emptyset,\\qquad B_{i_0}:=\\bigcap_{j=1}^{i_0+1}[a_j,b_j]=\\emptyset.$$\n",
    "Here, we make the convention that $[a_n,b_n]=\\emptyset$. By (1), we have $A_{i_0}=[a_{i_0},b_{i_1}]$ for some $0\\le i_1\\le i_0$, which implies that \n",
    "$$B_{i_0}=A_{i_0}\\cap [a_{i_0+1},b_{i_0+1}]=[a_{i_0},b_{i_1}]\\cap [a_{i_0+1},b_{i_0+1}]=\\emptyset.$$\n",
    "Since $a_{i_0}\\le a_{i_0+1}$, we must have $b_{i_1}<a_{i_0+1}$.\n",
    "\n",
    "$\\quad$ Now if we shoot an arrow at a point in $A_{i_0}$, then all the first $i_0+1$ ballon will burst, while the others will remain intact. Moreover, to burst the $i_1$-th balloon, we must shoot an arrow at a point in $[a_{i_1},b_{i_1}]\\big(\\supset A_{i_0}\\big)$. Hence an arrow shot at a point in $[b_{i_1}+1,\\infty)$ cannot burst all the first $i_0+1$ balloons. Therefore, we have \n",
    "$$m(points)=1+m(points[i_0+1:]).$$"
   ]
  },
  {
   "cell_type": "code",
   "execution_count": 1,
   "metadata": {},
   "outputs": [],
   "source": [
    "'''\n",
    "    Time Complexity: O(nlogn)\n",
    "    Space Complexity: O(1)\n",
    "'''\n",
    "class Solution:\n",
    "    def findMinArrowShots(self, points: list[list[int]]) -> int:\n",
    "        points.sort(key=lambda x: x[0])\n",
    "        if len(points) == 0:\n",
    "            return 0\n",
    "\n",
    "        def get_intersection(point_1, point_2):\n",
    "            return [point_2[0], min(point_1[1], point_2[1])]\n",
    "\n",
    "        intersection = points[0]\n",
    "        shots = 0\n",
    "        for i in range(1, len(points)):\n",
    "            if points[i][0] <= intersection[1]:\n",
    "                intersection = get_intersection(intersection, points[i])\n",
    "            else:\n",
    "                shots += 1\n",
    "                intersection = points[i]\n",
    "        shots += 1\n",
    "\n",
    "        return shots"
   ]
  },
  {
   "cell_type": "code",
   "execution_count": 2,
   "metadata": {},
   "outputs": [],
   "source": [
    "# Simplified version\n",
    "class Solution:\n",
    "    def findMinArrowShots(self, points: list[list[int]]) -> int:\n",
    "        points.sort(key=lambda x: x[0])\n",
    "        if len(points) == 0:\n",
    "            return 0\n",
    "\n",
    "        end = points[0][1]\n",
    "        shots = 0\n",
    "        for point in points[1:]:\n",
    "            if point[0] <= end:\n",
    "                end = min(end, point[1])\n",
    "            else:\n",
    "                shots += 1\n",
    "                end = point[1]\n",
    "        shots += 1\n",
    "\n",
    "        return shots"
   ]
  }
 ],
 "metadata": {
  "kernelspec": {
   "display_name": "base",
   "language": "python",
   "name": "python3"
  },
  "language_info": {
   "codemirror_mode": {
    "name": "ipython",
    "version": 3
   },
   "file_extension": ".py",
   "mimetype": "text/x-python",
   "name": "python",
   "nbconvert_exporter": "python",
   "pygments_lexer": "ipython3",
   "version": "3.11.7"
  }
 },
 "nbformat": 4,
 "nbformat_minor": 2
}
