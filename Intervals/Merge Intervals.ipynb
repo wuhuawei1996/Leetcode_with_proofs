{
 "cells": [
  {
   "cell_type": "markdown",
   "metadata": {},
   "source": [
    "# Merge Intervals\n",
    "$\\quad$ Given an array of intervals where $intervals[i] = [start_i, end_i]$, merge all overlapping intervals, and return an array of the non-overlapping intervals that cover all the intervals in the input."
   ]
  },
  {
   "cell_type": "markdown",
   "metadata": {},
   "source": [
    "# Examples\n",
    "**Example 1:**<br>\n",
    "Input: $intervals = [[1,3],[2,6],[8,10],[15,18]]$<br>\n",
    "Output: $[[1,6],[8,10],[15,18]]$<br>\n",
    "Explanation: Since intervals $[1,3]$ and $[2,6]$ overlap, merge them into $[1,6]$.\n",
    "\n",
    "**Example 2:**<br>\n",
    "Input: $intervals = [[1,4],[4,5]]$<br>\n",
    "Output: $[[1,5]]$<br>\n",
    "Explanation: Intervals $[1,4]$ and $[4,5]$ are considered overlapping."
   ]
  },
  {
   "cell_type": "code",
   "execution_count": null,
   "metadata": {},
   "outputs": [],
   "source": [
    "'''\n",
    "    Method 1\n",
    "    Time Complexity: O(nlogn)\n",
    "    Space Complexity: O(n)\n",
    "'''\n",
    "class Solution:\n",
    "    def merge(self, intervals: list[list[int]]) -> list[list[int]]:\n",
    "        if len(intervals) == 0:\n",
    "            return []\n",
    "        intervals.sort(key=lambda x: x[0])\n",
    "        result = [intervals[0]]\n",
    "\n",
    "        for i in range(1, len(intervals)):\n",
    "            if intervals[i][0]<= result[-1][1]:\n",
    "                result[-1] = [result[-1][0], max(intervals[i][1], result[-1][1])]\n",
    "            else:\n",
    "                result.append(intervals[i])\n",
    "        return result\n",
    "        "
   ]
  },
  {
   "cell_type": "code",
   "execution_count": null,
   "metadata": {},
   "outputs": [],
   "source": [
    "'''\n",
    "    Method 2\n",
    "    Time Complexity: O(nlogn)\n",
    "    Space Complexity: O(1)\n",
    "'''\n",
    "class Solution:\n",
    "    def merge(self, intervals: list[list[int]]) -> list[list[int]]:\n",
    "        intervals.sort(key=lambda x: x[0]) # Sort intervals by start time\n",
    "        k = 0 # Index for merged intervals\n",
    "        \n",
    "        for i in range(1, len(intervals)):\n",
    "            if intervals[k][1] >= intervals[i][0]: # Overlap detected\n",
    "                intervals[k][1] = max(intervals[k][1], intervals[i][1]) # Merge\n",
    "            else:\n",
    "                k += 1 # Move to the next position\n",
    "                intervals[k] = intervals[i] # Replace in-place\n",
    "        \n",
    "        return intervals[:k + 1] # Return only merged intervals"
   ]
  }
 ],
 "metadata": {
  "kernelspec": {
   "display_name": "base",
   "language": "python",
   "name": "python3"
  },
  "language_info": {
   "name": "python",
   "version": "3.11.7"
  }
 },
 "nbformat": 4,
 "nbformat_minor": 2
}
