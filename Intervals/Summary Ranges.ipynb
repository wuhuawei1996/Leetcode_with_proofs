{
 "cells": [
  {
   "cell_type": "markdown",
   "metadata": {},
   "source": [
    "# Summary Ranges\n",
    "$\\quad$ You are given a sorted unique integer array $nums$.\n",
    "\n",
    "$\\quad$ A range $[a,b]$ is the set of all integers from $a$ to $b$ (inclusive).\n",
    "\n",
    "$\\quad$ Return the smallest sorted list of ranges that cover all the numbers in the array exactly. That is, each element of $nums$ is covered by exactly one of the ranges, and there is no integer $x$ such that $x$ is in one of the ranges but not in $nums$.\n",
    "\n",
    "$\\quad$ Each range $[a,b]$ in the list should be output as:\n",
    "- \"a->b\" if $a\\ne b$\n",
    "- \"a\" if $a = b$"
   ]
  },
  {
   "cell_type": "markdown",
   "metadata": {},
   "source": [
    "# Examples\n",
    "**Example 1:**<br>\n",
    "Input: $nums = [0,1,2,4,5,7]$<br>\n",
    "Output: [\"0->2\",\"4->5\",\"7\"]<br>\n",
    "Explanation: The ranges are:<br>\n",
    "    $[0,2]$ --> \"0->2\"<br>\n",
    "    $[4,5]$ --> \"4->5\"<br>\n",
    "    $[7,7]$ --> \"7\"\n",
    "\n",
    "**Example 2:**<br>\n",
    "Input: $nums = [0,2,3,4,6,8,9]$<br>\n",
    "Output: [\"0\",\"2->4\",\"6\",\"8->9\"]<br>\n",
    "Explanation: The ranges are:<br>\n",
    "    $[0,0]$ --> \"0\"<br>\n",
    "    $[2,4]$ --> \"2->4\"<br>\n",
    "    $[6,6]$ --> \"6\"<br>\n",
    "    $[8,9]$ --> \"8->9\""
   ]
  },
  {
   "cell_type": "code",
   "execution_count": null,
   "metadata": {},
   "outputs": [],
   "source": [
    "class Solution:\n",
    "    def summaryRanges(self, nums: list[int]) -> list[str]:\n",
    "        if len(nums) == 0:\n",
    "            return []\n",
    "        result = []\n",
    "        start = 0\n",
    "        current = 1\n",
    "\n",
    "        def get_interval(i, j):\n",
    "            return str(nums[i]) if nums[i] == nums[j] else f\"{nums[i]}->{nums[j]}\"\n",
    "\n",
    "        while current < len(nums):\n",
    "            if nums[current] - nums[current-1] != 1:\n",
    "                result.append(get_interval(start, current-1))\n",
    "                start = current\n",
    "            current += 1\n",
    "\n",
    "        result.append(get_interval(start, current-1))\n",
    "\n",
    "        return result"
   ]
  }
 ],
 "metadata": {
  "kernelspec": {
   "display_name": "base",
   "language": "python",
   "name": "python3"
  },
  "language_info": {
   "name": "python",
   "version": "3.11.7"
  }
 },
 "nbformat": 4,
 "nbformat_minor": 2
}
