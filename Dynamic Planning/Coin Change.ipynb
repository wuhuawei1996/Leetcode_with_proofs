{
 "cells": [
  {
   "cell_type": "markdown",
   "metadata": {},
   "source": [
    "# Coin Change\n",
    "\n",
    "You are given an integer array `coins` representing coins of different denominations and an integer `amount` representing a total amount of money.\n",
    "\n",
    "Return the fewest number of coins that you need to make up that amount. If that amount of money cannot be made up by any combination of the coins, return `-1`.\n",
    "\n",
    "You may assume that you have an infinite number of each kind of coin."
   ]
  },
  {
   "cell_type": "markdown",
   "metadata": {},
   "source": [
    "## Examples\n",
    "\n",
    "**Example 1:**\n",
    "```\n",
    "Input: coins = [1,2,5], amount = 11\n",
    "Output: 3\n",
    "```\n",
    "Explanation: 11 = 5 + 5 + 1\n",
    "\n",
    "**Example 2:**\n",
    "```\n",
    "Input: coins = [2], amount = 3\n",
    "Output: -1\n",
    "```\n",
    "\n",
    "**Example 3:**\n",
    "```\n",
    "Input: coins = [1], amount = 0\n",
    "Output: 0\n",
    "```"
   ]
  },
  {
   "cell_type": "code",
   "execution_count": null,
   "metadata": {},
   "outputs": [],
   "source": [
    "class Solution:\n",
    "    def coinChange(self, coins: list[int], amount: int) -> int:\n",
    "        if amount == 0:\n",
    "            return 0\n",
    "        fewests = [float(\"inf\")] * (amount + 1)\n",
    "        fewests[0] = 0\n",
    "        for i in range(1, amount + 1):\n",
    "            for coin in coins:\n",
    "                if i >= coin:\n",
    "                    fewests[i] = min(fewests[i], fewests[i - coin] + 1)\n",
    "\n",
    "        return fewests[-1] if fewests[-1] != float(\"inf\") else -1"
   ]
  },
  {
   "cell_type": "code",
   "execution_count": null,
   "metadata": {},
   "outputs": [],
   "source": [
    "class Solution:\n",
    "    def coinChange(self, coins: list[int], amount: int) -> int:\n",
    "        if amount == 0:\n",
    "            return 0\n",
    "        fewests = [float(\"inf\")] * (amount + 1)\n",
    "        fewests[0] = 0\n",
    "        for coin in coins:\n",
    "            for i in range(coin, amount + 1):\n",
    "                fewests[i] = min(fewests[i], fewests[i - coin] + 1)\n",
    "\n",
    "        return fewests[amount] if fewests[amount] != float(\"inf\") else -1"
   ]
  }
 ],
 "metadata": {
  "kernelspec": {
   "display_name": "base",
   "language": "python",
   "name": "python3"
  },
  "language_info": {
   "name": "python",
   "version": "3.11.7"
  }
 },
 "nbformat": 4,
 "nbformat_minor": 2
}
