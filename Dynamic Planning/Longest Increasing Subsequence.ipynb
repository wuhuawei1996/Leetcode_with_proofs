{
 "cells": [
  {
   "cell_type": "markdown",
   "metadata": {},
   "source": [
    "# Longest Increasing Subsequence\n",
    "\n",
    "Given an integer array `nums`, return the length of the longest strictly increasing \n",
    "subsequence"
   ]
  },
  {
   "cell_type": "markdown",
   "metadata": {},
   "source": [
    "## Examples\n",
    "\n",
    "**Example 1:**\n",
    "```\n",
    "Input: nums = [10,9,2,5,3,7,101,18]\n",
    "Output: 4\n",
    "```\n",
    "Explanation: The longest increasing subsequence is [2,3,7,101], therefore the length is 4.\n",
    "\n",
    "**Example 2:**\n",
    "```\n",
    "Input: nums = [0,1,0,3,2,3]\n",
    "Output: 4\n",
    "```\n",
    "\n",
    "**Example 3:**\n",
    "```\n",
    "Input: nums = [7,7,7,7,7,7,7]\n",
    "Output: 1\n",
    "```"
   ]
  },
  {
   "cell_type": "code",
   "execution_count": 7,
   "metadata": {},
   "outputs": [],
   "source": [
    "class Solution:\n",
    "    def lengthOfLIS(self, nums: list[int]) -> int:\n",
    "        result = [1] * len(nums)\n",
    "\n",
    "        for i in range(1, len(nums)):\n",
    "            for j in range(i):\n",
    "                if nums[j] < nums[i]:\n",
    "                    result[i] = max(result[j] + 1, result[i])\n",
    "\n",
    "        return max(result)"
   ]
  },
  {
   "cell_type": "markdown",
   "metadata": {},
   "source": [
    "$\\quad$ The time complexity of the above algorithm is `O(n^2)`. Below, we present an algorithm with a time complexity of `O(nlogn)`."
   ]
  },
  {
   "cell_type": "markdown",
   "metadata": {},
   "source": [
    "## Analysis\n",
    "$\\quad$ For any integer $n$, let $f(n,i)$ represent the maximum length of a strictly increasing subsequence of $nums[0:i] + [n]$ ending with $n$. Then we consider $f(n,i+1)$ for any $n$.\n",
    "- If $n > nums[i]$, then it is clear that\n",
    "    $$f(n,i+1) = \\max\\Big(f(n,i),f(nums[i],i)+1\\Big).$$\n",
    "- If $n \\leq nums[i]$, then\n",
    "    $$f(n,i+1) = f(n,i).$$\n",
    "Thus, we have found the most important state transition formula for dynamic programming. \n",
    "\n",
    "$\\quad$ However, there is a problem: integers are infinite (or extremely numerous in certain programming languages), so it is impractical to maintain such a large matrix. How can we solve this problem? Please take a look at the following code:"
   ]
  },
  {
   "cell_type": "code",
   "execution_count": 8,
   "metadata": {},
   "outputs": [],
   "source": [
    "import bisect\n",
    "\n",
    "class Solution:\n",
    "    def lengthOfLIS(self, nums: list[int]) -> int:\n",
    "        if not nums:\n",
    "            return 0\n",
    "\n",
    "        subseq = []\n",
    "\n",
    "        for i, num in enumerate(nums):\n",
    "            pos = bisect.bisect_left(subseq, num)\n",
    "            if pos == len(subseq):\n",
    "                subseq.append(num)\n",
    "            else:\n",
    "                subseq[pos] = num\n",
    "\n",
    "        return len(subseq)"
   ]
  },
  {
   "cell_type": "markdown",
   "metadata": {},
   "source": [
    "$\\quad$ We denote the position obtained in the $i$-th iteration of the loop through <div align=\"center\">\n",
    "\n",
    "```Python\n",
    "pos = bisect.bisect_left(subseq, num)\n",
    "```\n",
    "\n",
    "</div> \n",
    "\n",
    "as $g(num,i)$. We prove by induction that for any $f(num,i)=g(num,i)$ for any $i$ and any $num$.\n",
    "\n",
    "$\\quad$ It is clear that $f(num,0)=g(num,0)$. Now, assume that $f(num,i)=g(num,i)$ for some $i$ and any $num$. Assume that the element replaced by $nums[i]$ in $subseq$ during the $i$-th iteration is $m$ (whose index in $subseq$ is $g(m,i)=g(nums[i],i)$). Since $m$ is replaced by $nums[i]$, we know that $m\\ge nums[i]$.\n",
    "\n",
    "$\\quad$ Let us consider the $(i+1)$-th iteration. \n",
    "- If $num > m$, then it is clear that $g(num,i)\\ge g(m,i)+1$. Since we also have $num > nums[i]$, it follows that $g(num,i+1) = g(num,i)$, which implies that\n",
    "    $$g(num,i+1)=g(num,i)=\\max\\Big(g(num,i),g(nums[i],i)+1\\Big).$$\n",
    "- If $nums[i]<num\\le m$, since we have $g(nums[i],i)=g(m,i)$, it follows that $g(num,i)=g(nums[i],i)$ and $g(num,i+1)=g(nums[i],i)+1$, which implies that \n",
    "    $$g(num,i+1)=g(nums[i],i)+1=\\max\\Big(g(num,i),g(nums[i],i)+1\\Big).$$\n",
    "- If $num\\le nums[i]$, then it is clear that $g(num,i+1)=g(num,i)$.\n",
    "\n",
    "$\\quad$ This indicates that for any $num$, $f(num,i)$ and $g(num,i)$ follow the same recursive formula. Therefore, the conclusion is proven.\n",
    "\n",
    "$\\quad$ Based on the conclusion proven above and the code, the length of $subseq$ increases if and only if a new longer subsequence is formed. Therefore, the final $len(subseq)$ represents the length of the longest subsequence in $nums$."
   ]
  }
 ],
 "metadata": {
  "kernelspec": {
   "display_name": "base",
   "language": "python",
   "name": "python3"
  },
  "language_info": {
   "codemirror_mode": {
    "name": "ipython",
    "version": 3
   },
   "file_extension": ".py",
   "mimetype": "text/x-python",
   "name": "python",
   "nbconvert_exporter": "python",
   "pygments_lexer": "ipython3",
   "version": "3.11.7"
  }
 },
 "nbformat": 4,
 "nbformat_minor": 2
}
