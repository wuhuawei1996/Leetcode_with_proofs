{
 "cells": [
  {
   "cell_type": "markdown",
   "metadata": {},
   "source": [
    "# Two Sum\n",
    "$\\quad$ Given an array of integers $nums$ and an integer target, return indices of the two numbers such that they add up to target.\n",
    "\n",
    "$\\quad$ You may assume that each input would have exactly one solution, and you may not use the same element twice.\n",
    "\n",
    "$\\quad$ You can return the answer in any order."
   ]
  },
  {
   "cell_type": "markdown",
   "metadata": {},
   "source": [
    "# Examples\n",
    "\n",
    "**Example 1:**<br>\n",
    "Input: $nums = [2,7,11,15]$, $target = 9$<br>\n",
    "Output: $[0,1]$<br>\n",
    "Explanation: Because $nums[0] + nums[1] = 9$, we return $[0, 1]$.\n",
    "\n",
    "**Example 2:**<br>\n",
    "Input: $nums = [3,2,4]$, $target = 6$<br>\n",
    "Output: $[1,2]$<br>\n",
    "\n",
    "**Example 3:**<br>\n",
    "Input: $nums = [3,3]$, $target = 6$<br>\n",
    "Output: $[0,1]$"
   ]
  },
  {
   "cell_type": "code",
   "execution_count": 1,
   "metadata": {},
   "outputs": [],
   "source": [
    "# Time Complexity: O(n)\n",
    "# Space Complexity: O(n)\n",
    "class Solution:\n",
    "    def twoSum(self, nums: list[int], target: int) -> list[int]:\n",
    "        table = {}\n",
    "        for i, num in enumerate(nums):\n",
    "            if (target - num) in table:\n",
    "                return [table[target - num], i]\n",
    "            else:\n",
    "                table[num] = i"
   ]
  },
  {
   "cell_type": "markdown",
   "metadata": {},
   "source": [
    "# Two Sum II - Input Array Is Sorted\n",
    "$\\quad$ Given a $1$-indexed array of integers $numbers$ that is already sorted in non-decreasing order, find two numbers such that they add up to a specific target number. Let these two numbers be $numbers[index_1]$ and $numbers[index_2]$ where $1\\le index_1<index_2\\le numbers.length$.\n",
    "\n",
    "$\\quad$ Return the indices of the two numbers, $index_1$ and $index_2$, added by one as an integer array $[index_1, index_2]$ of length $2$.\n",
    "\n",
    "$\\quad$ The tests are generated such that there is exactly one solution. You may not use the same element twice.\n",
    "\n",
    "$\\quad$ Your solution must use only constant extra space."
   ]
  },
  {
   "cell_type": "markdown",
   "metadata": {},
   "source": [
    "# Examples\n",
    "\n",
    "**Example 1:**<br>\n",
    "Input: $numbers = [2,7,11,15]$, $target = 9$<br>\n",
    "Output: $[1,2]$<br>\n",
    "Explanation: The sum of $2$ and $7$ is $9$. Therefore, $index_1 = 1$, $index_2 = 2$. We return $[1, 2]$.<br>\n",
    "\n",
    "**Example 2:**<br>\n",
    "Input: $numbers = [2,3,4]$, $target = 6$<br>\n",
    "Output: $[1,3]$<br>\n",
    "Explanation: The sum of $2$ and $4$ is $6$. Therefore $index_1 = 1$, $index_2 = 3$. We return $[1, 3]$.\n",
    "\n",
    "**Example 3:**<br>\n",
    "Input: $numbers = [-1,0]$, $target = -1$<br>\n",
    "Output: $[1,2]$<br>\n",
    "Explanation: The sum of $-1$ and $0$ is $-1$. Therefore $index_1 = 1$, $index_2 = 2$. We return $[1, 2]$."
   ]
  },
  {
   "cell_type": "markdown",
   "metadata": {},
   "source": [
    "# Analysis\n",
    "$\\quad$ Assume that $numbers=[a_0,a_1,\\cdots,a_{n-1}]$ and $a_{i_0}+a_{j_0}=target$ with $i_0<j_0$. Let $i_1,j_1\\in [0,n-1]$ be such that $i_1<j_1$ and the following three conditions hold:\n",
    "- for any $i<i_1$ and $j>j_1$, we have $a_i+a_j\\ne target$;\n",
    "- for any $i<i_1$, there exists $j\\ge j_1$ such that $a_i+a_j<target$;\n",
    "- for any $j>j_1$, there exists $i\\le i_1$ such that $a_i+a_j>target$.\n",
    "\n",
    "$\\quad$ We claim that the above three conditions imply that $i_0\\ge i_1$ and $j_0\\le j_1$. Indeed, for any $i,j\\in[0,n-1]$ with $i<j$, \n",
    "- if $i<i_1$ and $j>j_1$, then according to the first condition, we have $a_i+a_j\\ne target$;\n",
    "- if $i<i_1$ and $j\\le j_1$, since according to the second condition, there exists $j'\\ge j_1$ such that $a_i+a_{j'}<target$, we have $a_i+a_j<target$ since $a_j\\le a_{j'}$;\n",
    "- if $i\\ge i_1$ and $j>j_1$, since according to the third condition, there exists $i'\\le i_1$ such that $a_{i'}+a_j>target$, we have $a_i+a_j>target$ since $a_i\\ge a_{i'}$.\n",
    "\n",
    "Hence the claim holds.\n",
    "\n",
    "$\\quad$ We now have the following three cases:\n",
    "1. $a_{i_1}+a_{j_1}=target$. Then $i_1$ and $j_1$ are the indices we want.\n",
    "2. $a_{i_1}+a_{j_1}<target$. For any $j>j_1$, by assumption, there exists $i\\le i_1$ such that $a_i+a_j>target$. Since $a_{i_1}\\ge a_i$, we have $a_{i_1}+a_j>target$. Hence the following three conditions hold:\n",
    "    - for any $i<i_1+1$ and $j>j_1$, we have $a_i+a_j\\ne target$;\n",
    "    - for any $i<i_1+1$, there exists $j\\ge j_1$ such that $a_i+a_j<target$;\n",
    "    - for any $j>j_1$, there exists $i\\le i_1+1$ such that $a_i+a_j>target$.\n",
    "\n",
    "    According to the above claim, we have $i_0\\ge i_1+1$ and $j_0\\le j_1$.\n",
    "\n",
    "3. $a_{i_1}+a_{j_1}>target$. For any $i<i_1$, by assumption, there exists $j\\ge j_1$ such that $a_i+a_j<target$. Since $a_{j_1}\\le a_j$, we have $a_i+a_{j_1}<target$. Hence the following three conditions hold:\n",
    "    - for any $i<i_1$ and $j>j_1-1$, we have $a_i+a_j\\ne target$;\n",
    "    - for any $i<i_1$, there exists $j\\ge j_1-1$ such that $a_i+a_j<target$;\n",
    "    - for any $j>j_1-1$, there exists $i\\le i_1$ such that $a_i+a_j>target$.\n",
    "\n",
    "    According to the above claim, we have $i_0\\ge i_1$ and $j_0\\le j_1-1$."
   ]
  },
  {
   "cell_type": "code",
   "execution_count": null,
   "metadata": {},
   "outputs": [],
   "source": [
    "class Solution:\n",
    "    def twoSum(self, numbers: list[int], target: int) -> list[int]:\n",
    "        i = 0\n",
    "        j = len(numbers) - 1\n",
    "        while i < j:\n",
    "            if numbers[i] + numbers[j] == target:\n",
    "                return [i + 1, j + 1]\n",
    "            elif numbers[i] + numbers[j] < target:\n",
    "                i += 1\n",
    "            else:\n",
    "                j -= 1"
   ]
  },
  {
   "cell_type": "markdown",
   "metadata": {},
   "source": [
    "$\\quad$ Note that if the solution is not unique, the above method can also be adapted to find all solutions."
   ]
  },
  {
   "cell_type": "markdown",
   "metadata": {},
   "source": [
    "# Three Sum\n",
    "$\\quad$ Given an integer array $nums$, return all the triplets $[nums[i], nums[j], nums[k]]$ such that $i\\ne j$, $i\\ne k$, and $j\\ne k$, and $nums[i] + nums[j] + nums[k] = 0$.\n",
    "\n",
    "$\\quad$ Notice that the solution set must not contain duplicate triplets."
   ]
  },
  {
   "cell_type": "markdown",
   "metadata": {},
   "source": [
    "**Example 1:**<br>\n",
    "Input: $nums = [-1,0,1,2,-1,-4]$<br>\n",
    "Output: $[[-1,-1,2],[-1,0,1]]$<br>\n",
    "Explanation:<br>\n",
    "$nums[0] + nums[1] + nums[2] = (-1) + 0 + 1 = 0$.<br>\n",
    "$nums[1] + nums[2] + nums[4] = 0 + 1 + (-1) = 0$.<br>\n",
    "$nums[0] + nums[3] + nums[4] = (-1) + 2 + (-1) = 0$.<br>\n",
    "The distinct triplets are $[-1,0,1]$ and $[-1,-1,2]$.<br>\n",
    "Notice that the order of the output and the order of the triplets does not matter.\n",
    "\n",
    "**Example 2:**<br>\n",
    "Input: $nums = [0,1,1]$<br>\n",
    "Output: $[]$<br>\n",
    "Explanation: The only possible triplet does not sum up to $0$.\n",
    "\n",
    "**Example 3:**<br>\n",
    "Input: $nums = [0,0,0]$<br>\n",
    "Output: $[[0,0,0]]$<br>\n",
    "Explanation: The only possible triplet sums up to $0$."
   ]
  },
  {
   "cell_type": "code",
   "execution_count": null,
   "metadata": {},
   "outputs": [],
   "source": [
    "class Solution:\n",
    "    def threeSum(self, nums: list[int]) -> list[list[int]]:\n",
    "        res = []\n",
    "        nums.sort()\n",
    "\n",
    "        for i in range(len(nums)):\n",
    "            if i > 0 and nums[i] == nums[i-1]:\n",
    "                continue\n",
    "            \n",
    "            j = i + 1\n",
    "            k = len(nums) - 1\n",
    "\n",
    "            target = -nums[i]\n",
    "            while j < k:\n",
    "                total = nums[j] + nums[k]\n",
    "\n",
    "                if total > target:\n",
    "                    k -= 1\n",
    "                elif total < target:\n",
    "                    j += 1\n",
    "                else:\n",
    "                    res.append([nums[i], nums[j], nums[k]])\n",
    "                    j += 1\n",
    "\n",
    "                    while nums[j] == nums[j-1] and j < k:\n",
    "                        j += 1\n",
    "        \n",
    "        return res"
   ]
  }
 ],
 "metadata": {
  "kernelspec": {
   "display_name": "base",
   "language": "python",
   "name": "python3"
  },
  "language_info": {
   "codemirror_mode": {
    "name": "ipython",
    "version": 3
   },
   "file_extension": ".py",
   "mimetype": "text/x-python",
   "name": "python",
   "nbconvert_exporter": "python",
   "pygments_lexer": "ipython3",
   "version": "3.11.7"
  }
 },
 "nbformat": 4,
 "nbformat_minor": 2
}
