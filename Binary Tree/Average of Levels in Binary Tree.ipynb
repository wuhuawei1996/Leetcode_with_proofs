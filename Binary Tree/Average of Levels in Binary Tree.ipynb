{
 "cells": [
  {
   "cell_type": "markdown",
   "metadata": {},
   "source": [
    "# Average of Levels in Binary Tree\n",
    "Given the `root` of a binary tree, return the average value of the nodes on each level in the form of an array. Answers within <code>10<sup>-5</sup></code> of the actual answer will be accepted."
   ]
  },
  {
   "cell_type": "markdown",
   "metadata": {},
   "source": [
    "# Examples\n",
    "\n",
    "**Example 1:**\n",
    "```\n",
    "Input: root = [3,9,20,null,null,15,7]\n",
    "Output: [3.00000,14.50000,11.00000]\n",
    "```\n",
    "Explanation: The average value of nodes on level 0 is 3, on level 1 is 14.5, and on level 2 is 11. Hence return [3, 14.5, 11].\n",
    "\n",
    "**Example 2:**\n",
    "```\n",
    "Input: root = [3,9,20,15,7]\n",
    "Output: [3.00000,14.50000,11.00000]\n",
    "```"
   ]
  },
  {
   "cell_type": "code",
   "execution_count": null,
   "metadata": {},
   "outputs": [],
   "source": [
    "from collections import deque\n",
    "from typing import Optional\n",
    "\n",
    "# Definition for a binary tree node.\n",
    "\n",
    "\n",
    "class TreeNode:\n",
    "    def __init__(self, val=0, left=None, right=None):\n",
    "        self.val = val\n",
    "        self.left = left\n",
    "        self.right = right\n",
    "\n",
    "\n",
    "class Solution:\n",
    "    def averageOfLevels(self, root: Optional[TreeNode]) -> list[float]:\n",
    "        if root == None:\n",
    "            return []\n",
    "        queue = deque([root])\n",
    "        result = []\n",
    "        while len(queue) > 0:\n",
    "            n = len(queue)\n",
    "            _sum = 0\n",
    "            for _ in range(n):\n",
    "                elem = queue.popleft()\n",
    "                _sum += elem.val\n",
    "                if elem.left:\n",
    "                    queue.append(elem.left)\n",
    "                if elem.right:\n",
    "                    queue.append(elem.right)\n",
    "            result.append(_sum / n)\n",
    "            \n",
    "        return result"
   ]
  }
 ],
 "metadata": {
  "kernelspec": {
   "display_name": "base",
   "language": "python",
   "name": "python3"
  },
  "language_info": {
   "name": "python",
   "version": "3.11.7"
  }
 },
 "nbformat": 4,
 "nbformat_minor": 2
}
