{
 "cells": [
  {
   "cell_type": "markdown",
   "metadata": {},
   "source": [
    "# Lowest Common Ancestor of a Binary Tree\n",
    "Given a binary tree, find the lowest common ancestor (LCA) of two given nodes in the tree.\n",
    "\n",
    "According to the definition of LCA on Wikipedia: “The lowest common ancestor is defined between two nodes `p` and `q` as the lowest node in `T` that has both `p` and `q` as descendants (where we allow a node to be a descendant of itself).”\n",
    "\n",
    "Constraints:\n",
    "- All Node.val are unique.\n",
    "- `p` != `q`.\n",
    "- `p` and `q` will exist in the tree."
   ]
  },
  {
   "attachments": {
    "image.png": {
     "image/png": "[encoded data removed]"
    }
   },
   "cell_type": "markdown",
   "metadata": {},
   "source": [
    "# Examples\n",
    "\n",
    "**Example 1:**\n",
    "\n",
    "![image.png](attachment:image.png)\n",
    "```\n",
    "Input: root = [3,5,1,6,2,0,8,null,null,7,4], p = 5, q = 1\n",
    "Output: 3\n",
    "```\n",
    "\n",
    "Explanation: The LCA of nodes 5 and 1 is 3.\n",
    "\n",
    "**Example 2:**\n",
    "\n",
    "![image.png](attachment:image.png)\n",
    "```\n",
    "Input: root = [3,5,1,6,2,0,8,null,null,7,4], p = 5, q = 4\n",
    "Output: 5\n",
    "```\n",
    "\n",
    "Explanation: The LCA of nodes 5 and 4 is 5, since a node can be a descendant of itself according to the LCA definition.\n",
    "\n",
    "**Example 3:**\n",
    "```\n",
    "Input: root = [1,2], p = 1, q = 2\n",
    "Output: 1\n",
    "```"
   ]
  },
  {
   "cell_type": "code",
   "execution_count": 1,
   "metadata": {},
   "outputs": [],
   "source": [
    "# Definition for a binary tree node.\n",
    "class TreeNode:\n",
    "    def __init__(self, x):\n",
    "        self.val = x\n",
    "        self.left = None\n",
    "        self.right = None\n",
    "\n",
    "\n",
    "class Solution:\n",
    "    def lowestCommonAncestor(self, root: 'TreeNode', p: 'TreeNode', q: 'TreeNode') -> 'TreeNode':\n",
    "        def helper(node):\n",
    "            if node == None:\n",
    "                return 0, None\n",
    "            left_result = helper(node.left)\n",
    "            right_result = helper(node.right)\n",
    "            if left_result[0] == 2:\n",
    "                return 2, left_result[1]\n",
    "            elif right_result[0] == 2:\n",
    "                return 2, right_result[1]\n",
    "            else:\n",
    "                result = left_result[0] + right_result[0]\n",
    "                result += 1 if node == p or node == q else 0\n",
    "                if result == 2:\n",
    "                    return 2, node\n",
    "                else:\n",
    "                    return result, None\n",
    "\n",
    "        return helper(root)[1]"
   ]
  },
  {
   "cell_type": "markdown",
   "metadata": {},
   "source": [
    "A simplified version of the above algorithm is as follows."
   ]
  },
  {
   "cell_type": "code",
   "execution_count": null,
   "metadata": {},
   "outputs": [],
   "source": [
    "# Definition for a binary tree node.\n",
    "class TreeNode:\n",
    "    def __init__(self, x):\n",
    "        self.val = x\n",
    "        self.left = None\n",
    "        self.right = None\n",
    "\n",
    "\n",
    "class Solution:\n",
    "    def lowestCommonAncestor(self, root: TreeNode, p: TreeNode, q: TreeNode) -> TreeNode:\n",
    "        def dfs(node):\n",
    "            # Base case: null node\n",
    "            if not node:\n",
    "                return None\n",
    "\n",
    "            # If the current node is either p or q, return it\n",
    "            if node == p or node == q:\n",
    "                return node\n",
    "\n",
    "            # Recur for left and right children\n",
    "            left = dfs(node.left)\n",
    "            right = dfs(node.right)\n",
    "\n",
    "            # If both left and right return a non-null value, current node is LCA\n",
    "            if left and right:\n",
    "                return node\n",
    "\n",
    "            # Otherwise, return the non-null child (or null if both are null)\n",
    "            return left if left else right\n",
    "\n",
    "        # Start the DFS from the root\n",
    "        return dfs(root)"
   ]
  },
  {
   "cell_type": "markdown",
   "metadata": {},
   "source": [
    "In the following algorithm, when a node is pushed onto the stack, the elements before it in the stack are exactly all its ancestor nodes, starting from the root."
   ]
  },
  {
   "cell_type": "code",
   "execution_count": 2,
   "metadata": {},
   "outputs": [],
   "source": [
    "# Definition for a binary tree node.\n",
    "class TreeNode:\n",
    "    def __init__(self, x):\n",
    "        self.val = x\n",
    "        self.left = None\n",
    "        self.right = None\n",
    "\n",
    "\n",
    "class Solution:\n",
    "    def lowestCommonAncestor(self, root: 'TreeNode', p: 'TreeNode', q: 'TreeNode') -> 'TreeNode':\n",
    "        traverse_stack = [root]\n",
    "        found_set = set()\n",
    "        first_index = float('inf')\n",
    "        while len(traverse_stack) > 0:\n",
    "            if traverse_stack[-1] == p or traverse_stack[-1] == q:\n",
    "                found_set.add(traverse_stack[-1])\n",
    "                if len(found_set) == 1:\n",
    "                    first_index = len(traverse_stack)\n",
    "                if len(found_set) == 2:\n",
    "                    return traverse_stack[first_index - 1]\n",
    "\n",
    "            if traverse_stack[-1].left:\n",
    "                traverse_stack.append(traverse_stack[-1].left)\n",
    "                traverse_stack[-2].left = None\n",
    "            elif traverse_stack[-1].right:\n",
    "                traverse_stack.append(traverse_stack[-1].right)\n",
    "                traverse_stack[-2].right = None\n",
    "            else:\n",
    "                traverse_stack.pop()\n",
    "                if len(found_set) == 1:\n",
    "                    first_index = min(len(traverse_stack), first_index)"
   ]
  }
 ],
 "metadata": {
  "kernelspec": {
   "display_name": "base",
   "language": "python",
   "name": "python3"
  },
  "language_info": {
   "codemirror_mode": {
    "name": "ipython",
    "version": 3
   },
   "file_extension": ".py",
   "mimetype": "text/x-python",
   "name": "python",
   "nbconvert_exporter": "python",
   "pygments_lexer": "ipython3",
   "version": "3.11.7"
  }
 },
 "nbformat": 4,
 "nbformat_minor": 2
}
