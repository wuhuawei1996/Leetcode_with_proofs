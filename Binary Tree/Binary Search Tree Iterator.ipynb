{
 "cells": [
  {
   "cell_type": "markdown",
   "metadata": {},
   "source": [
    "# Binary Search Tree Iterator\n",
    "Implement the `BSTIterator` class that represents an iterator over the in-order traversal of a binary search tree (BST):\n",
    "\n",
    "- `BSTIterator(TreeNode root)` Initializes an object of the `BSTIterator` class. The `root` of the BST is given as part of the constructor. The pointer should be initialized to a non-existent number smaller than any element in the BST.\n",
    "- `boolean hasNext()` Returns `true` if there exists a number in the traversal to the right of the pointer, otherwise returns `false`.\n",
    "- `int next()` Moves the pointer to the right, then returns the number at the pointer.\n",
    "\n",
    "Notice that by initializing the pointer to a non-existent smallest number, the first call to `next()` will return the smallest element in the BST.\n",
    "\n",
    "You may assume that `next()` calls will always be valid. That is, there will be at least a next number in the in-order traversal when `next()` is called."
   ]
  },
  {
   "attachments": {
    "image.png": {
     "image/png": "[encoded data removed]"
    }
   },
   "cell_type": "markdown",
   "metadata": {},
   "source": [
    "# Examples\n",
    "**Example 1:**\n",
    "\n",
    "![image.png](attachment:image.png)\n",
    "```\n",
    "Input\n",
    "[\"BSTIterator\", \"next\", \"next\", \"hasNext\", \"next\", \"hasNext\", \"next\", \"hasNext\", \"next\", \"hasNext\"]\n",
    "[[[7, 3, 15, null, null, 9, 20]], [], [], [], [], [], [], [], [], []]\n",
    "Output\n",
    "[null, 3, 7, true, 9, true, 15, true, 20, false]\n",
    "```\n",
    "Explanation\n",
    "```\n",
    "BSTIterator bSTIterator = new BSTIterator([7, 3, 15, null, null, 9, 20]);\n",
    "bSTIterator.next();    // return 3\n",
    "bSTIterator.next();    // return 7\n",
    "bSTIterator.hasNext(); // return True\n",
    "bSTIterator.next();    // return 9\n",
    "bSTIterator.hasNext(); // return True\n",
    "bSTIterator.next();    // return 15\n",
    "bSTIterator.hasNext(); // return True\n",
    "bSTIterator.next();    // return 20\n",
    "bSTIterator.hasNext(); // return False\n",
    "```"
   ]
  },
  {
   "cell_type": "code",
   "execution_count": null,
   "metadata": {},
   "outputs": [],
   "source": [
    "from typing import Optional\n",
    "\n",
    "# Definition for a binary tree node.\n",
    "\n",
    "\n",
    "class TreeNode:\n",
    "    def __init__(self, val=0, left=None, right=None):\n",
    "        self.val = val\n",
    "        self.left = left\n",
    "        self.right = right\n",
    "\n",
    "\n",
    "class BSTIterator:\n",
    "\n",
    "    def __init__(self, root: Optional[TreeNode]):\n",
    "        self.stack = []\n",
    "        self._push_to_stack(root)\n",
    "\n",
    "    def _push_to_stack(self, node):\n",
    "        while node:\n",
    "            self.stack.append(node)\n",
    "            node = node.left\n",
    "\n",
    "    def next(self) -> int:\n",
    "        node = self.stack.pop()\n",
    "        if node.right:\n",
    "            self._push_to_stack(node.right)\n",
    "        return node.val\n",
    "\n",
    "    def hasNext(self) -> bool:\n",
    "        return len(self.stack) > 0"
   ]
  }
 ],
 "metadata": {
  "kernelspec": {
   "display_name": "base",
   "language": "python",
   "name": "python3"
  },
  "language_info": {
   "name": "python",
   "version": "3.11.7"
  }
 },
 "nbformat": 4,
 "nbformat_minor": 2
}
