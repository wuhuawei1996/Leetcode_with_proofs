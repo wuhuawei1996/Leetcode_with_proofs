{
 "cells": [
  {
   "cell_type": "markdown",
   "metadata": {},
   "source": [
    "# Zigzag Conversion\n",
    "$\\quad$ The string \"PAYPALISHIRING\" is written in a zigzag pattern on a given number of rows like this: (you may want to display this pattern in a fixed font for better legibility)\n",
    "<div style=\"display: flex; justify-content: center;\">\n",
    "<pre>\n",
    "P   A   H   N  \n",
    "A P L S I I G  \n",
    "Y   I   R\n",
    "</pre>\n",
    "</div>\n",
    "And then read line by line: \"PAHNAPLSIIGYIR\""
   ]
  },
  {
   "cell_type": "markdown",
   "metadata": {},
   "source": [
    "# Examples\n",
    "**Example 1:**<br>\n",
    "Input: s = \"PAYPALISHIRING\", numRows = $3$<br>\n",
    "Output: \"PAHNAPLSIIGYIR\"<br>\n",
    "\n",
    "**Example 2:**<br>\n",
    "Input: s = \"PAYPALISHIRING\", numRows = $4$<br>\n",
    "Output: \"PINALSIGYAHRPI\"<br>\n",
    "Explanation:\n",
    "<pre>\n",
    "P     I    N\n",
    "A   L S  I G\n",
    "Y A   H R\n",
    "P     I\n",
    "</pre>\n",
    "\n",
    "**Example 3:**<br>\n",
    "Input: s = \"A\", numRows = $1$<br>\n",
    "Output: \"A\""
   ]
  },
  {
   "cell_type": "code",
   "execution_count": 1,
   "metadata": {},
   "outputs": [],
   "source": [
    "# This is my solution, which specifically calculates the index mapping between the old string and the new string.\n",
    "class Solution:\n",
    "    def convert(self, s: str, numRows: int) -> str:\n",
    "        if numRows == 1:\n",
    "            return s\n",
    "        n = len(s)\n",
    "        maximum_steps = 2 * numRows - 2\n",
    "        chars = []\n",
    "        for row_index in range(numRows):\n",
    "            first_steps = maximum_steps - 2 * row_index\n",
    "            second_steps = 2 * row_index\n",
    "            current_index = row_index\n",
    "            last_index = -1\n",
    "            flag = True\n",
    "            while current_index < n:\n",
    "                if current_index > last_index:\n",
    "                    chars.append(s[current_index])\n",
    "                last_index = current_index\n",
    "                current_index += (first_steps if flag else second_steps)\n",
    "                flag = not flag\n",
    "\n",
    "        return ''.join(chars)"
   ]
  },
  {
   "cell_type": "code",
   "execution_count": 2,
   "metadata": {},
   "outputs": [],
   "source": [
    "# This is a solution on LeetCode (https://leetcode.com/problems/zigzag-conversion/solutions/5995884/beginner-friendly-step-by-steps-solution-beats-100-user-in-each-solution-of-me)\n",
    "\n",
    "class Solution:\n",
    "    def convert(self, s: str, numRows: int) -> str:\n",
    "        if numRows == 1:\n",
    "            return s\n",
    "        rows = [''] * min(numRows, len(s))\n",
    "        curRow, goingDown = 0, False\n",
    "\n",
    "        for c in s:\n",
    "            rows[curRow] += c\n",
    "            if curRow == 0 or curRow == numRows - 1:\n",
    "                goingDown = not goingDown\n",
    "            curRow += 1 if goingDown else -1\n",
    "\n",
    "        return ''.join(rows)"
   ]
  }
 ],
 "metadata": {
  "kernelspec": {
   "display_name": "base",
   "language": "python",
   "name": "python3"
  },
  "language_info": {
   "codemirror_mode": {
    "name": "ipython",
    "version": 3
   },
   "file_extension": ".py",
   "mimetype": "text/x-python",
   "name": "python",
   "nbconvert_exporter": "python",
   "pygments_lexer": "ipython3",
   "version": "3.11.7"
  }
 },
 "nbformat": 4,
 "nbformat_minor": 2
}
