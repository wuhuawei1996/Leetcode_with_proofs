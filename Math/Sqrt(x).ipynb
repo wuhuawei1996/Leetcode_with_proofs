{
 "cells": [
  {
   "cell_type": "markdown",
   "metadata": {},
   "source": [
    "# Sqrt(x)\n",
    "\n",
    "Given a non-negative integer `x`, return the square root of `x` rounded down to the nearest integer. The returned integer should be non-negative as well.\n",
    "\n",
    "You must not use any built-in exponent function or operator.\n",
    "\n",
    "For example, do not use `pow(x, 0.5)` in C++ or `x ** 0.5` in python."
   ]
  },
  {
   "cell_type": "markdown",
   "metadata": {},
   "source": [
    "# Examples\n",
    "\n",
    "**Example 1:**\n",
    "```\n",
    "Input: x = 4\n",
    "Output: 2\n",
    "```\n",
    "Explanation: The square root of 4 is 2, so we return 2.\n",
    "\n",
    "**Example 2:**\n",
    "```\n",
    "Input: x = 8\n",
    "Output: 2\n",
    "```\n",
    "Explanation: The square root of 8 is 2.82842..., and since we round it down to the nearest integer, 2 is returned."
   ]
  },
  {
   "cell_type": "code",
   "execution_count": null,
   "metadata": {},
   "outputs": [],
   "source": [
    "'''\n",
    "    Bisection Method\n",
    "'''\n",
    "class Solution:\n",
    "    def mySqrt(self, x: int) -> int:\n",
    "        if x <= 1:\n",
    "            return x\n",
    "        start, end = 1, x\n",
    "        while start <= end:\n",
    "            mid = (start + end) // 2\n",
    "            square = mid * mid\n",
    "            if square == x:\n",
    "                return mid\n",
    "            elif square > x:\n",
    "                end = mid - 1\n",
    "            else:\n",
    "                start = mid + 1\n",
    "        return end\n"
   ]
  }
 ],
 "metadata": {
  "kernelspec": {
   "display_name": "base",
   "language": "python",
   "name": "python3"
  },
  "language_info": {
   "name": "python",
   "version": "3.11.7"
  }
 },
 "nbformat": 4,
 "nbformat_minor": 2
}
