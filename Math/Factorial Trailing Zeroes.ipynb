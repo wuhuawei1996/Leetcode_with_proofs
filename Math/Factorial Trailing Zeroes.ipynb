{
 "cells": [
  {
   "cell_type": "markdown",
   "metadata": {},
   "source": [
    "# Factorial Trailing Zeroes\n",
    "Given an integer `n`, return the number of trailing zeroes in `n!`.\n",
    "\n",
    "Note that `n! = n * (n - 1) * (n - 2) * ... * 3 * 2 * 1`."
   ]
  },
  {
   "cell_type": "markdown",
   "metadata": {},
   "source": [
    "# Examples\n",
    "\n",
    "**Example 1:**\n",
    "```\n",
    "Input: n = 3\n",
    "Output: 0\n",
    "```\n",
    "Explanation: 3! = 6, no trailing zero.\n",
    "\n",
    "**Example 2:**\n",
    "```\n",
    "Input: n = 5\n",
    "Output: 1\n",
    "```\n",
    "Explanation: 5! = 120, one trailing zero.\n",
    "\n",
    "**Example 3:**\n",
    "```\n",
    "Input: n = 0\n",
    "Output: 0\n",
    "```"
   ]
  },
  {
   "cell_type": "markdown",
   "metadata": {},
   "source": [
    "Let $l$ be a positive number. For any $n\\in\\mathbb{N}_+$, if $n = l^km$ with $k\\in\\mathbb{N}$, $m\\in\\mathbb{N}_+$ and $l\\nmid m$, then we define $\\nu_l(n)=k$. It is well-known that for any $n\\in\\mathbb{N}_+$ and prime number $p$, we have \n",
    "$$\\nu_p(n!)=\\sum\\limits_{k=1}^{\\infty}\\left\\lfloor\\frac{n}{p^k}\\right\\rfloor.$$\n",
    "What we want to compute is $\\nu_{10}(n!)$, which is clearly equal to $\\min\\{\\nu_2(n!),\\nu_5(n!)\\}$. Therefore, what we need to do is to compute $\\nu_2(n!)$ and $\\nu_5(n!)$."
   ]
  },
  {
   "cell_type": "code",
   "execution_count": 10,
   "metadata": {},
   "outputs": [],
   "source": [
    "class Solution:\n",
    "    def trailingZeroes(self, n: int) -> int:\n",
    "        origin = n\n",
    "        val_2 = 0\n",
    "        power = 2\n",
    "        while n >= power:\n",
    "            val_2 += n // power\n",
    "            power = power << 1\n",
    "        \n",
    "        n = origin\n",
    "        val_5 = 0\n",
    "        power = 5\n",
    "        while n >= power and val_5 < val_2:\n",
    "            val_5 += n // power\n",
    "            power *= 5\n",
    "\n",
    "        return min(val_2, val_5)"
   ]
  },
  {
   "cell_type": "markdown",
   "metadata": {},
   "source": [
    "For any $k\\ge 1$, we have \n",
    "$$\\frac{n}{2^k}>\\frac{n}{5^k},$$\n",
    "which implies that\n",
    "$$\\left\\lfloor\\frac{n}{2^k}\\right\\rfloor\\ge\\left\\lfloor\\frac{n}{5^k}\\right\\rfloor$$\n",
    "and thus\n",
    "$$\\nu_2(n!)\\ge\\nu_5(n!).$$\n",
    "Hence we only need to compute $\\nu_5(n!)$."
   ]
  },
  {
   "cell_type": "code",
   "execution_count": 11,
   "metadata": {},
   "outputs": [],
   "source": [
    "class Solution:\n",
    "    def trailingZeroes(self, n: int) -> int:\n",
    "        val_5 = 0\n",
    "        power = 5\n",
    "        while n >= power:\n",
    "            val_5 += n // power\n",
    "            power *= 5\n",
    "\n",
    "        return val_5"
   ]
  },
  {
   "cell_type": "markdown",
   "metadata": {},
   "source": [
    "We claim that for any $n\\in\\mathbb{N}_+$ for any $k\\in\\mathbb{N}_+$, we have \n",
    "$$\\left\\lfloor\\frac{n}{5^{k+1}}\\right\\rfloor=\\left\\lfloor\\frac{\\left\\lfloor\\frac{n}{5^k}\\right\\rfloor}{5}\\right\\rfloor.$$\n",
    "Indeed, assume that $n=n_1\\cdot 5^{k+1}+r_1$ with $n_1\\in\\mathbb{N}$ and $0\\le r_1<5^{k+1}$ and $r_1=n_2\\cdot 5^k+r_2$ with $n_2\\in\\mathbb{N}$ and $0\\le r_2<5^k$. Then we have\n",
    "$$n=n_1\\cdot 5^{k+1}+n_2\\cdot 5^k+r_2=(n_1\\cdot 5+n_2)\\cdot 5^k+r_2.$$\n",
    "Then we have \n",
    "$$\\left\\lfloor\\frac{n}{5^{k+1}}\\right\\rfloor=n_1$$\n",
    "and\n",
    "$$\\left\\lfloor\\frac{\\left\\lfloor\\frac{n}{5^k}\\right\\rfloor}{5}\\right\\rfloor=\\left\\lfloor\\frac{n_1\\cdot 5+n_2}{5}\\right\\rfloor=\\left\\lfloor n_1+\\frac{n_2}{5}\\right\\rfloor.$$\n",
    "Since $0<r_1<5^{k+1}$, we have $0\\le n_2<5$ and thus\n",
    "$$\\left\\lfloor n_1+\\frac{n_2}{5}\\right\\rfloor=n_1=\\left\\lfloor\\frac{n}{5^{k+1}}\\right\\rfloor.$$\n",
    "Hence the process of computing $\\nu_5(n!)$ can be simplified as follows:"
   ]
  },
  {
   "cell_type": "code",
   "execution_count": 12,
   "metadata": {},
   "outputs": [],
   "source": [
    "class Solution:\n",
    "    def trailingZeroes(self, n: int) -> int:\n",
    "        res = 0\n",
    "        while n > 0:\n",
    "            n //= 5\n",
    "            res += n\n",
    "            \n",
    "        return res"
   ]
  }
 ],
 "metadata": {
  "kernelspec": {
   "display_name": "base",
   "language": "python",
   "name": "python3"
  },
  "language_info": {
   "codemirror_mode": {
    "name": "ipython",
    "version": 3
   },
   "file_extension": ".py",
   "mimetype": "text/x-python",
   "name": "python",
   "nbconvert_exporter": "python",
   "pygments_lexer": "ipython3",
   "version": "3.11.7"
  }
 },
 "nbformat": 4,
 "nbformat_minor": 2
}
