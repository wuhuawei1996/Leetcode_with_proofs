{
 "cells": [
  {
   "cell_type": "markdown",
   "metadata": {},
   "source": [
    "# Pow(x, n)\n",
    "Implement `pow(x, n)`, which calculates `x` raised to the power `n` (i.e., <code>x<sup>n</sup></code>)."
   ]
  },
  {
   "cell_type": "markdown",
   "metadata": {},
   "source": [
    "# Examples\n",
    "\n",
    "**Example 1:**\n",
    "```\n",
    "Input: x = 2.00000, n = 10\n",
    "Output: 1024.00000\n",
    "```\n",
    "\n",
    "**Example 2:**\n",
    "```\n",
    "Input: x = 2.10000, n = 3\n",
    "Output: 9.26100\n",
    "```\n",
    "\n",
    "**Example 3:**\n",
    "```\n",
    "Input: x = 2.00000, n = -2\n",
    "Output: 0.25000\n",
    "```\n",
    "Explanation: 2-2 = 1/22 = 1/4 = 0.25"
   ]
  },
  {
   "cell_type": "code",
   "execution_count": null,
   "metadata": {},
   "outputs": [],
   "source": [
    "import math\n",
    "\n",
    "\n",
    "class Solution:\n",
    "    def myPow(self, x: float, n: int) -> float:\n",
    "        if n == 0:\n",
    "            return 1\n",
    "        if n < 0:\n",
    "            return 1 / self.myPow(x, -n)\n",
    "\n",
    "        array = []\n",
    "        while n > 0:\n",
    "            quo, rem = divmod(n, 2)\n",
    "            array.append(rem)\n",
    "            n = quo\n",
    "        power = [x]\n",
    "        for i in range(1, len(array)):\n",
    "            power.append(power[-1] * power[-1])\n",
    "\n",
    "        return math.prod([power[i] if array[i] else 1 for i in range(len(array))])"
   ]
  }
 ],
 "metadata": {
  "kernelspec": {
   "display_name": "base",
   "language": "python",
   "name": "python3"
  },
  "language_info": {
   "codemirror_mode": {
    "name": "ipython",
    "version": 3
   },
   "file_extension": ".py",
   "mimetype": "text/x-python",
   "name": "python",
   "nbconvert_exporter": "python",
   "pygments_lexer": "ipython3",
   "version": "3.11.7"
  }
 },
 "nbformat": 4,
 "nbformat_minor": 2
}
