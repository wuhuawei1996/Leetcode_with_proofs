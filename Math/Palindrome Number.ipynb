{
 "cells": [
  {
   "cell_type": "markdown",
   "metadata": {},
   "source": [
    "# Palindrome Number\n",
    "Given an integer `x`, return `true` if `x` is a palindrome, and `false` otherwise."
   ]
  },
  {
   "cell_type": "markdown",
   "metadata": {},
   "source": [
    "# Examples\n",
    "**Example 1:**\n",
    "```\n",
    "Input: x = 121\n",
    "Output: true\n",
    "```\n",
    "Explanation: 121 reads as 121 from left to right and from right to left.\n",
    "\n",
    "**Example 2:**\n",
    "```\n",
    "Input: x = -121\n",
    "Output: false\n",
    "``\n",
    "Explanation: From left to right, it reads -121. From right to left, it becomes 121-. Therefore it is not a palindrome.\n",
    "```\n",
    "\n",
    "**Example 3:**\n",
    "```\n",
    "Input: x = 10\n",
    "Output: false\n",
    "```\n",
    "Explanation: Reads 01 from right to left. Therefore it is not a palindrome."
   ]
  },
  {
   "cell_type": "code",
   "execution_count": null,
   "metadata": {},
   "outputs": [],
   "source": [
    "'''\n",
    "    Method 1: String Reversion\n",
    "'''\n",
    "\n",
    "\n",
    "class Solution:\n",
    "    def isPalindrome(self, x: int) -> bool:\n",
    "        if x < 0:\n",
    "            return False\n",
    "        x = str(x)\n",
    "\n",
    "        return x == x[::-1]"
   ]
  },
  {
   "cell_type": "code",
   "execution_count": null,
   "metadata": {},
   "outputs": [],
   "source": [
    "'''\n",
    "    Method 2: Mathematical Reversion\n",
    "'''\n",
    "\n",
    "\n",
    "class Solution:\n",
    "    def isPalindrome(self, x: int) -> bool:\n",
    "        if x < 0:\n",
    "            return False\n",
    "        num = 0\n",
    "        y = x\n",
    "        while y > 0:\n",
    "            quotient, remainder = divmod(y, 10)\n",
    "            num = num * 10 + remainder\n",
    "            y = quotient\n",
    "\n",
    "        return num == x"
   ]
  },
  {
   "cell_type": "markdown",
   "metadata": {},
   "source": [
    "There is no need to fully reverse the entire number; only reversing half of the digits and comparing is sufficient. This approach is suitable for large numbers.\n",
    "\n",
    "**Steps:**\n",
    "- For negative numbers or numbers ending in 0 (except 0 itself), directly return `False`.\n",
    "- Reverse half of the number using a mathematical approach. Stop when the original number becomes less than or equal to the reversed half.\n",
    "- Check if the reversed half is equal to the original number (for odd-digit numbers, remove the middle digit before comparison)."
   ]
  },
  {
   "cell_type": "code",
   "execution_count": null,
   "metadata": {},
   "outputs": [],
   "source": [
    "class Solution:\n",
    "    def isPalindrome(self, x: int) -> bool:\n",
    "        if x < 0 or (x % 10 == 0 and x != 0):\n",
    "            return False\n",
    "\n",
    "        reversed_half = 0\n",
    "        while x > reversed_half:\n",
    "            reversed_half = reversed_half * 10 + x % 10\n",
    "            x //= 10\n",
    "\n",
    "        # Compare for even-digit numbers, or remove the middle digit for odd-digit numbers before comparing.\n",
    "        return x == reversed_half or x == reversed_half // 10"
   ]
  }
 ],
 "metadata": {
  "kernelspec": {
   "display_name": "base",
   "language": "python",
   "name": "python3"
  },
  "language_info": {
   "name": "python",
   "version": "3.11.7"
  }
 },
 "nbformat": 4,
 "nbformat_minor": 2
}
