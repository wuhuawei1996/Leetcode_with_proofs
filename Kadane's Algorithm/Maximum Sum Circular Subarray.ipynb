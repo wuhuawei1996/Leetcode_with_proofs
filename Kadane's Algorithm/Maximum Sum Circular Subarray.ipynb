{
 "cells": [
  {
   "cell_type": "markdown",
   "metadata": {
    "vscode": {
     "languageId": "plaintext"
    }
   },
   "source": [
    "# Maximum Sum Circular Subarray\n",
    "\n",
    "Given a circular integer array `nums` of length `n`, return the maximum possible sum of a non-empty subarray of `nums`.\n",
    "\n",
    "A circular array means the end of the array connects to the beginning of the array. Formally, the next element of `nums[i]` is `nums[(i + 1) % n]` and the previous element of `nums[i]` is `nums[(i - 1 + n) % n]`.\n",
    "\n",
    "A subarray may only include each element of the fixed buffer nums at most once. Formally, for a subarray `nums[i]`, `nums[i + 1]`, ..., `nums[j]`, there does not exist `i <= k1`, `k2 <= j` with `k1 % n == k2 % n`."
   ]
  },
  {
   "cell_type": "markdown",
   "metadata": {},
   "source": [
    "## Examples\n",
    "\n",
    "**Example 1:**\n",
    "```\n",
    "Input: nums = [1,-2,3,-2]\n",
    "Output: 3\n",
    "```\n",
    "Explanation: Subarray [3] has maximum sum 3.\n",
    "\n",
    "**Example 2:**\n",
    "```\n",
    "Input: nums = [5,-3,5]\n",
    "Output: 10\n",
    "```\n",
    "Explanation: Subarray [5,5] has maximum sum 5 + 5 = 10.\n",
    "\n",
    "**Example 3:**\n",
    "```\n",
    "Input: nums = [-3,-2,-3]\n",
    "Output: -2\n",
    "```\n",
    "Explanation: Subarray [-2] has maximum sum -2."
   ]
  },
  {
   "cell_type": "markdown",
   "metadata": {},
   "source": [
    "## Analysis\n",
    "$\\quad$ A circular subarray of $nums$ is a array of the form \n",
    "$$nums[i:j]:=[nums[i],\\cdots,nums[n-1],nums[0],\\dots,num[j-1]]$$\n",
    "with $0\\le j<i\\le n$ but $j>0$ or $i<n$. Note that if $j=0$ or $i=n$, then $nums[i:j]=nums[i:n]$ is also an subarray of $nums$.\n",
    "\n",
    "$\\quad$ Let $max\\_sum$ be the largest sum of a subarray of $nums$ and let $max\\_sum\\_circular$ be the largest sum of a circular subarray of $nums$. Then want to want to compute is \n",
    "$$\\max(max\\_sum,max\\_sum\\_circular).$$\n",
    "We can use Kadane's Algorithm to compute $max\\_sum$. But how to comupte $max\\_sum\\_circular$?\n",
    "\n",
    "$\\quad$ Put $total=sum(nums)$. Then for any circular subarray $nums[i:j]$ of $nums$ with $0\\le j<i\\le n$ but $j>0$ or $i<n$, we have \n",
    "$$sum(nums[i:j]) = total - sum(nums[j:i]).$$\n",
    "It follows that \n",
    "$$\n",
    "\\begin{align*}\n",
    "max\\_sum\\_circular &= \\max_{\\substack{0\\le j< i\\le n\\\\j>0\\ \\text{or}\\ i<n}}sum(nums[i:j])\\\\\n",
    "&=total-\\min_{\\substack{0\\le j< i\\le n\\\\j>0\\ \\text{or}\\ i<n}}sum(nums[j:i]).\n",
    "\\end{align*}\n",
    "$$\n",
    "Put \n",
    "$$real\\_min\\_sum=\\min_{\\substack{0\\le j< i\\le n\\\\j>0\\ \\text{or}\\ i<n}}sum(nums[j:i])$$\n",
    "and let $min\\_sum$ be the smallest sum of a subarray of $nums$. Hence want to compute is \n",
    "$$\\max(max\\_sum,total-real\\_min\\_sum).$$\n",
    "\n",
    "$\\quad$ We claim that \n",
    "1. if $min\\_sum = total$, then\n",
    "    $$max\\_sum+real\\_min\\_sum\\ge total;$$\n",
    "    in particular, we have \n",
    "    $$\\max(max\\_sum,total-real\\_min\\_sum)=max\\_sum.$$\n",
    "2. if $min\\_sum\\ne total$, then $\\min\\_sum=real\\_min\\_sum$.\n",
    "\n",
    "$\\quad$ We first prove 1. Assume that $real\\_min\\_sum=sum(nums[j_0:i_0])$ for some $0\\le j_0<i_0\\le n$ with $j_0>0$ or $i_0<n$. We may assume that $j_0>0$. If $i_0<n$, we claim that $sum(nums[i_0:n])\\le 0$. Otherwise, \n",
    "$$sum(nums[0:i_0])=total-sum(nums[i_0:n])<total=min\\_sum,$$ \n",
    "which is a contradiction. It follows that \n",
    "$$\n",
    "\\begin{align*}\n",
    "sum(nums[j_0:n])&=sum(nums[j_0:i_0])+sum(nums[i_0:n])\\\\\n",
    "&\\le real\\_min\\_sum.\n",
    "\\end{align*}\n",
    "$$\n",
    "By the definition of $real\\_min\\_sum$, we have\n",
    "$$real\\_min\\_sum=sum(nums[j_0:n]).$$\n",
    "Hence we can always assume that $i_0=n$. Then we have \n",
    "$$total = sum([0:j_0])+real\\_min\\_sum\\le max\\_sum+real\\_min\\_sum.$$\n",
    "This proves 1.\n",
    "\n",
    "$\\quad$ We then prove 2. If $min\\_sum\\ne total$, then by the definition of $min\\_sum$, we must have $min\\_sum<total$. Assume that $min\\_sum=sum(nums[j_0:i_0])$ for some $0\\le j_0<i_0\\le n$. Then either $j_0>0$ or $i_0<n$. By definition, we have $$real\\_min\\_sum=sum(nums[j_0:i_0])=min\\_sum.$$\n",
    "This proves 2."
   ]
  },
  {
   "cell_type": "code",
   "execution_count": null,
   "metadata": {},
   "outputs": [],
   "source": [
    "class Solution:\n",
    "    def maxSubarraySumCircular(self, nums: list[int]) -> int:\n",
    "        max_sum, min_sum = -float(\"inf\"), float(\"inf\")\n",
    "        current_sum_1, current_sum_2 = 0, 0\n",
    "        total = sum(nums)\n",
    "        for num in nums:\n",
    "            current_sum_1 = max(num, current_sum_1 + num)\n",
    "            max_sum = max(max_sum, current_sum_1)\n",
    "            current_sum_2 = min(num, current_sum_2 + num)\n",
    "            min_sum = min(min_sum, current_sum_2)\n",
    "        \n",
    "        if min_sum == total:\n",
    "            return max_sum\n",
    "        else:\n",
    "            return max(max_sum, total - min_sum)"
   ]
  }
 ],
 "metadata": {
  "kernelspec": {
   "display_name": "base",
   "language": "python",
   "name": "python3"
  },
  "language_info": {
   "name": "python",
   "version": "3.11.7"
  }
 },
 "nbformat": 4,
 "nbformat_minor": 2
}
