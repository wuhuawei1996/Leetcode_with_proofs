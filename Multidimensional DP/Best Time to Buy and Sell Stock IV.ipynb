{
 "cells": [
  {
   "cell_type": "markdown",
   "metadata": {},
   "source": [
    "# Best Time to Buy and Sell Stock IV\n",
    "\n",
    "You are given an integer array `prices` where `prices[i]` is the price of a given stock on the <code>i<sup>th</sup></code>ith day, and an integer k.\n",
    "\n",
    "Find the maximum profit you can achieve. You may complete at most k transactions: i.e. you may buy at most k times and sell at most k times.\n",
    "\n",
    "Note: You may not engage in multiple transactions simultaneously (i.e., you must sell the stock before you buy again)."
   ]
  },
  {
   "cell_type": "markdown",
   "metadata": {},
   "source": [
    "## Examples\n",
    "\n",
    "**Example 1:**\n",
    "```\n",
    "Input: k = 2, prices = [2,4,1]\n",
    "Output: 2\n",
    "```\n",
    "Explanation: Buy on day 1 (price = 2) and sell on day 2 (price = 4), profit = 4-2 = 2.\n",
    "\n",
    "**Example 2:**\n",
    "```\n",
    "Input: k = 2, prices = [3,2,6,5,0,3]\n",
    "Output: 7\n",
    "```\n",
    "Explanation: Buy on day 2 (price = 2) and sell on day 3 (price = 6), profit = 6-2 = 4. Then buy on day 5 (price = 0) and sell on day 6 (price = 3), profit = 3-0 = 3."
   ]
  },
  {
   "cell_type": "code",
   "execution_count": null,
   "metadata": {},
   "outputs": [],
   "source": [
    "class Solution:\n",
    "    def maxProfit(self, k: int, prices: list[int]) -> int:\n",
    "        if not prices:\n",
    "            return 0\n",
    "\n",
    "        buys = [float(\"-inf\")] * (k + 1)\n",
    "        sells = [0] * (k + 1)\n",
    "\n",
    "        for price in prices:\n",
    "            for i in range(1, k + 1):\n",
    "                buys[i] = max(buys[i], sells[i - 1] - price)\n",
    "                sells[i] = max(sells[i], buys[i] + price)\n",
    "\n",
    "        return sells[-1]"
   ]
  }
 ],
 "metadata": {
  "kernelspec": {
   "display_name": "base",
   "language": "python",
   "name": "python3"
  },
  "language_info": {
   "name": "python",
   "version": "3.11.7"
  }
 },
 "nbformat": 4,
 "nbformat_minor": 2
}
