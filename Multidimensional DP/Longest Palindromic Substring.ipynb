{
 "cells": [
  {
   "cell_type": "markdown",
   "metadata": {},
   "source": [
    "# Longest Palindromic Substring\n",
    "Given a string `s`, return the longest palindromic substring in `s`."
   ]
  },
  {
   "cell_type": "markdown",
   "metadata": {},
   "source": [
    "## Examples\n",
    "\n",
    "**Example 1:**\n",
    "```\n",
    "Input: s = \"babad\"\n",
    "Output: \"bab\"\n",
    "```\n",
    "Explanation: \"aba\" is also a valid answer.\n",
    "\n",
    "**Example 2:**\n",
    "```\n",
    "Input: s = \"cbbd\"\n",
    "Output: \"bb\"\n",
    "```"
   ]
  },
  {
   "cell_type": "code",
   "execution_count": null,
   "metadata": {},
   "outputs": [],
   "source": [
    "'''\n",
    "    Method 1: Dynamic Programming\n",
    "    Time Complexity: O(n^2)\n",
    "    Space Complexity: O(n^2)\n",
    "'''\n",
    "\n",
    "\n",
    "class Solution:\n",
    "    def longestPalindrome(self, s: str) -> str:\n",
    "        n = len(s)\n",
    "        if n == 0:\n",
    "            return \"\"\n",
    "\n",
    "        # Create a DP table where dp[i][j] indicates if the substring s[i..j] is a palindrome\n",
    "        dp = [[False] * n for _ in range(n)]\n",
    "        start, max_len = 0, 1  # Track the start index and length of the longest palindrome\n",
    "\n",
    "        # A single character is always a palindrome\n",
    "        for i in range(n):\n",
    "            dp[i][i] = True\n",
    "\n",
    "        # Check for two-character palindromes\n",
    "        for i in range(n - 1):\n",
    "            if s[i] == s[i + 1]:\n",
    "                dp[i][i + 1] = True\n",
    "                start = i\n",
    "                max_len = 2\n",
    "\n",
    "        # Check substrings of length 3 and greater\n",
    "        for length in range(3, n + 1):  # length is the length of the substring\n",
    "            for i in range(n - length + 1):  # i is the start index of the substring\n",
    "                j = i + length - 1  # j is the end index of the substring\n",
    "                # A substring is a palindrome if the outer characters match\n",
    "                # and the inner substring s[i+1..j-1] is also a palindrome\n",
    "                if s[i] == s[j] and dp[i + 1][j - 1]:\n",
    "                    dp[i][j] = True\n",
    "                    # Update the longest palindrome if the current length is greater\n",
    "                    if length > max_len:\n",
    "                        start = i\n",
    "                        max_len = length\n",
    "\n",
    "        # Return the longest palindromic substring\n",
    "        return s[start:start + max_len]"
   ]
  }
 ],
 "metadata": {
  "kernelspec": {
   "display_name": "base",
   "language": "python",
   "name": "python3"
  },
  "language_info": {
   "name": "python",
   "version": "3.11.7"
  }
 },
 "nbformat": 4,
 "nbformat_minor": 2
}
