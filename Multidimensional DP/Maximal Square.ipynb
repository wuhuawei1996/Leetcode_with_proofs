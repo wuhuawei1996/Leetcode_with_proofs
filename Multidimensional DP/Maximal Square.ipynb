{
 "cells": [
  {
   "cell_type": "markdown",
   "metadata": {},
   "source": [
    "# Maximal Square\n",
    "\n",
    "Given an `m x n` binary `matrix` filled with `0`'s and `1`'s, find the largest square containing only `1`'s and return its area."
   ]
  },
  {
   "cell_type": "markdown",
   "metadata": {},
   "source": [
    "## Examples\n",
    "\n",
    "**Example 1:**\n",
    "```\n",
    "Input: matrix = [[\"1\",\"0\",\"1\",\"0\",\"0\"],[\"1\",\"0\",\"1\",\"1\",\"1\"],[\"1\",\"1\",\"1\",\"1\",\"1\"],[\"1\",\"0\",\"0\",\"1\",\"0\"]]\n",
    "Output: 4\n",
    "```\n",
    "\n",
    "**Example 2:**\n",
    "```\n",
    "Input: matrix = [[\"0\",\"1\"],[\"1\",\"0\"]]\n",
    "Output: 1\n",
    "```\n",
    "\n",
    "**Example 3:**\n",
    "```\n",
    "Input: matrix = [[\"0\"]]\n",
    "Output: 0\n",
    "```"
   ]
  },
  {
   "cell_type": "markdown",
   "metadata": {},
   "source": [
    "## Analysis\n",
    "\n",
    "1. State Definition\n",
    "\n",
    "    Let $dp[i][j]$ represent the side length of the largest square whose bottom-right corner is at cell $(i, j)$.\n",
    "\n",
    "2. Base Case\n",
    "\n",
    "    The first row and first column are initialized directly from the matrix, as they cannot have squares larger than size $1$.\n",
    "\n",
    "3. Transition Relation\n",
    "\n",
    "   If matrix[i][j] == 1, then\n",
    "   $$dp[i][j] = \\min(dp[i-1][j], dp[i][j-1], dp[i-1][j-1]) + 1$$\n",
    "   Otherwise, $dp[i][j] = 0$."
   ]
  },
  {
   "cell_type": "code",
   "execution_count": null,
   "metadata": {},
   "outputs": [],
   "source": [
    "class Solution:\n",
    "    def maximalSquare(self, matrix: list[list[str]]) -> int:\n",
    "        m, n = len(matrix), len(matrix[0])\n",
    "        dp = [[0] * n for _ in range(m)]\n",
    "        maximum = 0\n",
    "\n",
    "        for j in range(n):\n",
    "            dp[0][j] = int(matrix[0][j])\n",
    "            if dp[0][j]:\n",
    "                maximum = 1\n",
    "\n",
    "        for i in range(m):\n",
    "            dp[i][0] = int(matrix[i][0])\n",
    "            if dp[i][0]:\n",
    "                maximum = 1\n",
    "\n",
    "        for i in range(1, m):\n",
    "            for j in range(1, n):\n",
    "                if matrix[i][j] == \"0\":\n",
    "                    dp[i][j] = 0\n",
    "                else:\n",
    "                    dp[i][j] = min(dp[i - 1][j], dp[i][j - 1],\n",
    "                                   dp[i - 1][j - 1]) + 1\n",
    "                    maximum = max(maximum, dp[i][j])\n",
    "\n",
    "        return maximum * maximum"
   ]
  },
  {
   "cell_type": "code",
   "execution_count": null,
   "metadata": {},
   "outputs": [],
   "source": [
    "class Solution:\n",
    "    def maximalSquare(self, matrix: list[list[str]]) -> int:\n",
    "        m, n = len(matrix), len(matrix[0])\n",
    "        previous_row = [int(matrix[0][j]) for j in range(n)]\n",
    "        current_row = [0] * n\n",
    "        maximum = any(previous_row)\n",
    "\n",
    "        for i in range(1, m):\n",
    "            current_row[0] = int(matrix[i][0])\n",
    "            maximum = max(maximum, current_row[0])\n",
    "            for j in range(1, n):\n",
    "                if matrix[i][j] == \"0\":\n",
    "                    current_row[j] = 0\n",
    "                else:\n",
    "                    current_row[j] = (\n",
    "                        min(previous_row[j], current_row[j - 1], previous_row[j - 1])\n",
    "                        + 1\n",
    "                    )\n",
    "                    maximum = max(maximum, current_row[j])\n",
    "\n",
    "            previous_row, current_row = current_row, previous_row\n",
    "        return maximum * maximum"
   ]
  }
 ],
 "metadata": {
  "kernelspec": {
   "display_name": "base",
   "language": "python",
   "name": "python3"
  },
  "language_info": {
   "name": "python",
   "version": "3.11.7"
  }
 },
 "nbformat": 4,
 "nbformat_minor": 2
}
