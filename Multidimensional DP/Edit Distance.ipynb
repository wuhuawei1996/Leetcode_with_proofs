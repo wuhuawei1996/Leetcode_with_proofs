{
 "cells": [
  {
   "cell_type": "markdown",
   "metadata": {},
   "source": [
    "# Edit Distance\n",
    "\n",
    "Given two strings `word1` and `word2`, return the minimum number of operations required to convert `word1` to `word2`.\n",
    "\n",
    "You have the following three operations permitted on a word:\n",
    "- Insert a character\n",
    "- Delete a character\n",
    "- Replace a character"
   ]
  },
  {
   "cell_type": "markdown",
   "metadata": {},
   "source": [
    "## Examples\n",
    "\n",
    "**Example 1:**\n",
    "```\n",
    "Input: word1 = \"horse\", word2 = \"ros\"\n",
    "Output: 3\n",
    "```\n",
    "Explanation: \n",
    "- horse -> rorse (replace 'h' with 'r')\n",
    "- rorse -> rose (remove 'r')\n",
    "- rose -> ros (remove 'e')\n",
    "\n",
    "**Example 2:**\n",
    "```\n",
    "Input: word1 = \"intention\", word2 = \"execution\"\n",
    "Output: 5\n",
    "```\n",
    "Explanation: \n",
    "- intention -> inention (remove 't')\n",
    "- inention -> enention (replace 'i' with 'e')\n",
    "- enention -> exention (replace 'n' with 'x')\n",
    "- exention -> exection (replace 'n' with 'c')\n",
    "- exection -> execution (insert 'u')"
   ]
  },
  {
   "cell_type": "code",
   "execution_count": null,
   "metadata": {},
   "outputs": [],
   "source": [
    "class Solution:\n",
    "    def minDistance(self, word1: str, word2: str) -> int:\n",
    "        m, n = len(word1), len(word2)\n",
    "        matrix = [[0] * (n + 1) for _ in range(m + 1)]\n",
    "        for j in range(n + 1):\n",
    "            matrix[0][j] = j\n",
    "        for i in range(m + 1):\n",
    "            matrix[i][0] = i\n",
    "\n",
    "        for i in range(1, m + 1):\n",
    "            for j in range(1, n + 1):\n",
    "                if word1[i - 1] == word2[j - 1]:\n",
    "                    matrix[i][j] = matrix[i - 1][j - 1]\n",
    "                else:\n",
    "                    matrix[i][j] = (\n",
    "                        min(matrix[i - 1][j], matrix[i][j - 1], matrix[i - 1][j - 1])\n",
    "                        + 1\n",
    "                    )\n",
    "\n",
    "        return matrix[-1][-1]"
   ]
  },
  {
   "cell_type": "markdown",
   "metadata": {},
   "source": [
    "$\\quad$ Since updating a cell only depends on the results of the previous row and part of the current row, the 2D array can be reduced to a 1D array for performance optimization."
   ]
  },
  {
   "cell_type": "code",
   "execution_count": null,
   "metadata": {},
   "outputs": [],
   "source": [
    "class Solution:\n",
    "    def minDistance(self, word1: str, word2: str) -> int:\n",
    "        m, n = len(word1), len(word2)\n",
    "\n",
    "        if m < n:\n",
    "            word1, word2 = word2, word1\n",
    "            m, n = n, m\n",
    "\n",
    "        previous_row = [j for j in range(n + 1)]\n",
    "        current_row = [0] * (n + 1)\n",
    "       \n",
    "        for i in range(1, m + 1):\n",
    "            current_row[0] = i\n",
    "            for j in range(1, n + 1):\n",
    "                if word1[i - 1] == word2[j - 1]:\n",
    "                    current_row[j] = previous_row[j - 1]\n",
    "                else:\n",
    "                    current_row[j] = min(\n",
    "                        current_row[j - 1], previous_row[j], previous_row[j - 1]\n",
    "                    ) + 1\n",
    "\n",
    "            current_row, previous_row = previous_row, current_row\n",
    "\n",
    "        return previous_row[-1] # Note that return previous_row[-1] rather than current_row[-1]"
   ]
  }
 ],
 "metadata": {
  "kernelspec": {
   "display_name": "base",
   "language": "python",
   "name": "python3"
  },
  "language_info": {
   "name": "python",
   "version": "3.11.7"
  }
 },
 "nbformat": 4,
 "nbformat_minor": 2
}
