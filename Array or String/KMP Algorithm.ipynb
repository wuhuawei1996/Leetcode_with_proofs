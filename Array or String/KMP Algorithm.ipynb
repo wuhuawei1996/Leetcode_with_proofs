{
 "cells": [
  {
   "cell_type": "markdown",
   "metadata": {},
   "source": [
    "# KMP Algorithm\n",
    "$\\quad$ Given two strings pattern and text, return the index of the first occurrence of pattern in text, or $-1$ if pattern is not part of text."
   ]
  },
  {
   "cell_type": "code",
   "execution_count": 3,
   "metadata": {},
   "outputs": [],
   "source": [
    "# Build the partial match table\n",
    "\n",
    "def build_pmt(pattern):\n",
    "    pmt = [0] * len(pattern)\n",
    "    i = 1\n",
    "    length = 0\n",
    "    while i < len(pattern):\n",
    "        if pattern[i] == pattern[length]:\n",
    "            length += 1\n",
    "            pmt[i] = length\n",
    "            i += 1\n",
    "        else:\n",
    "            if length != 0:\n",
    "                length = pmt[length - 1]\n",
    "            else:\n",
    "                pmt[i] = 0\n",
    "                i += 1\n",
    "    return pmt"
   ]
  },
  {
   "cell_type": "code",
   "execution_count": 4,
   "metadata": {},
   "outputs": [],
   "source": [
    "def kmp(text, pattern):\n",
    "    pmt = build_pmt(pattern)\n",
    "    i = 0\n",
    "    j = 0\n",
    "    while i < len(text):\n",
    "        if j == len(pattern):\n",
    "            return i - len(pattern)\n",
    "        if text[i] == pattern[j]:\n",
    "            i += 1\n",
    "            j += 1\n",
    "        else:\n",
    "            if j == 0:\n",
    "                i += 1\n",
    "            else:\n",
    "                j = pmt[j - 1]\n",
    "                \n",
    "    return i - len(pattern) if j == len(pattern) else -1"
   ]
  }
 ],
 "metadata": {
  "kernelspec": {
   "display_name": "base",
   "language": "python",
   "name": "python3"
  },
  "language_info": {
   "codemirror_mode": {
    "name": "ipython",
    "version": 3
   },
   "file_extension": ".py",
   "mimetype": "text/x-python",
   "name": "python",
   "nbconvert_exporter": "python",
   "pygments_lexer": "ipython3",
   "version": "3.11.7"
  }
 },
 "nbformat": 4,
 "nbformat_minor": 2
}
