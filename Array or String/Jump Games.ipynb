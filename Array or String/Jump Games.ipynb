{
 "cells": [
  {
   "cell_type": "markdown",
   "metadata": {},
   "source": [
    "# Question: Jump Game I\n",
    "$\\quad$ You are given an integer array $nums$. You are initially positioned at the array's first index, and each element in the array represents your maximum jump length at that position.\n",
    "\n",
    "$\\quad$ Return true if you can reach the last index, or false otherwise."
   ]
  },
  {
   "cell_type": "markdown",
   "metadata": {},
   "source": [
    "# Analysis\n",
    "\n",
    "$\\quad$ Note that if position $k$ can be reached from position $i$ through several jumps $(k>i)$, then for any $j\\in[i,k]$, position $j$ can be reached from position $i$ through several jumps. Therefore, we can try to find a path from position $0$ to position $n-1$ as follows: starting from position $n-2$, we search $n-2$ backward for the first (when viewed in reverse) position $j$ that can jump to $n-1$ in one step. According to the above observation, a path from position $0$ to position $n-1$ exists if and only if there is a path from position $0$ to position $j$. If we cannot find such a position $j$, then there is no path from position $0$ to position $n-1$; however, if we can find it, then the problem size is reduced (the index moves forward) and we can treat $j$ as the new goal."
   ]
  },
  {
   "cell_type": "markdown",
   "metadata": {},
   "source": [
    "# Examples\n",
    "**Example 1:**<br>\n",
    "Input: $nums = [2,3,1,1,4]$<br>\n",
    "Output: true<br>\n",
    "Explanation: Jump $1$ step from index $0$ to $1$, then $3$ steps to the last index.\n",
    "\n",
    "**Example 2:**<br>\n",
    "Input: $nums = [3,2,1,0,4]$<br>\n",
    "Output: false<br>\n",
    "Explanation: You will always arrive at index $3$ no matter what. Its maximum jump length is $0$, which makes it impossible to reach the last index."
   ]
  },
  {
   "cell_type": "code",
   "execution_count": 2,
   "metadata": {},
   "outputs": [],
   "source": [
    "# Time complexity: O(n)\n",
    "# Space complexity: O(1)\n",
    "class Solution:\n",
    "    def canJump(self, nums: list[int]) -> bool:\n",
    "        goal = len(nums) - 1\n",
    "        for i in range(len(nums)-2, -1, -1):\n",
    "            if i + nums[i] >= goal:\n",
    "                goal = i\n",
    "        return goal == 0"
   ]
  },
  {
   "cell_type": "markdown",
   "metadata": {},
   "source": [
    "# Question: Jump Game II\n",
    "$\\quad$ You are given a $0$-indexed array of integers nums of length $n$. You are initially positioned at $nums[0]$.\n",
    "\n",
    "$\\quad$ Each element $nums[i]$ represents the maximum length of a forward jump from index i. In other words, if you are at $nums[i]$, you can jump to any $nums[i + j]$ where:\n",
    "\n",
    "- $0\\le j\\le nums[i]$ and\n",
    "- $i + j < n$\n",
    "\n",
    "$\\quad$ Return the minimum number of jumps to reach $nums[n - 1]$. The test cases are generated such that you can reach $nums[n - 1]$."
   ]
  },
  {
   "cell_type": "markdown",
   "metadata": {},
   "source": [
    "# Examples\n",
    "**Example 1:**<br>\n",
    "Input: $nums = [2,3,1,1,4]$<br>\n",
    "Output: $2$<br>\n",
    "Explanation: The minimum number of jumps to reach the last index is $2$. Jump $1$ step from index $0$ to $1$, then $3$ steps to the last index.\n",
    "\n",
    "**Example 2:**<br>\n",
    "Input: $nums = [2,3,0,1,4]$<br>\n",
    "Output: $2$"
   ]
  },
  {
   "cell_type": "markdown",
   "metadata": {},
   "source": [
    "# Analysis\n",
    "\n",
    "$\\quad$ Assume that the fastest way to reach position $n-1$ from position $0$ requires $m$ jumps. For any $0\\le i\\le m$, let $A_i$ be the farthest position that can be reached with $i$ jumps. Then for any $1\\le i\\le m$, positions in $[A_{i-1}+1,A_i]$ are those that can be reached with $i$ jumps but cannot be reached with $i-1$ jumps.\n",
    "\n",
    "$\\quad$ For any $j\\in\\{1,\\cdots,n-1\\}$, let $B_j$ be the minimum number of jumps required to reach position $j$ from position $0$. Then it is clear that for any $j\\in\\{1,\\cdots,n-1\\}$, $B_j$ coincides with the unique element $i$ in $\\{1,\\cdots,m\\}$ such that $j\\in [A_{i-1}+1,A_{i}]$ and thus the problem transforms into compute the values of these $A_i$'s $(1\\le i\\le m)$.\n",
    "\n",
    "$\\quad$ An obvious fact is that one jump from a position $j\\le A_{i-1}$ can result in a position $\\le A_i$. Hence for any $0\\le i\\le m-1$, $A_{i+1}$ can be reached from some position in $[A_{i-1}+1,A_i]$ in one jump. This tells us that we can traverse $nums$ only once (without any backtracking) to obtain all the $A_i$'s.\n",
    "\n",
    "$\\quad$ One thing to note is that assuming $a_0=0,\\ a_1,\\ \\cdots,\\ a_{m-1},\\ a_m=n-1$ is one of the shortest paths from position $0$ to position $n-1$, it does not necessarily hold that for any $1\\le i\\le m$, $a_i=A_i$. For example, if $nums=[2,3,1,1,4]$, then $A_1=2$, $A_2=4$ and $a_0=0,\\ a_1=1,\\ a_2=4$ is the unique shortest path from position $0$ to position $4$. However, $a_1\\ne A_1$. On the other hand, for any $1\\le i\\le m$, we must have $i=B_{a_i}$."
   ]
  },
  {
   "cell_type": "code",
   "execution_count": null,
   "metadata": {},
   "outputs": [],
   "source": [
    "# Time complexity: O(n)\n",
    "# Space complexity: O(1)\n",
    "class Solution:\n",
    "    def jump(self, nums: list[int]) -> int:\n",
    "        near = far = jumps = 0\n",
    "        while far < len(nums) -1:\n",
    "            farthest = -1\n",
    "            for i in range(near, far + 1):\n",
    "                farthest = max(farthest, i + nums[i])\n",
    "            near = far + 1\n",
    "            far = farthest\n",
    "            jumps += 1\n",
    "        return jumps"
   ]
  },
  {
   "cell_type": "markdown",
   "metadata": {},
   "source": [
    "$\\quad$ We can also use the method of solving this problem to solve the previous one, allowing us to solve both problems simultaneously with a single traversal. However, the runtime has noticeably increased."
   ]
  },
  {
   "cell_type": "code",
   "execution_count": null,
   "metadata": {},
   "outputs": [],
   "source": [
    "class Solution:\n",
    "    def canJump(self, nums: list[int]) -> bool:\n",
    "        near = far = jumps = 0\n",
    "        while far < len(nums) -1:\n",
    "            farthest = -1\n",
    "            for i in range(near, far + 1):\n",
    "                farthest = max(farthest, i + nums[i])\n",
    "            if farthest == far:\n",
    "                break\n",
    "            near = far + 1\n",
    "            far = farthest\n",
    "            jumps += 1\n",
    "        return far >= len(nums) - 1"
   ]
  }
 ],
 "metadata": {
  "kernelspec": {
   "display_name": "base",
   "language": "python",
   "name": "python3"
  },
  "language_info": {
   "codemirror_mode": {
    "name": "ipython",
    "version": 3
   },
   "file_extension": ".py",
   "mimetype": "text/x-python",
   "name": "python",
   "nbconvert_exporter": "python",
   "pygments_lexer": "ipython3",
   "version": "3.11.7"
  }
 },
 "nbformat": 4,
 "nbformat_minor": 2
}
