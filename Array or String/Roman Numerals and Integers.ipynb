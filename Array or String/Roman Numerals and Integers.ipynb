{
 "cells": [
  {
   "cell_type": "markdown",
   "metadata": {},
   "source": [
    "# Roman to Integer\n",
    "\n",
    "$\\quad$ Roman numerals are represented by seven different symbols: I, V, X, L, C, D and M.\n",
    "\n",
    "<div align=\"center\">\n",
    "\n",
    "| Symbol | Value |\n",
    "|:------:|:-----:|\n",
    "|   I    |   1   |\n",
    "|   V    |   5   |\n",
    "|   X    |  10   |\n",
    "|   L    |  50   |\n",
    "|   C    | 100   |\n",
    "|   D    | 500   |\n",
    "|   M    | 1000  |\n",
    "\n",
    "</div>\n",
    "\n",
    "$\\quad$ For example, $2$ is written as II in Roman numeral, just two ones added together. $12$ is written as XII, which is simply X + II. The number $27$ is written as XXVII, which is XX + V + II.\n",
    "\n",
    "$\\quad$ Roman numerals are usually written largest to smallest from left to right. However, the numeral for four is not IIII. Instead, the number four is written as IV. Because the one is before the five we subtract it making four. The same principle applies to the number nine, which is written as IX. There are six instances where subtraction is used:\n",
    "- I can be placed before V ($5$) and X ($10$) to make $4$ and $9$. \n",
    "- X can be placed before L ($50$) and C ($100$) to make $40$ and $90$. \n",
    "- C can be placed before D ($500$) and M ($1000$) to make $400$ and $900$.\n",
    "\n",
    "$\\quad$ Given a roman numeral, convert it to an integer."
   ]
  },
  {
   "cell_type": "code",
   "execution_count": 2,
   "metadata": {},
   "outputs": [],
   "source": [
    "class Solution:\n",
    "    def romanToInt(self, s: str) -> int:\n",
    "        value_table = {\n",
    "            'I': 1,\n",
    "            'V': 5,\n",
    "            'X': 10,\n",
    "            'L': 50,\n",
    "            'C': 100,\n",
    "            'D': 500,\n",
    "            'M': 1000\n",
    "        }\n",
    "        result = 0\n",
    "        for i in range(len(s)):\n",
    "            if i == len(s)-1 or value_table[s[i]] >= value_table[s[i+1]]:\n",
    "                result += value_table[s[i]]\n",
    "            else:\n",
    "                result -= value_table[s[i]]\n",
    "        return result"
   ]
  },
  {
   "cell_type": "markdown",
   "metadata": {},
   "source": [
    "# Integer to Roman\n",
    "$\\quad$ Seven different symbols represent Roman numerals with the following values:\n",
    "<div align=\"center\">\n",
    "\n",
    "| Symbol | Value |\n",
    "|:------:|:-----:|\n",
    "|   I    |   1   |\n",
    "|   V    |   5   |\n",
    "|   X    |  10   |\n",
    "|   L    |  50   |\n",
    "|   C    | 100   |\n",
    "|   D    | 500   |\n",
    "|   M    | 1000  |\n",
    "\n",
    "</div>\n",
    "\n",
    "$\\quad$ Roman numerals are formed by appending the conversions of decimal place values from highest to lowest. Converting a decimal place value into a Roman numeral has the following rules:\n",
    "- If the value does not start with $4$ or $9$, select the symbol of the maximal value that can be subtracted from the input, append that symbol to the result, subtract its value, and convert the remainder to a Roman numeral.\n",
    "- If the value starts with $4$ or $9$ use the subtractive form representing one symbol subtracted from the following symbol, for example, $4$ is $1$ (I) less than $5$ (V): IV and $9$ is $1$ (I) less than $10$ (X): IX. Only the following subtractive forms are used: $4$ (IV), $9$ (IX), $40$ (XL), $90$ (XC), $400$ (CD) and $900$ (CM).\n",
    "- Only powers of $10$ (I, X, C, M) can be appended consecutively at most $3$ times to represent multiples of $10$. You cannot append $5$ (V), $50$ (L), or $500$ (D) multiple times. If you need to append a symbol $4$ times use the subtractive form.\n",
    "\n",
    "$\\quad$ Given an integer, convert it to a Roman numeral. Constraints: $1 \\le num\\le 3999$."
   ]
  },
  {
   "cell_type": "code",
   "execution_count": 3,
   "metadata": {},
   "outputs": [],
   "source": [
    "class Solution:\n",
    "    def intToRoman(self, num: int) -> str:\n",
    "        values = [1000, 900, 500, 400, 100, 90, 50, 40, 10, 9, 5, 4, 1]\n",
    "        symbols = ['M', 'CM', 'D', 'CD', 'C', 'XC', 'L', 'XL', 'X', 'IX', 'V', 'IV', 'I']\n",
    "\n",
    "        result = ''\n",
    "        for i in range(len(values)):\n",
    "            quotient = num//values[i]\n",
    "            result += symbols[i] * quotient\n",
    "            num -= quotient * values[i]\n",
    "        return result"
   ]
  },
  {
   "cell_type": "code",
   "execution_count": 4,
   "metadata": {},
   "outputs": [],
   "source": [
    "class Solution:\n",
    "    def intToRoman(self, num: int) -> str:\n",
    "        values = [1000, 900, 500, 400, 100, 90, 50, 40, 10, 9, 5, 4, 1]\n",
    "        symbols = ['M', 'CM', 'D', 'CD', 'C', 'XC', 'L', 'XL', 'X', 'IX', 'V', 'IV', 'I']\n",
    "\n",
    "        result = ''\n",
    "        for i in range(len(values)):\n",
    "            while values[i] <= num:\n",
    "                result += symbols[i]\n",
    "                num -= values[i]\n",
    "        return result"
   ]
  }
 ],
 "metadata": {
  "kernelspec": {
   "display_name": "base",
   "language": "python",
   "name": "python3"
  },
  "language_info": {
   "codemirror_mode": {
    "name": "ipython",
    "version": 3
   },
   "file_extension": ".py",
   "mimetype": "text/x-python",
   "name": "python",
   "nbconvert_exporter": "python",
   "pygments_lexer": "ipython3",
   "version": "3.11.7"
  }
 },
 "nbformat": 4,
 "nbformat_minor": 2
}
