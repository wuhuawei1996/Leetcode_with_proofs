{
 "cells": [
  {
   "cell_type": "markdown",
   "metadata": {},
   "source": [
    "# Best Time to Buy and Sell Stock I\n",
    "\n",
    "You are given an integer array `prices` where `prices[i]` is the price of a given stock on the <code>i<sup>th</sup></code> day.\n",
    "\n",
    "You want to maximize your profit by choosing a single day to buy one stock and choosing a different day in the future to sell that stock.\n",
    "\n",
    "Return the maximum profit you can achieve from this transaction. If you cannot achieve any profit, return `0`."
   ]
  },
  {
   "cell_type": "markdown",
   "metadata": {},
   "source": [
    "## Examples\n",
    "\n",
    "**Example 1:**\n",
    "```Python\n",
    "Input: prices = [7,1,5,3,6,4]\n",
    "Output: 5\n",
    "```\n",
    "Explanation: Buy on day 2 (price = 1) and sell on day 5 (price = 6), profit = 6-1 = 5.\n",
    "\n",
    "Note that buying on day 2 and selling on day 1 is not allowed because you must buy before you sell.\n",
    "\n",
    "**Example 2:**\n",
    "```Python\n",
    "Input: prices = [7,6,4,3,1]\n",
    "Output: 0\n",
    "```\n",
    "Explanation: In this case, no transactions are done and the max profit = 0."
   ]
  },
  {
   "cell_type": "markdown",
   "metadata": {},
   "source": [
    "## Analysis\n",
    "\n",
    "Assume that $prices = [a_0, a_1, ..., a_{n-1}]$. Let $M(prices)$ be the maximum profit we can achieve from this transaction. Assume further there exists $1\\le i_0\\le n-1$ such that $a_i\\ge a_0$ for any $0\\le i\\le i_0-1$ and $a_{i_0}<a_0$. We have\n",
    "$$M(prices) = \\max(M(prices[0:i_0]), M(prices[i_0:n-1]), A),$$\n",
    "where \n",
    "$$A=\\max\\Big(\\max\\limits_{\\substack{0\\le i\\le i_0-1\\\\i_0\\le j\\le n-1}}(a_j-a_i),0\\Big).$$\n",
    "Since $a_i\\ge a_0$ for any $0\\le i\\le i_0-1$, it is clear that\n",
    "$$M(prices[0:i_0]) =\\max\\limits_{1\\le i\\le i_0-1}(a_i-a_0).$$\n",
    "Moreover, for any $0\\le i\\le i_0-1$ and $i_0\\le j\\le n-1$, we have \n",
    "$$a_j-a_i<a_j-a_{i_0}\\le M(prices[i_0:n-1]),$$\n",
    "which implies that\n",
    "$$A< M(prices[i_0:n-1]).$$\n",
    "Hence \n",
    "$$M(prices) = \\max\\Big(\\max\\limits_{1\\le i\\le i_0-1}(a_i-a_0), M(prices[i_0:n-1])\\Big).$$"
   ]
  },
  {
   "cell_type": "code",
   "execution_count": null,
   "metadata": {},
   "outputs": [],
   "source": [
    "class Solution:\n",
    "    def maxProfit(self, prices: list[int]) -> int:\n",
    "        buy_price = prices[0]\n",
    "        profit = 0\n",
    "        for price in prices[1:]:\n",
    "            if price < buy_price:\n",
    "                buy_price = price\n",
    "            else:\n",
    "                profit = max(profit, price - buy_price)\n",
    "        return profit"
   ]
  },
  {
   "cell_type": "markdown",
   "metadata": {},
   "source": [
    "# Best Time to Buy and Sell Stock II\n",
    "You are given an integer array `prices` where `prices[i]` is the price of a given stock on the <code>i<sup>th</sup></code> day.\n",
    "\n",
    "On each day, you may decide to buy and/or sell the stock. You can only hold at most one share of the stock at any time. However, you can buy it then immediately sell it on the same day.\n",
    "\n",
    "Find and return the maximum profit you can achieve."
   ]
  },
  {
   "cell_type": "markdown",
   "metadata": {},
   "source": [
    "## Examples\n",
    "\n",
    "**Example 1:**\n",
    "```Python\n",
    "Input: prices = [7,1,5,3,6,4]\n",
    "Output: 7\n",
    "```\n",
    "Explanation: \n",
    "- Buy on day 2 (price = 1) and sell on day 3 (price = 5), profit = 5-1 = 4.\n",
    "- Then buy on day 4 (price = 3) and sell on day 5 (price = 6), profit = 6-3 = 3.\n",
    "- Total profit is 4 + 3 = 7.\n",
    "\n",
    "**Example 2:**\n",
    "```Python\n",
    "Input: prices = [1,2,3,4,5]\n",
    "Output: 4\n",
    "```\n",
    "Explanation: \n",
    "- Buy on day 1 (price = 1) and sell on day 5 (price = 5), profit = 5-1 = 4.\n",
    "- Total profit is 4.\n",
    "\n",
    "**Example 3:**\n",
    "```Python\n",
    "Input: prices = [7,6,4,3,1]\n",
    "Output: 0\n",
    "```\n",
    "Explanation: There is no way to make a positive profit, so we never buy the stock to achieve the maximum profit of 0."
   ]
  },
  {
   "cell_type": "markdown",
   "metadata": {},
   "source": [
    "## Analysis\n",
    "$\\quad$ Assume that $prices=[a_0, a_1, ..., a_{n-1}]$ and the most profitable plan is given by\n",
    "$$[a_{i_0},a_{j_0}],\\ [a_{i_1},a_{j_1}],\\ \\cdots,\\ [a_{i_m},a_{j_m}],$$\n",
    "where $m\\ge 0$ and $0=i_0<j_0\\le i_1<i_1\\le \\cdots\\le i_m<j_{m}$, meaning that we buy on the $i_k$-th day and sell on the $j_k$-th day for any $0\\le k\\le m$ (on all other days, we simply buy and sell on the same day). Since we can buy and sell on the same day, earning a profit of 0, we must have $a_{j_k}\\ge a_{i_k}$ for any $0\\le k\\le m$.\n",
    "\n",
    "$\\quad$ If there exist two indices $i_0\\le i_0'<j_0'\\le j_0$ such that $a_{i_0'}>a_{j_0'}$. Since \n",
    "$$\n",
    "\\begin{aligned}\n",
    "(a_{j_0}-a_{j_0'})+(a_{i_0'}-a_{i_0})=(a_{j_0}-a_{i_0})+(a_{i_0'}-a_{j_0'})>a_{i_1-1}-a_{i_0},\n",
    "\\end{aligned}\n",
    "$$\n",
    "if we buy on the $i_0$-th day and sell on the $i_0'$-th day, and buy on the $j_0'$-th day and sell on the $j_0$-th day (one of the transactions may result in a loss), we can earn more profit than buying on the $i_0$-th day and selling on the $j_0$-th day. This contradicts the assumption. Therefore, the prices from the $i_0$-th day to the $j_0$-th day should be non-decreasing. More generally, for any $0\\le k\\le m$, if $i_k<i_{k+1}-1$, the prices from the $i_k$-th day to the $j_k$-th day should be non-decreasing. In other words, in the most profitable plan, during periods of strictly monotonically decreasing prices, we should buy and sell every day.\n",
    "\n",
    "$\\quad$ The remaining task is to determine how to sell within periods where the prices are monotonically non-decreasing. Clearly, the most profitable plan in such periods is to buy on the first day and sell on the last day."
   ]
  },
  {
   "cell_type": "code",
   "execution_count": 2,
   "metadata": {},
   "outputs": [],
   "source": [
    "class Solution:\n",
    "    def maxProfit(self, prices: list[int]) -> int:\n",
    "        start = 0\n",
    "        profit = 0\n",
    "        for i in range(1, len(prices)):\n",
    "            if prices[i] < prices[i-1]:\n",
    "                # From day start to day i-1 (inclusive of both endpoints), the prices are monotonically non-decreasing.\n",
    "                profit += prices[i-1] - prices[start]\n",
    "                start = i\n",
    "\n",
    "        profit += prices[-1] - prices[start]    # Don't forget that the last segment might also be a monotonically non-decreasing period of prices.\n",
    "\n",
    "        return profit"
   ]
  }
 ],
 "metadata": {
  "kernelspec": {
   "display_name": "base",
   "language": "python",
   "name": "python3"
  },
  "language_info": {
   "codemirror_mode": {
    "name": "ipython",
    "version": 3
   },
   "file_extension": ".py",
   "mimetype": "text/x-python",
   "name": "python",
   "nbconvert_exporter": "python",
   "pygments_lexer": "ipython3",
   "version": "3.11.7"
  }
 },
 "nbformat": 4,
 "nbformat_minor": 2
}
