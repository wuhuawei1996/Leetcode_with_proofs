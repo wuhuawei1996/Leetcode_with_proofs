{
 "cells": [
  {
   "cell_type": "markdown",
   "metadata": {},
   "source": [
    "# Longest Substring Without Repeating Characters\n",
    "$\\quad$ Given a string $s$, find the length of the longest substring without repeating characters."
   ]
  },
  {
   "cell_type": "markdown",
   "metadata": {},
   "source": [
    "# Examples\n",
    "**Example 1:**<br>\n",
    "Input: $s$ = \"abcabcbb\"<br>\n",
    "Output: $3$<br>\n",
    "Explanation: The answer is \"abc\", with the length of $3$.\n",
    "\n",
    "**Example 2:**<br>\n",
    "Input: $s$ = \"bbbbb\"<br>\n",
    "Output: $1$<br>\n",
    "Explanation: The answer is \"b\", with the length of $1$.\n",
    "\n",
    "**Example 3:**<br>\n",
    "Input: $s$ = \"pwwkew\"<br>\n",
    "Output: $3$<br>\n",
    "Explanation: The answer is \"wke\", with the length of $3$.<br>\n",
    "Notice that the answer must be a substring, \"pwke\" is a subsequence and not a substring."
   ]
  },
  {
   "cell_type": "code",
   "execution_count": null,
   "metadata": {},
   "outputs": [],
   "source": [
    "class Solution:\n",
    "    def lengthOfLongestSubstring(self, s: str) -> int:\n",
    "        longest_length = 0\n",
    "        current_chars = set()\n",
    "        i = 0\n",
    "        for j, c in enumerate(s):\n",
    "            while c in current_chars:\n",
    "                current_chars.remove(s[i])\n",
    "                i += 1\n",
    "            current_chars.add(c)\n",
    "            longest_length = max(longest_length, j - i + 1) # Update longest_length here\n",
    "\n",
    "        return longest_length"
   ]
  },
  {
   "cell_type": "code",
   "execution_count": null,
   "metadata": {},
   "outputs": [],
   "source": [
    "class Solution:\n",
    "    def lengthOfLongestSubstring(self, s: str) -> int:\n",
    "        max_length = 0\n",
    "        left = 0\n",
    "        last_seen = {}\n",
    "\n",
    "        for right, c in enumerate(s):\n",
    "            if c in last_seen and last_seen[c] >= left: # The second condition here is creative\n",
    "                left = last_seen[c] + 1\n",
    "            \n",
    "            max_length = max(max_length, right - left + 1)\n",
    "            last_seen[c] = right\n",
    "\n",
    "        return max_length"
   ]
  }
 ],
 "metadata": {
  "kernelspec": {
   "display_name": "base",
   "language": "python",
   "name": "python3"
  },
  "language_info": {
   "name": "python",
   "version": "3.11.7"
  }
 },
 "nbformat": 4,
 "nbformat_minor": 2
}
