{
 "cells": [
  {
   "cell_type": "markdown",
   "metadata": {},
   "source": [
    "# Minimum Window Substring\n",
    "$\\quad$ Given two strings $s$ and $t$ of lengths $m$ and $n$ respectively, return the minimum window substring of $s$ such that every character in $t$ (including duplicates) is included in the window. If there is no such substring, return the empty string \"\".\n",
    "\n",
    "$\\quad$ The testcases will be generated such that the answer is unique."
   ]
  },
  {
   "cell_type": "markdown",
   "metadata": {},
   "source": [
    "# Examples\n",
    "**Example 1:**<br>\n",
    "Input: $s$ = \"ADOBECODEBANC\", $t$ = \"ABC\"<br>\n",
    "Output: \"BANC\"<br>\n",
    "Explanation: The minimum window substring \"BANC\" includes 'A', 'B', and 'C' from string $t$.\n",
    "\n",
    "**Example 2:**<br>\n",
    "Input: $s$ = \"a\", $t$ = \"a\"<br>\n",
    "Output: \"a\"<br>\n",
    "Explanation: The entire string $s$ is the minimum window.\n",
    "\n",
    "**Example 3:**<br>\n",
    "Input: $s$ = \"a\", $t$ = \"aa\"<br>\n",
    "Output: \"\"<br>\n",
    "Explanation: Both 'a's from $t$ must be included in the window. Since the largest window of s only has one 'a', return empty string.\n",
    " "
   ]
  },
  {
   "cell_type": "code",
   "execution_count": null,
   "metadata": {},
   "outputs": [],
   "source": [
    "# My solution, defeating 62.24%\n",
    "from collections import Counter, defaultdict\n",
    "\n",
    "\n",
    "class Solution:\n",
    "    def minWindow(self, s: str, t: str) -> str:\n",
    "        char_counter = Counter(t)\n",
    "        char_used_counter = defaultdict(int)\n",
    "        char_used_num = 0\n",
    "        start = 0\n",
    "        min_win_substr = (0, len(s) + 1)\n",
    "\n",
    "        for i, c in enumerate(s):\n",
    "            if c in char_counter:\n",
    "                if char_used_counter[c] < char_counter[c]:\n",
    "                    char_used_num += 1\n",
    "                char_used_counter[c] += 1\n",
    "                while char_used_num == len(t):\n",
    "                    if s[start] in char_counter:\n",
    "                        if i - start + 1 < min_win_substr[1] - min_win_substr[0]:\n",
    "                            min_win_substr = (start, i + 1)\n",
    "                        char_used_counter[s[start]] -= 1\n",
    "                        if char_used_counter[s[start]] < char_counter[s[start]]:\n",
    "                            char_used_num -= 1\n",
    "                    start += 1\n",
    "        return s[min_win_substr[0]: min_win_substr[1]] if min_win_substr[1] < len(s) + 1 else ''"
   ]
  },
  {
   "cell_type": "code",
   "execution_count": null,
   "metadata": {},
   "outputs": [],
   "source": [
    "# Solution on Leetcode, defeat 98.85%\n",
    "class Solution:\n",
    "    def minWindow(self, s: str, t: str) -> str:\n",
    "        if len(s) < len(t):\n",
    "            return \"\"\n",
    "\n",
    "        char_count = defaultdict(int)\n",
    "        for ch in t:\n",
    "            char_count[ch] += 1\n",
    "\n",
    "        target_chars_remaining = len(t)\n",
    "        min_window = (0, float(\"inf\"))\n",
    "        start_index = 0\n",
    "\n",
    "        for end_index, ch in enumerate(s):\n",
    "            if char_count[ch] > 0:\n",
    "                target_chars_remaining -= 1\n",
    "            char_count[ch] -= 1\n",
    "\n",
    "            if target_chars_remaining == 0:\n",
    "                while True:\n",
    "                    char_at_start = s[start_index]\n",
    "                    if char_count[char_at_start] == 0:\n",
    "                        break\n",
    "                    char_count[char_at_start] += 1\n",
    "                    start_index += 1\n",
    "\n",
    "                if end_index - start_index < min_window[1] - min_window[0]:\n",
    "                    min_window = (start_index, end_index)\n",
    "\n",
    "                char_count[s[start_index]] += 1\n",
    "                target_chars_remaining += 1\n",
    "                start_index += 1\n",
    "\n",
    "        return \"\" if min_window[1] > len(s) else s[min_window[0]:min_window[1]+1]"
   ]
  }
 ],
 "metadata": {
  "kernelspec": {
   "display_name": "base",
   "language": "python",
   "name": "python3"
  },
  "language_info": {
   "name": "python",
   "version": "3.11.7"
  }
 },
 "nbformat": 4,
 "nbformat_minor": 2
}
