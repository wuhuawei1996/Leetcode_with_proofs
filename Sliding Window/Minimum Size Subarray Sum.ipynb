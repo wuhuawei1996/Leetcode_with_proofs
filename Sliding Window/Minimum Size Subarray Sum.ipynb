{
 "cells": [
  {
   "cell_type": "markdown",
   "metadata": {},
   "source": [
    "# Minimum Size Subarray Sum\n",
    "$\\quad$ Given an array of positive integers $nums$ and a positive integer $target$, return the minimal length of a subarray whose sum is greater than or equal to target. If there is no such subarray, return $0$ instead.\n",
    "\n",
    "$\\quad$ Note that a subarray is a contiguous non-empty sequence of elements within an array."
   ]
  },
  {
   "cell_type": "markdown",
   "metadata": {},
   "source": [
    "# Examples\n",
    "**Example 1:**<br>\n",
    "Input: $target = 7$, $nums = [2,3,1,2,4,3]$<br>\n",
    "Output: $2$<br>\n",
    "Explanation: The subarray $[4,3]$ has the minimal length under the problem constraint.\n",
    "\n",
    "**Example 2:**<br>\n",
    "Input: $target = 4$, $nums = [1,4,4]$<br>\n",
    "Output: $1$\n",
    "\n",
    "**Example 3:**<br>\n",
    "Input: $target = 11$, $nums = [1,1,1,1,1,1,1,1]$<br>\n",
    "Output: $0$"
   ]
  },
  {
   "cell_type": "code",
   "execution_count": 2,
   "metadata": {},
   "outputs": [],
   "source": [
    "# Time Complexity: O(n)\n",
    "# Space Complexity: O(1)\n",
    "# Note that the time complexity is O(n) since the total number of iterations of the inner loop will not exceed n\n",
    "class Solution:\n",
    "    def minSubArrayLen(self, target: int, nums: list[int]) -> int:\n",
    "        i = 0\n",
    "        j = 0\n",
    "        current_sum = 0\n",
    "        min_length = len(nums) + 1\n",
    "        for j in range(len(nums)):\n",
    "            current_sum += nums[j]\n",
    "            while current_sum >= target:\n",
    "                min_length = min(min_length, j - i + 1)\n",
    "                current_sum -= nums[i]\n",
    "                i += 1\n",
    "                \n",
    "        return 0 if min_length == len(nums) + 1 else min_length"
   ]
  }
 ],
 "metadata": {
  "kernelspec": {
   "display_name": "base",
   "language": "python",
   "name": "python3"
  },
  "language_info": {
   "codemirror_mode": {
    "name": "ipython",
    "version": 3
   },
   "file_extension": ".py",
   "mimetype": "text/x-python",
   "name": "python",
   "nbconvert_exporter": "python",
   "pygments_lexer": "ipython3",
   "version": "3.11.7"
  }
 },
 "nbformat": 4,
 "nbformat_minor": 2
}
