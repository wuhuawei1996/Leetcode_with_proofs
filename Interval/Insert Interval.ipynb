{
 "cells": [
  {
   "cell_type": "markdown",
   "metadata": {},
   "source": [
    "# Insert Interval\n",
    "$\\quad$ You are given an array of non-overlapping intervals $intervals$ where $intervals[i] = [start_i, end_i]$ represent the start and the end of the $i$-th interval and $intervals$ is sorted in ascending order by $start_i$. You are also given an interval $newInterval = [start, end]$ that represents the start and end of another interval.\n",
    "\n",
    "$\\quad$ Insert $newInterval$ into $intervals$ such that $intervals$ is still sorted in ascending order by $start_i$ and $intervals$ still does not have any overlapping intervals (merge overlapping intervals if necessary).\n",
    "\n",
    "$\\quad$ Return $intervals$ after the insertion.\n",
    "\n",
    "$\\quad$ Note that you don't need to modify $intervals$ in-place. You can make a new array and return it."
   ]
  },
  {
   "cell_type": "markdown",
   "metadata": {},
   "source": [
    "# Examples\n",
    "**Example 1:**<br>\n",
    "Input: $intervals = [[1,3],[6,9]]$, $newInterval = [2,5]$<br>\n",
    "Output: $[[1,5],[6,9]]$\n",
    "\n",
    "**Example 2:**<br>\n",
    "Input: $intervals = [[1,2],[3,5],[6,7],[8,10],[12,16]]$, $newInterval = [4,8]$<br>\n",
    "Output: $[[1,2],[3,10],[12,16]]$<br>\n",
    "Explanation: Because the new interval $[4,8]$ overlaps with $[3,5],[6,7],[8,10]$."
   ]
  },
  {
   "cell_type": "code",
   "execution_count": 1,
   "metadata": {},
   "outputs": [],
   "source": [
    "class Solution:\n",
    "    def insert(\n",
    "        self, intervals: list[list[int]], newInterval: list[int]\n",
    "    ) -> list[list[int]]:\n",
    "        if len(intervals) == 0:\n",
    "            return [newInterval]\n",
    "        start = 0\n",
    "        while start < len(intervals) and intervals[start][1] < newInterval[0]:\n",
    "            start += 1\n",
    "\n",
    "        end = start\n",
    "        while end < len(intervals) and intervals[end][0] <= newInterval[1]:\n",
    "            newInterval[0] = min(newInterval[0], intervals[end][0])\n",
    "            newInterval[1] = max(newInterval[1], intervals[end][1])\n",
    "            end += 1\n",
    "        return intervals[0:start] + [newInterval] + intervals[end:]"
   ]
  }
 ],
 "metadata": {
  "kernelspec": {
   "display_name": "base",
   "language": "python",
   "name": "python3"
  },
  "language_info": {
   "codemirror_mode": {
    "name": "ipython",
    "version": 3
   },
   "file_extension": ".py",
   "mimetype": "text/x-python",
   "name": "python",
   "nbconvert_exporter": "python",
   "pygments_lexer": "ipython3",
   "version": "3.11.7"
  }
 },
 "nbformat": 4,
 "nbformat_minor": 2
}
